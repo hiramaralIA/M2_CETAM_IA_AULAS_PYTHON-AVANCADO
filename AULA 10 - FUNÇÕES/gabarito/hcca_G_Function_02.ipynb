{
  "cells": [
    {
      "cell_type": "markdown",
      "metadata": {
        "id": "view-in-github",
        "colab_type": "text"
      },
      "source": [
        "<a href=\"https://colab.research.google.com/github/hiramaralIA/M2_CETAM_IA_AULAS_PYTHON-AVANCADO/blob/main/hcca_G_Function_02.ipynb\" target=\"_parent\"><img src=\"https://colab.research.google.com/assets/colab-badge.svg\" alt=\"Open In Colab\"/></a>"
      ]
    },
    {
      "cell_type": "markdown",
      "metadata": {
        "id": "k2YTgB_OYtD7"
      },
      "source": [
        "# Retornar um valor na Function Python\n",
        "\n",
        "### Estrutura Básica"
      ]
    },
    {
      "cell_type": "raw",
      "metadata": {
        "id": "WwUEbMN9YtEB"
      },
      "source": [
        "def nome_funcao():\n",
        "    return valor_final"
      ]
    },
    {
      "cell_type": "markdown",
      "metadata": {
        "id": "FyYJ7lQ-YtEC"
      },
      "source": [
        "- Exemplo: vamos criar uma função de cadastro de um Produto. Essa função deve garantir que o produto cadastrado está em letra minúscula."
      ]
    },
    {
      "cell_type": "code",
      "execution_count": null,
      "metadata": {
        "id": "_lVTvu6YYtED"
      },
      "outputs": [],
      "source": [
        "def cadastrar_produto():\n",
        "    produto = input('Digite o nome do produto que deseja cadastrar')\n",
        "    produto = produto.casefold()\n",
        "    produto = produto.strip()\n",
        "    return produto\n"
      ]
    },
    {
      "cell_type": "code",
      "execution_count": null,
      "metadata": {
        "id": "m-ZfaZfBYtEF",
        "outputId": "b11c3c5b-f88c-47f6-a498-8386da91e5de"
      },
      "outputs": [
        {
          "name": "stdout",
          "output_type": "stream",
          "text": [
            "Digite o nome do produto que deseja cadastrarFeijaO\n",
            "feijao\n"
          ]
        }
      ],
      "source": [
        "produto = cadastrar_produto()\n",
        "\n",
        "print(produto)"
      ]
    }
  ],
  "metadata": {
    "kernelspec": {
      "display_name": "Python 3",
      "language": "python",
      "name": "python3"
    },
    "language_info": {
      "codemirror_mode": {
        "name": "ipython",
        "version": 3
      },
      "file_extension": ".py",
      "mimetype": "text/x-python",
      "name": "python",
      "nbconvert_exporter": "python",
      "pygments_lexer": "ipython3",
      "version": "3.8.3"
    },
    "colab": {
      "name": "Gabarito - Function 02.ipynb",
      "provenance": [],
      "include_colab_link": true
    }
  },
  "nbformat": 4,
  "nbformat_minor": 0
}