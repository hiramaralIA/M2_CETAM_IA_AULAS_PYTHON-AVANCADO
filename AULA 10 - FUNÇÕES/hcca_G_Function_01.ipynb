{
  "cells": [
    {
      "cell_type": "markdown",
      "metadata": {
        "id": "view-in-github",
        "colab_type": "text"
      },
      "source": [
        "<a href=\"https://colab.research.google.com/github/hiramaralIA/M2_CETAM_IA_AULAS_PYTHON-AVANCADO/blob/main/hcca_G_Function_01.ipynb\" target=\"_parent\"><img src=\"https://colab.research.google.com/assets/colab-badge.svg\" alt=\"Open In Colab\"/></a>"
      ]
    },
    {
      "cell_type": "markdown",
      "metadata": {
        "id": "Eo3XsA6FrG8K"
      },
      "source": [
        "# Function Python\n",
        "\n",
        "### O que é?\n",
        "\n",
        "As functions são blocos de código que servem 1 único propósito, fazem uma ação específica.\n",
        "\n",
        "### Estrutura Básica"
      ]
    },
    {
      "cell_type": "raw",
      "metadata": {
        "id": "DCzbHEKDrG8V"
      },
      "source": [
        "def nome_funcao():\n",
        "    faça alguma coisa\n",
        "    faça outra coisa\n",
        "    return valor_final"
      ]
    },
    {
      "cell_type": "markdown",
      "metadata": {
        "id": "IHzojmqHrG8W"
      },
      "source": [
        "- Exemplo: vamos criar uma função de cadastro de um Produto. Essa função deve garantir que o produto cadastrado está em letra minúscula."
      ]
    },
    {
      "cell_type": "code",
      "execution_count": null,
      "metadata": {
        "id": "n8iaGeB_rG8X"
      },
      "outputs": [],
      "source": [
        "def cadastrar_produto():\n",
        "    produto = input('Digite o nome do produto que deseja cadastrar')\n",
        "    produto = produto.casefold()\n",
        "    print('Produto {} cadastrado com sucesso'.format(produto))\n",
        "    \n"
      ]
    },
    {
      "cell_type": "code",
      "execution_count": null,
      "metadata": {
        "id": "Vlib6LYirG8Y",
        "outputId": "28e2fdb6-526a-494e-adaa-9f51957d4738"
      },
      "outputs": [
        {
          "name": "stdout",
          "output_type": "stream",
          "text": [
            "Digite o nome do produto que deseja cadastrarFeijAO\n",
            "Produto feijao cadastrado com sucesso\n",
            "Digite o nome do produto que deseja cadastrarMACARRao\n",
            "Produto macarrao cadastrado com sucesso\n",
            "Digite o nome do produto que deseja cadastrarArroZ\n",
            "Produto arroz cadastrado com sucesso\n"
          ]
        }
      ],
      "source": [
        "for i in range(3):\n",
        "    cadastrar_produto()"
      ]
    }
  ],
  "metadata": {
    "kernelspec": {
      "display_name": "Python 3",
      "language": "python",
      "name": "python3"
    },
    "language_info": {
      "codemirror_mode": {
        "name": "ipython",
        "version": 3
      },
      "file_extension": ".py",
      "mimetype": "text/x-python",
      "name": "python",
      "nbconvert_exporter": "python",
      "pygments_lexer": "ipython3",
      "version": "3.8.5"
    },
    "colab": {
      "name": "Gabarito - Function 01.ipynb",
      "provenance": [],
      "include_colab_link": true
    }
  },
  "nbformat": 4,
  "nbformat_minor": 0
}