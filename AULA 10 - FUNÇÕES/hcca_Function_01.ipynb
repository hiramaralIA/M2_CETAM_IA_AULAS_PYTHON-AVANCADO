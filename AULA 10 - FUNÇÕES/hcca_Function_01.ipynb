{
 "cells": [
  {
   "cell_type": "markdown",
   "metadata": {
    "colab_type": "text",
    "id": "view-in-github"
   },
   "source": [
    "<a href=\"https://colab.research.google.com/github/hiramaralIA/M2_CETAM_IA_AULAS_PYTHON-AVANCADO/blob/main/hcca_Function_01.ipynb\" target=\"_parent\"><img src=\"https://colab.research.google.com/assets/colab-badge.svg\" alt=\"Open In Colab\"/></a>"
   ]
  },
  {
   "cell_type": "markdown",
   "metadata": {
    "id": "TH40qLqBrHF6"
   },
   "source": [
    "# Function Python\n",
    "\n",
    "### O que é?\n",
    "\n",
    "As functions são blocos de código que servem 1 único propósito, fazem uma ação específica.\n",
    "\n",
    "### Estrutura Básica"
   ]
  },
  {
   "cell_type": "raw",
   "metadata": {
    "id": "6Q5BkZLbrHGA"
   },
   "source": [
    "def nome_funcao():\n",
    "    faça alguma coisa\n",
    "    faça outra coisa\n",
    "    return valor_final"
   ]
  },
  {
   "cell_type": "markdown",
   "metadata": {
    "id": "cRorpwuUrHGB"
   },
   "source": [
    "- Exemplo: vamos criar uma função de cadastro de um Produto. Essa função deve garantir que o produto cadastrado está em letra minúscula."
   ]
  },
  {
   "cell_type": "code",
   "execution_count": 3,
   "metadata": {
    "id": "bqJ190KyrHGC"
   },
   "outputs": [
    {
     "name": "stdout",
     "output_type": "stream",
     "text": [
      "[10, 50, 60, 80, 80, 200, 200, 7771]\n"
     ]
    }
   ],
   "source": [
    "lista = [200, 7771, 80, 200, 50, 60, 80, 10]\n",
    "lista.sort()\n",
    "print(lista)"
   ]
  },
  {
   "cell_type": "code",
   "execution_count": 6,
   "metadata": {},
   "outputs": [
    {
     "name": "stdout",
     "output_type": "stream",
     "text": [
      "digite o nome do produto que desseja cadastrar maria\n",
      "produto maria cadastrado com sucesso\n"
     ]
    }
   ],
   "source": [
    "produto = input('digite o nome do produto que desseja cadastrar ')\n",
    "produto = produto.casefold()\n",
    "print('produto {} cadastrado com sucesso' .format(produto))"
   ]
  },
  {
   "cell_type": "code",
   "execution_count": 7,
   "metadata": {},
   "outputs": [],
   "source": [
    "def cadastrar_produto():\n",
    "    produto = input('digite o nome do produto que desseja cadastrar ')\n",
    "    produto = produto.casefold()\n",
    "    print('produto {} cadastrado com sucesso' .format(produto))"
   ]
  },
  {
   "cell_type": "code",
   "execution_count": 8,
   "metadata": {},
   "outputs": [
    {
     "name": "stdout",
     "output_type": "stream",
     "text": [
      "digite o nome do produto que desseja cadastrar maria\n",
      "produto maria cadastrado com sucesso\n"
     ]
    }
   ],
   "source": [
    "cadastrar_produto()"
   ]
  },
  {
   "cell_type": "code",
   "execution_count": 9,
   "metadata": {},
   "outputs": [
    {
     "name": "stdout",
     "output_type": "stream",
     "text": [
      "digite o nome do produto que desseja cadastrar cafe\n",
      "produto cafe cadastrado com sucesso\n",
      "digite o nome do produto que desseja cadastrar feijao\n",
      "produto feijao cadastrado com sucesso\n",
      "digite o nome do produto que desseja cadastrar arroz\n",
      "produto arroz cadastrado com sucesso\n"
     ]
    }
   ],
   "source": [
    "for i in range(3):\n",
    "    cadastrar_produto()"
   ]
  },
  {
   "cell_type": "code",
   "execution_count": null,
   "metadata": {},
   "outputs": [],
   "source": [
    "def cadastrar_produto():\n",
    "    produto = input('digite o nome do produto que desseja cadastrar ')\n",
    "    produto = produto.casefold()\n",
    "    produto = produto.casefold()\n",
    "    print('produto {} cadastrado com sucesso' .format(produto))"
   ]
  },
  {
   "cell_type": "code",
   "execution_count": 11,
   "metadata": {},
   "outputs": [
    {
     "name": "stdout",
     "output_type": "stream",
     "text": [
      "digite o nome do produto que desseja cadastrar maça\n",
      "produto maça cadastrado com sucesso\n"
     ]
    }
   ],
   "source": [
    "cadastrar_produto()"
   ]
  },
  {
   "cell_type": "code",
   "execution_count": 12,
   "metadata": {},
   "outputs": [],
   "source": [
    "def cadastrar_produto():\n",
    "    produto = input('digite o nome do produto que desseja cadastrar ')\n",
    "    produto = produto.casefold()\n",
    "    produto = produto.casefold()\n",
    "    return produto"
   ]
  },
  {
   "cell_type": "code",
   "execution_count": 13,
   "metadata": {},
   "outputs": [
    {
     "name": "stdout",
     "output_type": "stream",
     "text": [
      "digite o nome do produto que desseja cadastrar maça\n",
      "maça\n"
     ]
    }
   ],
   "source": [
    "produto = cadastrar_produto()\n",
    "print(produto)"
   ]
  },
  {
   "cell_type": "code",
   "execution_count": 15,
   "metadata": {},
   "outputs": [
    {
     "name": "stdout",
     "output_type": "stream",
     "text": [
      "digite o nome do produto que desseja cadastrar maça\n",
      "maça\n",
      "digite o nome do produto que desseja cadastrar cafe\n",
      "cafe\n",
      "digite o nome do produto que desseja cadastrar laranja\n",
      "laranja\n"
     ]
    }
   ],
   "source": [
    "for i in range(3):\n",
    "    produto = cadastrar_produto()\n",
    "    print(produto)"
   ]
  },
  {
   "cell_type": "markdown",
   "metadata": {},
   "source": [
    "def minha_funcao(parametro1, parametro2, parametro3):\n",
    "    return parametro1 + parametro2 + parametro3"
   ]
  },
  {
   "cell_type": "code",
   "execution_count": null,
   "metadata": {},
   "outputs": [],
   "source": [
    "def minha_funcao(parametro1, parametro2, parametro3):\n",
    "    return parametro1 + parametro2 + parametro3"
   ]
  },
  {
   "cell_type": "code",
   "execution_count": 16,
   "metadata": {},
   "outputs": [
    {
     "name": "stdout",
     "output_type": "stream",
     "text": [
      "60\n"
     ]
    }
   ],
   "source": [
    "def minha_soma(num1, num2, num3):\n",
    "    return num1 + num2 + num3\n",
    "\n",
    "soma = minha_soma (10, 20, 30)\n",
    "print(soma)"
   ]
  },
  {
   "cell_type": "code",
   "execution_count": null,
   "metadata": {},
   "outputs": [],
   "source": []
  }
 ],
 "metadata": {
  "colab": {
   "include_colab_link": true,
   "name": "Function 01.ipynb",
   "provenance": []
  },
  "kernelspec": {
   "display_name": "Python 3 (ipykernel)",
   "language": "python",
   "name": "python3"
  },
  "language_info": {
   "codemirror_mode": {
    "name": "ipython",
    "version": 3
   },
   "file_extension": ".py",
   "mimetype": "text/x-python",
   "name": "python",
   "nbconvert_exporter": "python",
   "pygments_lexer": "ipython3",
   "version": "3.9.7"
  }
 },
 "nbformat": 4,
 "nbformat_minor": 1
}
