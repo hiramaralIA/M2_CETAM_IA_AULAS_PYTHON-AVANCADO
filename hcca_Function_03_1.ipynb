{
  "cells": [
    {
      "cell_type": "markdown",
      "metadata": {
        "id": "view-in-github",
        "colab_type": "text"
      },
      "source": [
        "<a href=\"https://colab.research.google.com/github/hiramaralIA/M2_CETAM_IA_AULAS_PYTHON-AVANCADO/blob/main/hcca_Function_03_1.ipynb\" target=\"_parent\"><img src=\"https://colab.research.google.com/assets/colab-badge.svg\" alt=\"Open In Colab\"/></a>"
      ]
    },
    {
      "cell_type": "markdown",
      "metadata": {
        "id": "mxwhJn7fXiZv"
      },
      "source": [
        "# Argumentos/Parâmetros da Função\n",
        "\n",
        "### Estrutura:"
      ]
    },
    {
      "cell_type": "raw",
      "metadata": {
        "id": "Nq26SxoRXiZz"
      },
      "source": [
        "def minha_funcao(parametro1, parametro2, parametro3):\n",
        "    return parametro1 + parametro2 + parametro3"
      ]
    },
    {
      "cell_type": "markdown",
      "metadata": {
        "id": "ZVx2U8ASXiZz"
      },
      "source": [
        "- Exemplo: nosso famoso print"
      ]
    },
    {
      "cell_type": "code",
      "execution_count": null,
      "metadata": {
        "id": "2jZTIehtXiZ0",
        "outputId": "d7812ade-bd11-4d6c-e300-37c2c383718e"
      },
      "outputs": [
        {
          "name": "stdout",
          "output_type": "stream",
          "text": [
            "Produto Iphone Vendas 50\n"
          ]
        }
      ],
      "source": [
        "vendas = 50\n",
        "print('Produto', 'Iphone', 'Vendas', vendas)"
      ]
    },
    {
      "cell_type": "markdown",
      "metadata": {
        "id": "iV2KUMPSXiZ2"
      },
      "source": [
        "- Só para mostrar o funcionamento, vamos criar uma função de soma"
      ]
    },
    {
      "cell_type": "code",
      "execution_count": null,
      "metadata": {
        "id": "iWN1IFhNXiZ2",
        "outputId": "0dd7ec49-ce2d-4cbd-c98a-da520d4521c7"
      },
      "outputs": [
        {
          "name": "stdout",
          "output_type": "stream",
          "text": [
            "30\n"
          ]
        }
      ],
      "source": [
        "def minha_soma(num1, num2, num3):\n",
        "    return num1 + num2 + num3\n",
        "\n",
        "\n",
        "soma = minha_soma(10, 20, 0)\n",
        "print(soma)"
      ]
    },
    {
      "cell_type": "markdown",
      "metadata": {
        "id": "wbsi4-e0XiZ3"
      },
      "source": [
        "- Vamos criar uma function com parâmetro\n",
        "\n",
        "Digamos que estamos criando um programa para categorizar os produtos de uma revendedora de bebidas.\n",
        "\n",
        "Cada produto tem um código. O tipo de produto é dado pelas 3 primeiras letras do código.\n",
        "\n",
        "Ex:<br>\n",
        "Vinho -> BEB12302<br>\n",
        "Cerveja -> BEB12043<br>\n",
        "Vodka -> BEB34501<br>\n",
        "\n",
        "Guaraná -> BSA11104<br>\n",
        "Coca -> BSA54301<br>\n",
        "Sprite -> BSA34012<br>\n",
        "Água -> BSA09871<br>\n",
        "\n",
        "Repare que bebidas não alcóolicas começam com BSA e bebidas alcoolicas começam com BEB.\n",
        "\n",
        "Crie um programa que analise uma lista de produtos e envie instruções para a equipe de estoque dizendo quais produtos devem ser enviados para a área de bebidas alcóolicas."
      ]
    },
    {
      "cell_type": "code",
      "execution_count": null,
      "metadata": {
        "id": "yOBobONsXiZ4",
        "outputId": "3cbb5cbb-29f8-42b0-c80f-18548e3b3ca9"
      },
      "outputs": [
        {
          "name": "stdout",
          "output_type": "stream",
          "text": [
            "Enviar beb46275 para setor de bebidas alcóolicas\n",
            "Enviar BEB21365 para setor de bebidas alcóolicas\n",
            "Enviar BEB31623 para setor de bebidas alcóolicas\n",
            "Enviar BEB73344 para setor de bebidas alcóolicas\n",
            "Enviar BEB80694 para setor de bebidas alcóolicas\n",
            "Enviar BEB19495 para setor de bebidas alcóolicas\n",
            "Enviar BEB97471 para setor de bebidas alcóolicas\n",
            "Enviar BEB62362 para setor de bebidas alcóolicas\n",
            "Enviar BEB85146 para setor de bebidas alcóolicas\n",
            "Enviar BEB48898 para setor de bebidas alcóolicas\n",
            "Enviar BEB79496 para setor de bebidas alcóolicas\n",
            "Enviar BEB15385 para setor de bebidas alcóolicas\n",
            "Enviar BEB24213 para setor de bebidas alcóolicas\n",
            "Enviar BEB56262 para setor de bebidas alcóolicas\n",
            "Enviar BEB75073 para setor de bebidas alcóolicas\n"
          ]
        }
      ],
      "source": [
        "produtos = ['beb46275','TFA23962','TFA64715','TFA69555','TFA56743','BSA45510','TFA44968','CAR75448','CAR23596','CAR13490','BEB21365','BEB31623','BSA62419','BEB73344','TFA20079','BEB80694','BSA11769','BEB19495','TFA14792','TFA78043','BSA33484','BEB97471','BEB62362','TFA27311','TFA17715','BEB85146','BEB48898','BEB79496','CAR38417','TFA19947','TFA58799','CAR94811','BSA59251','BEB15385','BEB24213','BEB56262','BSA96915','CAR53454','BEB75073']\n"
      ]
    }
  ],
  "metadata": {
    "kernelspec": {
      "display_name": "Python 3",
      "language": "python",
      "name": "python3"
    },
    "language_info": {
      "codemirror_mode": {
        "name": "ipython",
        "version": 3
      },
      "file_extension": ".py",
      "mimetype": "text/x-python",
      "name": "python",
      "nbconvert_exporter": "python",
      "pygments_lexer": "ipython3",
      "version": "3.8.3"
    },
    "colab": {
      "name": "Function 03.1.ipynb",
      "provenance": [],
      "include_colab_link": true
    }
  },
  "nbformat": 4,
  "nbformat_minor": 0
}