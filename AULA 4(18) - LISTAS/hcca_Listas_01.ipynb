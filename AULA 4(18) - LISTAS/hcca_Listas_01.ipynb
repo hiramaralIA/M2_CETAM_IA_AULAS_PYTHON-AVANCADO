{
 "cells": [
  {
   "cell_type": "markdown",
   "metadata": {
    "colab_type": "text",
    "id": "view-in-github"
   },
   "source": [
    "<a href=\"https://colab.research.google.com/github/hiramaralIA/CETAM_IA_AULAS_PYTHON/blob/main/hcca_Listas_01.ipynb\" target=\"_parent\"><img src=\"https://colab.research.google.com/assets/colab-badge.svg\" alt=\"Open In Colab\"/></a>"
   ]
  },
  {
   "cell_type": "markdown",
   "metadata": {
    "id": "ObCsqiWCqN3n"
   },
   "source": [
    "# Listas em Python\n",
    "\n",
    "## Estrutura:\n",
    "\n",
    "lista = [valor, valor, valor, valor, ...]\n",
    "\n",
    "- Lista é um dos objetos mais importantes de Python, por isso vamos trabalhar bastante neles\n",
    "- Quando importamos uma base de dados para o Python, normalmente ele é lido como uma \"lista\" ou como alguma \"variação de lista\"\n",
    "- Listas em Python foram feitas para serem homogêneas, apesar de aceitarem valores heterogêneos\n",
    "- Exemplos de Lista:\n",
    "\n",
    "Listas de Produtos de uma Loja:"
   ]
  },
  {
   "cell_type": "code",
   "execution_count": null,
   "metadata": {
    "id": "R69MdVfSqN3s"
   },
   "outputs": [],
   "source": [
    "produtos = ['tv', 'celular', 'mouse', 'teclado', 'tablet']"
   ]
  },
  {
   "cell_type": "markdown",
   "metadata": {
    "id": "SwUq5FEQqN3t"
   },
   "source": [
    "Lista de Unidades Vendidas de cada Produto da Loja"
   ]
  },
  {
   "cell_type": "code",
   "execution_count": null,
   "metadata": {
    "id": "bFBcxoA_qN3u"
   },
   "outputs": [],
   "source": [
    "vendas = [1000, 1500, 350, 270, 900]"
   ]
  }
 ],
 "metadata": {
  "colab": {
   "include_colab_link": true,
   "name": "Listas 01.ipynb",
   "provenance": []
  },
  "kernelspec": {
   "display_name": "Python 3 (ipykernel)",
   "language": "python",
   "name": "python3"
  },
  "language_info": {
   "codemirror_mode": {
    "name": "ipython",
    "version": 3
   },
   "file_extension": ".py",
   "mimetype": "text/x-python",
   "name": "python",
   "nbconvert_exporter": "python",
   "pygments_lexer": "ipython3",
   "version": "3.9.7"
  }
 },
 "nbformat": 4,
 "nbformat_minor": 1
}
