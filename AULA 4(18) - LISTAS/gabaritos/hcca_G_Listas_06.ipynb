{
  "cells": [
    {
      "cell_type": "markdown",
      "metadata": {
        "id": "view-in-github",
        "colab_type": "text"
      },
      "source": [
        "<a href=\"https://colab.research.google.com/github/hiramaralIA/CETAM_IA_AULAS_PYTHON/blob/main/hcca_G_Listas_06.ipynb\" target=\"_parent\"><img src=\"https://colab.research.google.com/assets/colab-badge.svg\" alt=\"Open In Colab\"/></a>"
      ]
    },
    {
      "cell_type": "markdown",
      "metadata": {
        "id": "GUJMyEM1zJmf"
      },
      "source": [
        "# Juntar Listas, Ordenar e Cuidados Especiais\n",
        "\n",
        "### 2 formas:\n",
        "\n",
        "- lista1.extend(lista2)\n",
        "- lista_nova = lista1 + lista2\n",
        "\n",
        "Obs: o Método .append não junta listas, mas adiciona um valor no final da lista"
      ]
    },
    {
      "cell_type": "code",
      "execution_count": null,
      "metadata": {
        "id": "ZT5w3XTuzJmj",
        "outputId": "89ba160c-51d8-4871-8717-8c39ba84aa49"
      },
      "outputs": [
        {
          "name": "stdout",
          "output_type": "stream",
          "text": [
            "['apple tv', 'mac', 'iphone x', 'iphone 11', 'IPad', 'apple watch', 'mac book', 'airpods', 'iphone 12', 'ioculos']\n"
          ]
        }
      ],
      "source": [
        "produtos = ['apple tv', 'mac', 'iphone x', 'iphone 11', 'IPad', 'apple watch', 'mac book', 'airpods']\n",
        "novos_produtos = ['iphone 12', 'ioculos']\n",
        "\n",
        "todos_produtos = produtos + novos_produtos\n",
        "print(todos_produtos)"
      ]
    },
    {
      "cell_type": "markdown",
      "metadata": {
        "id": "f5Yu2LlBzJml"
      },
      "source": [
        "### Cuidado:\n",
        "\n",
        "- [1] + [2] não é a mesma coisa que 1 + 2, então cuidado sempre com o formato dos valores na hora de fazer operações."
      ]
    },
    {
      "cell_type": "code",
      "execution_count": null,
      "metadata": {
        "id": "9ixM4BgVzJmm",
        "outputId": "793faf7d-581d-4007-d651-b150a446f0dc"
      },
      "outputs": [
        {
          "name": "stdout",
          "output_type": "stream",
          "text": [
            "35000\n",
            "35000\n"
          ]
        }
      ],
      "source": [
        "vendas = [1000, 1500, 15000, 20000, 270, 900, 100, 1200]\n",
        "vendas_iphonex = [15000]\n",
        "vendas_iphone11 = [20000]\n",
        "\n",
        "total_iphone = vendas[2] + vendas[3]\n",
        "total_iphone_listas = vendas_iphonex[0] + vendas_iphone11[0]\n",
        "print(total_iphone)\n",
        "print(total_iphone_listas)"
      ]
    },
    {
      "cell_type": "markdown",
      "metadata": {
        "id": "QYMOwtUpzJmn"
      },
      "source": [
        "### Ordenar listas\n",
        "\n",
        "lista.sort()"
      ]
    },
    {
      "cell_type": "code",
      "execution_count": null,
      "metadata": {
        "id": "CPfB2sFuzJmn",
        "outputId": "c040845b-35de-4be3-f6ec-084287a85e01"
      },
      "outputs": [
        {
          "name": "stdout",
          "output_type": "stream",
          "text": [
            "[100, 270, 900, 1000, 1200, 1500, 15000, 20000]\n"
          ]
        }
      ],
      "source": [
        "vendas.sort(reverse=False)\n",
        "print(vendas)"
      ]
    }
  ],
  "metadata": {
    "kernelspec": {
      "display_name": "Python 3",
      "language": "python",
      "name": "python3"
    },
    "language_info": {
      "codemirror_mode": {
        "name": "ipython",
        "version": 3
      },
      "file_extension": ".py",
      "mimetype": "text/x-python",
      "name": "python",
      "nbconvert_exporter": "python",
      "pygments_lexer": "ipython3",
      "version": "3.8.3"
    },
    "colab": {
      "name": "Gabarito - Listas 06.ipynb",
      "provenance": [],
      "include_colab_link": true
    }
  },
  "nbformat": 4,
  "nbformat_minor": 0
}