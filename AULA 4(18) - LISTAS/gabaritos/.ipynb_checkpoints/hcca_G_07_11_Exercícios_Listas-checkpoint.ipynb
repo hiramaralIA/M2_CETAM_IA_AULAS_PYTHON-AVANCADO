{
 "cells": [
  {
   "cell_type": "markdown",
   "metadata": {
    "colab_type": "text",
    "id": "view-in-github"
   },
   "source": [
    "<a href=\"https://colab.research.google.com/github/hiramaralIA/CETAM_IA_AULAS_PYTHON/blob/main/hcca_G_07_11_Exerc%C3%ADcios_Listas.ipynb\" target=\"_parent\"><img src=\"https://colab.research.google.com/assets/colab-badge.svg\" alt=\"Open In Colab\"/></a>"
   ]
  },
  {
   "cell_type": "markdown",
   "metadata": {
    "id": "yWmZu9Mm2L9F"
   },
   "source": [
    "# Exercícios\n",
    "\n",
    "## 1. Mudança de Carga Tributária\n",
    "\n",
    "- Reformas e mudanças de cargas tributárias são bem comuns no Brasil.\n",
    "\n",
    "Digamos que você trabalhe em uma empresa de ecommerce\n",
    "\n",
    "No Brasil, o imposto sobre livros é zerado. De um ano para o outro, o governo criou um novo imposto que incide em 10% sobre o valor dos livros e agora você precisa alterar o registro dos preços dos livros da empresa para garantir que esse imposto vai ser repassado para o preço final do produto.\n",
    "\n",
    "Crie um código que recalcule o valor do livro da sua lista de produtos e ajuste na tabela.\n",
    "\n",
    "Além disso, calcule qual vai ser o impacto financeiro da criação desse imposto para a empresa (ou seja, quanto que o imposto vai aumentar de custo para a empresa)\n",
    "\n",
    "Obs: para facilitar, colocamos apenas 1 livro na lista, mas em breve vamos aprender um for que vai adaptar esse cenário para qualquer quantidade de livros na sua lista.\n",
    "\n",
    "Obs2: Seu código deve funcionar mesmo que não haja livros na lista de produtos da empresa"
   ]
  },
  {
   "cell_type": "code",
   "execution_count": null,
   "metadata": {
    "id": "A5bytzQX2L9J",
    "outputId": "9fbc0012-9ff6-4e34-8a82-41c26e68b0bc"
   },
   "outputs": [
    {
     "name": "stdout",
     "output_type": "stream",
     "text": [
      "Vamos pagar de imposto a mais: R$200,000.0\n"
     ]
    }
   ],
   "source": [
    "produtos = ['computador', 'livro', 'tablet', 'celular', 'tv', 'ar condicionado', 'alexa', 'máquina de café', 'kindle']\n",
    "\n",
    "#cada item da lista dos produtos corresponde a quantidade de vendas no mês e preço, nessa ordem\n",
    "produtos_ecommerce = [\n",
    "    [10000, 2500],\n",
    "    [50000, 40],\n",
    "    [7000, 1200],\n",
    "    [20000, 1500],\n",
    "    [5800, 1300],\n",
    "    [7200, 2500],\n",
    "    [200, 800],\n",
    "    [3300, 700],\n",
    "    [1900, 400]\n",
    "]\n",
    "\n",
    "if 'livro' in produtos:\n",
    "    i_livro = produtos.index('livro')\n",
    "    total_antigo = produtos_ecommerce[i_livro][0] * produtos_ecommerce[i_livro][1]\n",
    "    produtos_ecommerce[i_livro][1] = produtos_ecommerce[i_livro][1] * 1.1\n",
    "    novo_total = produtos_ecommerce[i_livro][0] * produtos_ecommerce[i_livro][1]\n",
    "    print('Vamos pagar de imposto a mais: R${:,}'.format(novo_total - total_antigo))"
   ]
  }
 ],
 "metadata": {
  "colab": {
   "include_colab_link": true,
   "name": "Gabarito - 07.11 Exercícios Listas.ipynb",
   "provenance": []
  },
  "kernelspec": {
   "display_name": "Python 3 (ipykernel)",
   "language": "python",
   "name": "python3"
  },
  "language_info": {
   "codemirror_mode": {
    "name": "ipython",
    "version": 3
   },
   "file_extension": ".py",
   "mimetype": "text/x-python",
   "name": "python",
   "nbconvert_exporter": "python",
   "pygments_lexer": "ipython3",
   "version": "3.9.7"
  }
 },
 "nbformat": 4,
 "nbformat_minor": 1
}
