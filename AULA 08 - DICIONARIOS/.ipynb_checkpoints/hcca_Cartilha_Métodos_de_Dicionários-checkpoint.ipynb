{
 "cells": [
  {
   "cell_type": "markdown",
   "metadata": {
    "colab_type": "text",
    "id": "view-in-github"
   },
   "source": [
    "<a href=\"https://colab.research.google.com/github/hiramaralIA/M2_CETAM_IA_AULAS_PYTHON-AVANCADO/blob/main/hcca_Cartilha_M%C3%A9todos_de_Dicion%C3%A1rios.ipynb\" target=\"_parent\"><img src=\"https://colab.research.google.com/assets/colab-badge.svg\" alt=\"Open In Colab\"/></a>"
   ]
  },
  {
   "cell_type": "markdown",
   "metadata": {
    "id": "QaNxLe9V1l07"
   },
   "source": [
    "# Métodos Específicos de Dicionário"
   ]
  },
  {
   "cell_type": "markdown",
   "metadata": {
    "id": "tNGcLy0w1l0_"
   },
   "source": [
    "- clear() -> Deleta todos os elementos do Dicionário (semelhante ao que aprendemos em listas)"
   ]
  },
  {
   "cell_type": "code",
   "execution_count": null,
   "metadata": {
    "id": "E0vp1ikS1l0_",
    "outputId": "61ea6c45-4328-4d3b-c0b8-bd3654cdd263"
   },
   "outputs": [
    {
     "name": "stdout",
     "output_type": "stream",
     "text": [
      "{}\n"
     ]
    }
   ],
   "source": [
    "vendas_mes = {'jan': 150, 'fev': 100, 'mar': 190}\n",
    "vendas_mes.clear()\n",
    "print(vendas_mes)"
   ]
  },
  {
   "cell_type": "markdown",
   "metadata": {
    "id": "ZNwjL8en1l1B"
   },
   "source": [
    "- copy() -> Cria uma cópia do dicionário (semelhante ao que aprendemos em listas)"
   ]
  },
  {
   "cell_type": "code",
   "execution_count": null,
   "metadata": {
    "id": "iFHTo5Ca1l1B",
    "outputId": "03a8eb51-877a-4e47-d745-6c7b1a7102f4"
   },
   "outputs": [
    {
     "name": "stdout",
     "output_type": "stream",
     "text": [
      "{'jan': 150, 'fev': 100, 'mar': 190}\n"
     ]
    }
   ],
   "source": [
    "vendas_mes = {'jan': 150, 'fev': 100, 'mar': 190}\n",
    "vendas2_mes = vendas_mes.copy()\n",
    "print(vendas2_mes)"
   ]
  },
  {
   "cell_type": "markdown",
   "metadata": {
    "id": "cM4xo_k61l1B"
   },
   "source": [
    "- fromkeys(chaves, valor_padrao) -> Cria um dicionário com as chaves e o mesmo valor padrão para todas as chaves"
   ]
  },
  {
   "cell_type": "code",
   "execution_count": null,
   "metadata": {
    "id": "00i6W6Ah1l1C",
    "outputId": "06b854ca-246f-4f01-8538-0d5066d8cbfa"
   },
   "outputs": [
    {
     "name": "stdout",
     "output_type": "stream",
     "text": [
      "{'jan': 100, 'fev': 100, 'mar': 100}\n"
     ]
    }
   ],
   "source": [
    "chaves = ('jan', 'fev', 'mar')\n",
    "vendas = 100\n",
    "vendas_mes = dict.fromkeys(chaves, vendas)\n",
    "print(vendas_mes)"
   ]
  },
  {
   "cell_type": "markdown",
   "metadata": {
    "id": "3o_ZbwuZ1l1C"
   },
   "source": [
    "- get(chave) -> \tRetorna o valor especificado pela chave (Semelhante a fazer dictionario[chave]"
   ]
  },
  {
   "cell_type": "code",
   "execution_count": null,
   "metadata": {
    "id": "gx8XB9SD1l1D",
    "outputId": "f9bc13da-c8fe-456d-d6c8-3fca88276397"
   },
   "outputs": [
    {
     "name": "stdout",
     "output_type": "stream",
     "text": [
      "190\n"
     ]
    }
   ],
   "source": [
    "vendas_mes = {'jan': 150, 'fev': 100, 'mar': 190}\n",
    "print(vendas_mes.get('mar'))"
   ]
  },
  {
   "cell_type": "markdown",
   "metadata": {
    "id": "T0wV6GsX1l1D"
   },
   "source": [
    "- items() -> Retorna uma lista em que cada item é uma tupla com (chave, valor)"
   ]
  },
  {
   "cell_type": "code",
   "execution_count": null,
   "metadata": {
    "id": "aEA_NyLI1l1E",
    "outputId": "34fc5f70-1d20-4c71-e337-adbd4089cc3c"
   },
   "outputs": [
    {
     "name": "stdout",
     "output_type": "stream",
     "text": [
      "[('jan', 150), ('fev', 100), ('mar', 190)]\n"
     ]
    }
   ],
   "source": [
    "vendas_mes = {'jan': 150, 'fev': 100, 'mar': 190}\n",
    "print(list(vendas_mes.items()))"
   ]
  },
  {
   "cell_type": "markdown",
   "metadata": {
    "id": "z5jD28zN1l1E"
   },
   "source": [
    "- keys() -> Retorna uma lista com todas as chaves do dicionário"
   ]
  },
  {
   "cell_type": "code",
   "execution_count": null,
   "metadata": {
    "id": "i-T3FGV71l1E",
    "outputId": "8ad3c6c4-ce2d-418e-a274-570d5fabef39"
   },
   "outputs": [
    {
     "name": "stdout",
     "output_type": "stream",
     "text": [
      "['jan', 'fev', 'mar']\n"
     ]
    }
   ],
   "source": [
    "vendas_mes = {'jan': 150, 'fev': 100, 'mar': 190}\n",
    "print(list(vendas_mes.keys()))"
   ]
  },
  {
   "cell_type": "markdown",
   "metadata": {
    "id": "X8yaPJ061l1F"
   },
   "source": [
    "- pop(chave) -> Retira o item do dicionário e retorna o valor dele para ser usado"
   ]
  },
  {
   "cell_type": "code",
   "execution_count": null,
   "metadata": {
    "id": "haC9nqUF1l1F",
    "outputId": "56161801-abd0-44ce-b951-57b42a12fbf0"
   },
   "outputs": [
    {
     "name": "stdout",
     "output_type": "stream",
     "text": [
      "{'jan': 150, 'mar': 190}\n",
      "100\n"
     ]
    }
   ],
   "source": [
    "vendas_mes = {'jan': 150, 'fev': 100, 'mar': 190}\n",
    "vendas_fev = vendas_mes.pop('fev') #retira o fevereiro do dicionário ao mesmo tempo que armazena o valor dele na variável\n",
    "print(vendas_mes)\n",
    "print(vendas_fev)"
   ]
  },
  {
   "cell_type": "markdown",
   "metadata": {
    "id": "UlIH9ofB1l1F"
   },
   "source": [
    "- popitem() -> Retira o último item adicionado ao dicionário"
   ]
  },
  {
   "cell_type": "code",
   "execution_count": null,
   "metadata": {
    "id": "81YWr5du1l1G",
    "outputId": "3f8e2e05-585e-4226-8ab4-7363cfc322fa"
   },
   "outputs": [
    {
     "name": "stdout",
     "output_type": "stream",
     "text": [
      "{'jan': 150, 'fev': 100}\n",
      "('mar', 190)\n"
     ]
    }
   ],
   "source": [
    "vendas_mes = {'jan': 150, 'fev': 100, 'mar': 190}\n",
    "#retira o último item adicionado no dicionário ao mesmo tempo que armazena o item(chave, valor) dele na variável\n",
    "vendas_ult = vendas_mes.popitem() \n",
    "print(vendas_mes)\n",
    "print(vendas_ult)"
   ]
  },
  {
   "cell_type": "markdown",
   "metadata": {
    "id": "R9ino65j1l1G"
   },
   "source": [
    "- setdefault(chave, valor) -> Retorna o valor da chave passada, mas caso a chave não exista, cria no dicionário o item com a chave e valor passados."
   ]
  },
  {
   "cell_type": "code",
   "execution_count": null,
   "metadata": {
    "id": "M3Bw0T0U1l1G",
    "outputId": "09d53599-cf5e-4db6-c668-aeae990875d9"
   },
   "outputs": [
    {
     "name": "stdout",
     "output_type": "stream",
     "text": [
      "100\n",
      "600\n",
      "{'jan': 150, 'fev': 100, 'mar': 190, 'abr': 600}\n"
     ]
    }
   ],
   "source": [
    "vendas_mes = {'jan': 150, 'fev': 100, 'mar': 190}\n",
    "vendas_fev = vendas_mes.setdefault('fev', 500)\n",
    "print(vendas_fev)\n",
    "#repare que como fevereiro existe na lista, ele procura pelo valor de fevereiro e ignora o 500 passado\n",
    "#agora quando não existe na lista:\n",
    "vendas_abr = vendas_mes.setdefault('abr', 600)\n",
    "#repare que agora além de vendas_abr retornar o 600 como valor, ele adicionou um item no dicionario\n",
    "print(vendas_abr)\n",
    "print(vendas_mes)"
   ]
  },
  {
   "cell_type": "markdown",
   "metadata": {
    "id": "23duGKjO1l1H"
   },
   "source": [
    "- update(dicionario) -> Adiciona o dicionário passado como parâmetro ao dicionário original"
   ]
  },
  {
   "cell_type": "code",
   "execution_count": null,
   "metadata": {
    "id": "jddZlWes1l1H",
    "outputId": "23160b63-b418-4856-b726-a9c544475f56"
   },
   "outputs": [
    {
     "name": "stdout",
     "output_type": "stream",
     "text": [
      "{'jan': 150, 'fev': 100, 'mar': 190, 'abr': 400, 'mai': 600, 'jun': 500}\n"
     ]
    }
   ],
   "source": [
    "vendas_mes = {'jan': 150, 'fev': 100, 'mar': 190}\n",
    "vendas_2tri = {'abr': 400, 'mai': 600, 'jun': 500}\n",
    "vendas_mes.update(vendas_2tri)\n",
    "print(vendas_mes)"
   ]
  },
  {
   "cell_type": "markdown",
   "metadata": {
    "id": "0ZQ0HEqm1l1H"
   },
   "source": [
    "- values() -> Retorna uma lista com todos os valores do dicionários"
   ]
  },
  {
   "cell_type": "code",
   "execution_count": null,
   "metadata": {
    "id": "GCRwo74S1l1H",
    "outputId": "f7edd236-1e5b-449b-d574-7b43e92597f3"
   },
   "outputs": [
    {
     "name": "stdout",
     "output_type": "stream",
     "text": [
      "[150, 100, 190]\n"
     ]
    }
   ],
   "source": [
    "vendas_mes = {'jan': 150, 'fev': 100, 'mar': 190}\n",
    "print(list(vendas_mes.values()))"
   ]
  }
 ],
 "metadata": {
  "colab": {
   "include_colab_link": true,
   "name": "Cartilha - Métodos de Dicionários.ipynb",
   "provenance": []
  },
  "kernelspec": {
   "display_name": "Python 3 (ipykernel)",
   "language": "python",
   "name": "python3"
  },
  "language_info": {
   "codemirror_mode": {
    "name": "ipython",
    "version": 3
   },
   "file_extension": ".py",
   "mimetype": "text/x-python",
   "name": "python",
   "nbconvert_exporter": "python",
   "pygments_lexer": "ipython3",
   "version": "3.9.7"
  }
 },
 "nbformat": 4,
 "nbformat_minor": 1
}
