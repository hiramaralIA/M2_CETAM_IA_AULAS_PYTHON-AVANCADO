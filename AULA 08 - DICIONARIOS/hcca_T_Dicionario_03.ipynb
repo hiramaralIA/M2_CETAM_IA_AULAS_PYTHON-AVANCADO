{
  "cells": [
    {
      "cell_type": "markdown",
      "metadata": {
        "id": "view-in-github",
        "colab_type": "text"
      },
      "source": [
        "<a href=\"https://colab.research.google.com/github/hiramaralIA/M2_CETAM_IA_AULAS_PYTHON-AVANCADO/blob/main/hcca_T_Dicionario_03.ipynb\" target=\"_parent\"><img src=\"https://colab.research.google.com/assets/colab-badge.svg\" alt=\"Open In Colab\"/></a>"
      ]
    },
    {
      "cell_type": "markdown",
      "metadata": {
        "id": "4qtCEODxxwgx"
      },
      "source": [
        "# Adicionar, Remover e Modificar Itens no Dicionário\n",
        "\n",
        "### Estrutura:\n",
        "\n",
        "- Adicionar itens:"
      ]
    },
    {
      "cell_type": "raw",
      "metadata": {
        "id": "5WPTB8lnxwg0"
      },
      "source": [
        "dicionario = {}\n",
        "\n",
        "dicionario[chave] = valor\n",
        "\n",
        "outra opção:\n",
        "\n",
        "dicionario.update({chave: valor, chave: valor})"
      ]
    },
    {
      "cell_type": "code",
      "execution_count": null,
      "metadata": {
        "id": "OoxG1O7dxwg0"
      },
      "outputs": [],
      "source": [
        "lucro_1tri = {'janeiro': 100000, 'fevereiro': 120000, 'março': 90000}\n",
        "lucro_2tri = {'abril': 88000, 'maio': 89000, 'junho': 120000}\n",
        "#adicionando 1 item\n",
        "\n",
        "#adicionando vários itens ou um dicionário a outro\n",
        "\n",
        "#adicionando um item já existente (manualmente ou pelo update)"
      ]
    },
    {
      "cell_type": "markdown",
      "metadata": {
        "id": "bWZhFWQ_xwg1"
      },
      "source": [
        "- Modificar itens:\n",
        "\n",
        "Da mesma forma que adicionamos 1 valor, caso essa chave já exista o item é apenas modificado.\n",
        "\n",
        "dicionario[chave] = valor\n",
        "\n",
        "Vamos modificar o lucro de fevereiro:<br>\n",
        "(Lembrando: caso o item não exista, ele vai criar o item no dicionário)"
      ]
    },
    {
      "cell_type": "code",
      "execution_count": null,
      "metadata": {
        "id": "LqYp71Nhxwg1"
      },
      "outputs": [],
      "source": [
        "lucro_fev = 85000"
      ]
    },
    {
      "cell_type": "markdown",
      "metadata": {
        "id": "4qw5I271xwg2"
      },
      "source": [
        "- Remover itens:\n",
        "\n",
        "del dicionario[chave]\n",
        "\n",
        "ou então\n",
        "\n",
        "valor = dicionario.pop(chave)\n",
        "\n",
        "mas cuidado com:\n",
        "\n",
        "del dicionario<br>    ->    que é diferente de dicionario.clear()"
      ]
    },
    {
      "cell_type": "code",
      "execution_count": null,
      "metadata": {
        "id": "5jXpU3iRxwg2"
      },
      "outputs": [],
      "source": [
        "#removendo o mês de junho\n",
        "\n",
        "\n",
        "#obs: o del também funciona para listas, caso queira usar\n",
        "#del lista[i]\n",
        "funcionarios = ['João', 'Lira', 'Maria', 'Ana', 'Paula']"
      ]
    }
  ],
  "metadata": {
    "kernelspec": {
      "display_name": "Python 3",
      "language": "python",
      "name": "python3"
    },
    "language_info": {
      "codemirror_mode": {
        "name": "ipython",
        "version": 3
      },
      "file_extension": ".py",
      "mimetype": "text/x-python",
      "name": "python",
      "nbconvert_exporter": "python",
      "pygments_lexer": "ipython3",
      "version": "3.8.3"
    },
    "colab": {
      "name": "Dicionario 03.ipynb",
      "provenance": [],
      "include_colab_link": true
    }
  },
  "nbformat": 4,
  "nbformat_minor": 0
}