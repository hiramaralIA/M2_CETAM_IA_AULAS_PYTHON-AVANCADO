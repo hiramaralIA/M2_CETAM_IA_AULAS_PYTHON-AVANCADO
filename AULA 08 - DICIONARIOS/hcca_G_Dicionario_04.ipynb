{
  "cells": [
    {
      "cell_type": "markdown",
      "metadata": {
        "id": "view-in-github",
        "colab_type": "text"
      },
      "source": [
        "<a href=\"https://colab.research.google.com/github/hiramaralIA/M2_CETAM_IA_AULAS_PYTHON-AVANCADO/blob/main/hcca_G_Dicionario_04.ipynb\" target=\"_parent\"><img src=\"https://colab.research.google.com/assets/colab-badge.svg\" alt=\"Open In Colab\"/></a>"
      ]
    },
    {
      "cell_type": "markdown",
      "metadata": {
        "id": "LqDm4lp6zXl7"
      },
      "source": [
        "# For nos Dicionarios\n",
        "\n",
        "### Estrutura:"
      ]
    },
    {
      "cell_type": "raw",
      "metadata": {
        "id": "KXOll1XezXl-"
      },
      "source": [
        "for chave in dicionario:\n",
        "    faça alguma coisa"
      ]
    },
    {
      "cell_type": "code",
      "execution_count": null,
      "metadata": {
        "id": "_R3YpFnezXl-",
        "outputId": "fca59754-076e-4e43-8c66-ec1d3a001877"
      },
      "outputs": [
        {
          "name": "stdout",
          "output_type": "stream",
          "text": [
            "iphone: 15000 unidades\n",
            "samsung galaxy: 12000 unidades\n",
            "tv samsung: 10000 unidades\n",
            "ps5: 14300 unidades\n",
            "tablet: 1720 unidades\n",
            "ipad: 1000 unidades\n",
            "tv philco: 2500 unidades\n",
            "notebook hp: 1000 unidades\n",
            "notebook dell: 17000 unidades\n",
            "notebook asus: 2450 unidades\n"
          ]
        }
      ],
      "source": [
        "vendas_tecnologia = {'iphone': 15000, 'samsung galaxy': 12000, 'tv samsung': 10000, 'ps5': 14300, 'tablet': 1720, 'ipad': 1000, 'tv philco': 2500, 'notebook hp': 1000, 'notebook dell': 17000, 'notebook asus': 2450}\n",
        "\n",
        "#demonstrando o for\n",
        "for chave in vendas_tecnologia:\n",
        "    print('{}: {} unidades'.format(chave, vendas_tecnologia[chave]))"
      ]
    },
    {
      "cell_type": "markdown",
      "metadata": {
        "id": "B-y93PuWzXmA"
      },
      "source": [
        "- Qual o total de notebooks vendidos?"
      ]
    },
    {
      "cell_type": "code",
      "execution_count": null,
      "metadata": {
        "id": "0D1HD-pczXmA",
        "outputId": "70f39a9d-38d3-43b0-ffc2-16784e421909"
      },
      "outputs": [
        {
          "name": "stdout",
          "output_type": "stream",
          "text": [
            "20450\n"
          ]
        }
      ],
      "source": [
        "total_notebooks = 0\n",
        "for chave in vendas_tecnologia:\n",
        "    if 'notebook' in chave:\n",
        "        total_notebooks += vendas_tecnologia[chave]\n",
        "        \n",
        "print(total_notebooks)"
      ]
    }
  ],
  "metadata": {
    "kernelspec": {
      "display_name": "Python 3",
      "language": "python",
      "name": "python3"
    },
    "language_info": {
      "codemirror_mode": {
        "name": "ipython",
        "version": 3
      },
      "file_extension": ".py",
      "mimetype": "text/x-python",
      "name": "python",
      "nbconvert_exporter": "python",
      "pygments_lexer": "ipython3",
      "version": "3.8.3"
    },
    "colab": {
      "name": "Gabarito - Dicionario 04.ipynb",
      "provenance": [],
      "include_colab_link": true
    }
  },
  "nbformat": 4,
  "nbformat_minor": 0
}