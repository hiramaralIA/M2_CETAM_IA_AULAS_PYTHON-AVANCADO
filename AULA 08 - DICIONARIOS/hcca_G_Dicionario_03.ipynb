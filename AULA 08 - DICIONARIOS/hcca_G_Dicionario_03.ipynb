{
  "cells": [
    {
      "cell_type": "markdown",
      "metadata": {
        "id": "view-in-github",
        "colab_type": "text"
      },
      "source": [
        "<a href=\"https://colab.research.google.com/github/hiramaralIA/M2_CETAM_IA_AULAS_PYTHON-AVANCADO/blob/main/hcca_G_Dicionario_03.ipynb\" target=\"_parent\"><img src=\"https://colab.research.google.com/assets/colab-badge.svg\" alt=\"Open In Colab\"/></a>"
      ]
    },
    {
      "cell_type": "markdown",
      "metadata": {
        "id": "MzMq0DS0yboP"
      },
      "source": [
        "# Adicionar, Remover e Modificar Itens no Dicionário\n",
        "\n",
        "### Estrutura:\n",
        "\n",
        "- Adicionar itens:"
      ]
    },
    {
      "cell_type": "raw",
      "metadata": {
        "id": "hnZJYrFQyboT"
      },
      "source": [
        "dicionario = {}\n",
        "\n",
        "dicionario[chave] = valor\n",
        "\n",
        "outra opção:\n",
        "\n",
        "dicionario.update({chave: valor, chave: valor})"
      ]
    },
    {
      "cell_type": "code",
      "execution_count": null,
      "metadata": {
        "id": "IRQzFIFryboU",
        "outputId": "b1329caf-00b9-4289-f16c-8cd533037477"
      },
      "outputs": [
        {
          "name": "stdout",
          "output_type": "stream",
          "text": [
            "{'janeiro': 100000, 'fevereiro': 120000, 'março': 90000}\n",
            "{'janeiro': 100000, 'fevereiro': 120000, 'março': 90000, 'abril': 88000, 'maio': 89000, 'junho': 120000}\n",
            "{'janeiro': 88000, 'fevereiro': 120000, 'março': 90000, 'abril': 88000, 'maio': 89000, 'junho': 120000}\n"
          ]
        }
      ],
      "source": [
        "lucro_1tri = {'janeiro': 100000, 'fevereiro': 120000, 'março': 90000}\n",
        "lucro_2tri = {'abril': 88000, 'maio': 89000, 'junho': 120000}\n",
        "#adicionando 1 item\n",
        "print(lucro_1tri)\n",
        "#lucro_1tri['abril'] = 88000\n",
        "#print(lucro_1tri)\n",
        "#adicionando vários itens ou um dicionário a outro\n",
        "lucro_1tri.update({'abril': 88000, 'maio': 89000, 'junho': 120000})\n",
        "print(lucro_1tri)\n",
        "#adicionando um item já existente (manualmente ou pelo update)\n",
        "lucro_1tri['janeiro'] = 88000\n",
        "print(lucro_1tri)"
      ]
    },
    {
      "cell_type": "markdown",
      "metadata": {
        "id": "X1rrOCGhyboV"
      },
      "source": [
        "- Modificar itens:\n",
        "\n",
        "Da mesma forma que adicionamos 1 valor, caso essa chave já exista o item é apenas modificado.\n",
        "\n",
        "dicionario[chave] = valor\n",
        "\n",
        "Vamos modificar o lucro de fevereiro:<br>\n",
        "(Lembrando: caso o item não exista, ele vai criar o item no dicionário)"
      ]
    },
    {
      "cell_type": "code",
      "execution_count": null,
      "metadata": {
        "id": "JTatIdYYyboW",
        "outputId": "e9000a8d-754e-4b5e-d50b-ecc25bd48ecd"
      },
      "outputs": [
        {
          "name": "stdout",
          "output_type": "stream",
          "text": [
            "{'janeiro': 88000, 'fevereiro': 85000, 'março': 90000, 'abril': 88000, 'maio': 89000, 'junho': 120000}\n"
          ]
        }
      ],
      "source": [
        "lucro_fev = 85000\n",
        "\n",
        "lucro_1tri['fevereiro'] = lucro_fev\n",
        "print(lucro_1tri)"
      ]
    },
    {
      "cell_type": "markdown",
      "metadata": {
        "id": "dh-Tj8lVyboW"
      },
      "source": [
        "- Remover itens:\n",
        "\n",
        "del dicionario[chave]\n",
        "\n",
        "ou então\n",
        "\n",
        "valor = dicionario.pop(chave)\n",
        "\n",
        "mas cuidado com:\n",
        "\n",
        "del dicionario<br>    ->    que é diferente de dicionario.clear()"
      ]
    },
    {
      "cell_type": "code",
      "execution_count": null,
      "metadata": {
        "id": "tefotpvmyboX",
        "outputId": "ea6f2b3d-8a82-459e-ba69-4d9f3bb7f7d4"
      },
      "outputs": [
        {
          "name": "stdout",
          "output_type": "stream",
          "text": [
            "{}\n",
            "['Lira', 'Maria', 'Ana', 'Paula']\n"
          ]
        }
      ],
      "source": [
        "#removendo o mês de junho\n",
        "#lucro_jun = lucro_1tri.pop('junho')\n",
        "#print(lucro_1tri)\n",
        "#print(lucro_jun)\n",
        "\n",
        "lucro_1tri.clear()\n",
        "print(lucro_1tri)\n",
        "\n",
        "#obs: o del também funciona para listas, caso queira usar\n",
        "#del lista[i]\n",
        "funcionarios = ['João', 'Lira', 'Maria', 'Ana', 'Paula']\n",
        "del funcionarios[0]\n",
        "print(funcionarios)"
      ]
    }
  ],
  "metadata": {
    "kernelspec": {
      "display_name": "Python 3",
      "language": "python",
      "name": "python3"
    },
    "language_info": {
      "codemirror_mode": {
        "name": "ipython",
        "version": 3
      },
      "file_extension": ".py",
      "mimetype": "text/x-python",
      "name": "python",
      "nbconvert_exporter": "python",
      "pygments_lexer": "ipython3",
      "version": "3.8.3"
    },
    "colab": {
      "name": "Gabarito - Dicionario 03.ipynb",
      "provenance": [],
      "include_colab_link": true
    }
  },
  "nbformat": 4,
  "nbformat_minor": 0
}