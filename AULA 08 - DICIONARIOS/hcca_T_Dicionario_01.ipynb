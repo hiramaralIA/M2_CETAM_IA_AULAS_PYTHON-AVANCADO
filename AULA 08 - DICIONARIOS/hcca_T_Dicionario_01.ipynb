{
  "cells": [
    {
      "cell_type": "markdown",
      "metadata": {
        "id": "view-in-github",
        "colab_type": "text"
      },
      "source": [
        "<a href=\"https://colab.research.google.com/github/hiramaralIA/M2_CETAM_IA_AULAS_PYTHON-AVANCADO/blob/main/hcca_T_Dicionario_01.ipynb\" target=\"_parent\"><img src=\"https://colab.research.google.com/assets/colab-badge.svg\" alt=\"Open In Colab\"/></a>"
      ]
    },
    {
      "cell_type": "markdown",
      "metadata": {
        "id": "dPK8KuGEvuXL"
      },
      "source": [
        "# Dicionários em Python\n",
        "\n",
        "### Estrutura:\n",
        "\n",
        "dicionario = {chave: valor, chave: valor, chave: valor, chave: valor ...}\n",
        "\n",
        "### Vantagens e Desvantagens\n",
        "\n",
        "- Não devem ser usados para pegar itens em uma determinada ordem\n",
        "- Podem ter valores heterogêneos (vários tipos de valores dentro de um mesmo dicionário: inteiros, strings, listas, etc)\n",
        "- Chaves são únicas obrigatoriamente\n",
        "- Mais intuitivos de trabalhar"
      ]
    },
    {
      "cell_type": "code",
      "execution_count": null,
      "metadata": {
        "id": "65V3ZwaLvuXO"
      },
      "outputs": [],
      "source": [
        "mais_vendidos = {'tecnologia': 'iphone', 'refrigeracao': 'ar consul 12000 btu', 'livros': 'o alquimista', 'eletrodoméstico': 'geladeira', 'lazer': 'prancha surf'}\n",
        "\n",
        "vendas_tecnologia = {'iphone': 15000, 'samsung galaxy': 12000, 'tv samsung': 10000, 'ps5': 14300, 'tablet': 1720, 'ipad': 1000, 'tv philco': 2500, 'notebook hp': 1000, 'notebook dell': 17000, 'notebook asus': 2450}"
      ]
    },
    {
      "cell_type": "markdown",
      "metadata": {
        "id": "1K8gB6gKvuXQ"
      },
      "source": [
        "- Qual foi o item mais vendido nas categorias 'livros' e 'lazer'?\n",
        "- Quanto foi vendido de 'notebook asus' e de 'ipad'?"
      ]
    },
    {
      "cell_type": "code",
      "execution_count": null,
      "metadata": {
        "id": "mpK8ATS9vuXQ"
      },
      "outputs": [],
      "source": [
        ""
      ]
    }
  ],
  "metadata": {
    "kernelspec": {
      "display_name": "Python 3",
      "language": "python",
      "name": "python3"
    },
    "language_info": {
      "codemirror_mode": {
        "name": "ipython",
        "version": 3
      },
      "file_extension": ".py",
      "mimetype": "text/x-python",
      "name": "python",
      "nbconvert_exporter": "python",
      "pygments_lexer": "ipython3",
      "version": "3.8.3"
    },
    "colab": {
      "name": "Dicionario 01.ipynb",
      "provenance": [],
      "include_colab_link": true
    }
  },
  "nbformat": 4,
  "nbformat_minor": 0
}