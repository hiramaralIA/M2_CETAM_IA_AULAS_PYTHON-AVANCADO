{
  "cells": [
    {
      "cell_type": "markdown",
      "metadata": {
        "id": "view-in-github",
        "colab_type": "text"
      },
      "source": [
        "<a href=\"https://colab.research.google.com/github/hiramaralIA/M2_CETAM_IA_AULAS_PYTHON-AVANCADO/blob/main/hcca_G_M%C3%B3dulos_e_Introdu%C3%A7%C3%A3o_a_Orienta%C3%A7%C3%A3o_a_Objetos_04.ipynb\" target=\"_parent\"><img src=\"https://colab.research.google.com/assets/colab-badge.svg\" alt=\"Open In Colab\"/></a>"
      ]
    },
    {
      "cell_type": "markdown",
      "metadata": {
        "id": "sgXoUrI2kgSs"
      },
      "source": [
        "# Módulo time\n",
        "\n",
        "### Estrutura:\n",
        "\n",
        "- Um dos módulos mais usados no Python. Tudo que diz respeito a data, a marcar quanto tempo leva alguma ação, ou a tempo mesmo, o módulo time vai ajudar a gente"
      ]
    },
    {
      "cell_type": "raw",
      "metadata": {
        "id": "9iWL5BHskgSx"
      },
      "source": [
        "import time"
      ]
    },
    {
      "cell_type": "code",
      "execution_count": null,
      "metadata": {
        "id": "Rj0ThsL9kgSy"
      },
      "outputs": [],
      "source": [
        "import time"
      ]
    },
    {
      "cell_type": "markdown",
      "metadata": {
        "id": "a_sQ0C-tkgSz"
      },
      "source": [
        "- Marco Zero (chamado de EPOCH) = 1 de Janeiro de 1970 às 00:00:00\n",
        "- time() retorna quantos segundos se passaram desde a EPOCH"
      ]
    },
    {
      "cell_type": "code",
      "execution_count": null,
      "metadata": {
        "id": "MU_H9LsnkgS0",
        "outputId": "0a992c62-a250-44e7-a11e-907054aa2fd3"
      },
      "outputs": [
        {
          "name": "stdout",
          "output_type": "stream",
          "text": [
            "1602013004.6264832\n"
          ]
        }
      ],
      "source": [
        "segundos_hoje = time.time()\n",
        "print(segundos_hoje)"
      ]
    },
    {
      "cell_type": "markdown",
      "metadata": {
        "id": "L-Kdf-QIkgS1"
      },
      "source": [
        "- ctime retorna a data em string o texto no formato UTC (um formato padrão de datas)"
      ]
    },
    {
      "cell_type": "code",
      "execution_count": null,
      "metadata": {
        "id": "awecIsxRkgS1",
        "outputId": "39431e0c-a4d1-4877-820e-ca78bc0bff89"
      },
      "outputs": [
        {
          "name": "stdout",
          "output_type": "stream",
          "text": [
            "Tue Oct  6 16:37:36 2020\n"
          ]
        }
      ],
      "source": [
        "data_hoje = time.ctime()\n",
        "#ou entao data_hoje = time.ctime(time())\n",
        "print(data_hoje)"
      ]
    },
    {
      "cell_type": "markdown",
      "metadata": {
        "id": "22sAY946kgS2"
      },
      "source": [
        "- Isso já pode ser muito útil para medir o tempo que uma ação leva, caso seja do interesse:"
      ]
    },
    {
      "cell_type": "code",
      "execution_count": null,
      "metadata": {
        "id": "wJ88bOA-kgS2",
        "outputId": "fb0f5f4a-574d-4a50-ee5e-fbb091569903"
      },
      "outputs": [
        {
          "name": "stdout",
          "output_type": "stream",
          "text": [
            "O programa levou 5.654706716537476 segundos para rodar\n"
          ]
        }
      ],
      "source": [
        "tempo_inicial = time.time()\n",
        "for i in range(100000000):\n",
        "    pass\n",
        "tempo_final = time.time()\n",
        "duracao = tempo_final - tempo_inicial\n",
        "print('O programa levou {} segundos para rodar'.format(duracao))"
      ]
    },
    {
      "cell_type": "markdown",
      "metadata": {
        "id": "N6cRTqUBkgS3"
      },
      "source": [
        "- Fazer o código esperar alguns segundos (muito útil quando temos que esperar um programa ou uma página carregar)"
      ]
    },
    {
      "cell_type": "code",
      "execution_count": null,
      "metadata": {
        "id": "_jNtmP5SkgS4",
        "outputId": "dff6b406-e59d-4b34-d2e0-6dcbc14b7c2a"
      },
      "outputs": [
        {
          "name": "stdout",
          "output_type": "stream",
          "text": [
            "Começando\n",
            "Rodou 5 segundos após\n"
          ]
        }
      ],
      "source": [
        "#para esperar 5 segundos fazemos:\n",
        "print('Começando')\n",
        "time.sleep(5)\n",
        "print('Rodou 5 segundos após')"
      ]
    },
    {
      "cell_type": "markdown",
      "metadata": {
        "id": "L5JtLXJJkgS4"
      },
      "source": [
        "- Pegar informações de dias, hora, segundo, minuto, tudo detalhado:\n",
        "- gmtime()\n",
        "- gmtime().parâmetro"
      ]
    },
    {
      "cell_type": "code",
      "execution_count": null,
      "metadata": {
        "id": "yCh0MlMXkgS4",
        "outputId": "975e8d8d-f085-44c2-9cf9-4c7a29f00e66"
      },
      "outputs": [
        {
          "name": "stdout",
          "output_type": "stream",
          "text": [
            "time.struct_time(tm_year=2020, tm_mon=10, tm_mday=6, tm_hour=19, tm_min=42, tm_sec=38, tm_wday=1, tm_yday=280, tm_isdst=0)\n"
          ]
        }
      ],
      "source": [
        "data_atual = time.gmtime()\n",
        "print(data_atual)"
      ]
    },
    {
      "cell_type": "markdown",
      "metadata": {
        "id": "IQzGSgFckgS5"
      },
      "source": [
        "- É um objeto diferente, mas podemos pegar os parâmetros de ano, mês, dia, etc fazendo:"
      ]
    },
    {
      "cell_type": "code",
      "execution_count": null,
      "metadata": {
        "id": "99TTofRMkgS5",
        "outputId": "1dad048b-979d-415d-e609-a7521f7389f1"
      },
      "outputs": [
        {
          "name": "stdout",
          "output_type": "stream",
          "text": [
            "Hoje é dia 6/10/2020\n"
          ]
        }
      ],
      "source": [
        "ano = data_atual.tm_year\n",
        "mes = data_atual.tm_mon\n",
        "dia = data_atual.tm_mday\n",
        "hora = data_atual.tm_hour\n",
        "dia_da_semana = data_atual.tm_wday\n",
        "\n",
        "print('Hoje é dia {}/{}/{}'.format(dia, mes, ano))"
      ]
    }
  ],
  "metadata": {
    "kernelspec": {
      "display_name": "Python 3",
      "language": "python",
      "name": "python3"
    },
    "language_info": {
      "codemirror_mode": {
        "name": "ipython",
        "version": 3
      },
      "file_extension": ".py",
      "mimetype": "text/x-python",
      "name": "python",
      "nbconvert_exporter": "python",
      "pygments_lexer": "ipython3",
      "version": "3.8.3"
    },
    "colab": {
      "name": "Gabarito - Módulos e Introdução a Orientação a Objetos 04.ipynb",
      "provenance": [],
      "include_colab_link": true
    }
  },
  "nbformat": 4,
  "nbformat_minor": 0
}