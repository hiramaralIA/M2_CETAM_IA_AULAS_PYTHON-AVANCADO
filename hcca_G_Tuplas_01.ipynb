{
  "cells": [
    {
      "cell_type": "markdown",
      "metadata": {
        "id": "view-in-github",
        "colab_type": "text"
      },
      "source": [
        "<a href=\"https://colab.research.google.com/github/hiramaralIA/M2_CETAM_IA_AULAS_PYTHON-AVANCADO/blob/main/hcca_G_Tuplas_01.ipynb\" target=\"_parent\"><img src=\"https://colab.research.google.com/assets/colab-badge.svg\" alt=\"Open In Colab\"/></a>"
      ]
    },
    {
      "cell_type": "markdown",
      "metadata": {
        "id": "Gd-UEG7o59Bz"
      },
      "source": [
        "# Tuplas\n",
        "\n",
        "### Estrutura:\n",
        "\n",
        "tupla = (valor, valor, valor, ...)\n",
        "\n",
        "### Diferença\n",
        "\n",
        "Parece uma lista, mas é imutável.\n",
        "\n",
        "### Vantagens:\n",
        "\n",
        "- Mais eficiente (em termos de performance)\n",
        "- Protege a base de dados (por ser imutável)\n",
        "- Muito usado para dados heterogêneos\n",
        "\n",
        "### Criando tuplas"
      ]
    },
    {
      "cell_type": "code",
      "execution_count": null,
      "metadata": {
        "id": "YpRhp5XQ59CC",
        "outputId": "c9c040a9-63ae-475f-d26f-71e88d83053a"
      },
      "outputs": [
        {
          "name": "stdout",
          "output_type": "stream",
          "text": [
            "('Lira', '25/08/2020', '15/02/1994', 2000, 'Estagiário')\n"
          ]
        }
      ],
      "source": [
        "vendas = ('Lira', '25/08/2020', '15/02/1994', 2000, 'Estagiário')\n",
        "print(vendas)"
      ]
    },
    {
      "cell_type": "markdown",
      "metadata": {
        "id": "ow1MC_-A59CK"
      },
      "source": [
        "### Acessando o valor de uma tupla"
      ]
    },
    {
      "cell_type": "code",
      "execution_count": null,
      "metadata": {
        "id": "QzUIUs9v59CM",
        "outputId": "534313a2-d8dc-4f86-ad31-094379827930"
      },
      "outputs": [
        {
          "ename": "TypeError",
          "evalue": "'tuple' object does not support item assignment",
          "output_type": "error",
          "traceback": [
            "\u001b[1;31m---------------------------------------------------------------------------\u001b[0m",
            "\u001b[1;31mTypeError\u001b[0m                                 Traceback (most recent call last)",
            "\u001b[1;32m<ipython-input-6-1cce8a23dea7>\u001b[0m in \u001b[0;36m<module>\u001b[1;34m\u001b[0m\n\u001b[1;32m----> 1\u001b[1;33m \u001b[0mvendas\u001b[0m\u001b[1;33m[\u001b[0m\u001b[1;36m3\u001b[0m\u001b[1;33m]\u001b[0m \u001b[1;33m=\u001b[0m \u001b[1;36m3000\u001b[0m\u001b[1;33m\u001b[0m\u001b[1;33m\u001b[0m\u001b[0m\n\u001b[0m\u001b[0;32m      2\u001b[0m \u001b[1;33m\u001b[0m\u001b[0m\n\u001b[0;32m      3\u001b[0m \u001b[0mnome\u001b[0m \u001b[1;33m=\u001b[0m \u001b[0mvendas\u001b[0m\u001b[1;33m[\u001b[0m\u001b[1;36m0\u001b[0m\u001b[1;33m]\u001b[0m\u001b[1;33m\u001b[0m\u001b[1;33m\u001b[0m\u001b[0m\n\u001b[0;32m      4\u001b[0m \u001b[0mdata_contratacao\u001b[0m \u001b[1;33m=\u001b[0m \u001b[0mvendas\u001b[0m\u001b[1;33m[\u001b[0m\u001b[1;36m1\u001b[0m\u001b[1;33m]\u001b[0m\u001b[1;33m\u001b[0m\u001b[1;33m\u001b[0m\u001b[0m\n\u001b[0;32m      5\u001b[0m \u001b[0mdata_nascimento\u001b[0m \u001b[1;33m=\u001b[0m \u001b[0mvendas\u001b[0m\u001b[1;33m[\u001b[0m\u001b[1;36m2\u001b[0m\u001b[1;33m]\u001b[0m\u001b[1;33m\u001b[0m\u001b[1;33m\u001b[0m\u001b[0m\n",
            "\u001b[1;31mTypeError\u001b[0m: 'tuple' object does not support item assignment"
          ]
        }
      ],
      "source": [
        "vendas[3] = 3000\n",
        "\n",
        "nome = vendas[0]\n",
        "data_contratacao = vendas[1]\n",
        "data_nascimento = vendas[2]\n",
        "salario = vendas[3]\n",
        "cargo = vendas[4]\n",
        "\n"
      ]
    }
  ],
  "metadata": {
    "kernelspec": {
      "display_name": "Python 3",
      "language": "python",
      "name": "python3"
    },
    "language_info": {
      "codemirror_mode": {
        "name": "ipython",
        "version": 3
      },
      "file_extension": ".py",
      "mimetype": "text/x-python",
      "name": "python",
      "nbconvert_exporter": "python",
      "pygments_lexer": "ipython3",
      "version": "3.8.3"
    },
    "colab": {
      "name": "Gabarito - Tuplas 01.ipynb",
      "provenance": [],
      "include_colab_link": true
    }
  },
  "nbformat": 4,
  "nbformat_minor": 0
}