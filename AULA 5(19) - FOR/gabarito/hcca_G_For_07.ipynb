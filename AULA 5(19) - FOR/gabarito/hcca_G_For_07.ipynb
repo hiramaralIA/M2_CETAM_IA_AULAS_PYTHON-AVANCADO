{
  "cells": [
    {
      "cell_type": "markdown",
      "metadata": {
        "id": "view-in-github",
        "colab_type": "text"
      },
      "source": [
        "<a href=\"https://colab.research.google.com/github/hiramaralIA/CETAM_IA_AULAS_PYTHON/blob/main/hcca_G_For_07.ipynb\" target=\"_parent\"><img src=\"https://colab.research.google.com/assets/colab-badge.svg\" alt=\"Open In Colab\"/></a>"
      ]
    },
    {
      "cell_type": "markdown",
      "metadata": {
        "id": "C_4l-8ny5pEi"
      },
      "source": [
        "# Formas de interromper um for\n",
        "\n",
        "### 2 Opções:\n",
        "\n",
        "- break -> interrompe e finaliza o for\n",
        "- continue -> interrompe e vai para o próximo item do for"
      ]
    },
    {
      "cell_type": "code",
      "execution_count": null,
      "metadata": {
        "id": "YZJqSPQr5pEp"
      },
      "outputs": [],
      "source": [
        "vendas = [100, 150, 1500, 2000, 120]"
      ]
    },
    {
      "cell_type": "markdown",
      "metadata": {
        "id": "jnB0m8GZ5pEr"
      },
      "source": [
        "- Caso 1: Se todas as vendas forem acima da meta, a loja ganha bônus"
      ]
    },
    {
      "cell_type": "code",
      "execution_count": null,
      "metadata": {
        "id": "08dLOyJ-5pEs",
        "outputId": "c80fbbd1-5dbe-469e-f2ad-b209bdb53d6b"
      },
      "outputs": [
        {
          "name": "stdout",
          "output_type": "stream",
          "text": [
            "A loja não ganha bônus\n"
          ]
        }
      ],
      "source": [
        "meta = 110\n",
        "\n",
        "for venda in vendas:\n",
        "    if venda < meta:\n",
        "        print('A loja não ganha bônus')\n",
        "        break\n",
        "    print(venda)\n",
        "\n",
        "    "
      ]
    },
    {
      "cell_type": "markdown",
      "metadata": {
        "id": "9VDdVzTy5pEu"
      },
      "source": [
        "- Caso 2: Exiba quem bateu a meta"
      ]
    },
    {
      "cell_type": "code",
      "execution_count": null,
      "metadata": {
        "id": "H-EqaT_L5pEu",
        "outputId": "a4bc63b1-44d6-4619-c7bc-5b96375de34e"
      },
      "outputs": [
        {
          "name": "stdout",
          "output_type": "stream",
          "text": [
            "150\n",
            "1500\n",
            "2000\n"
          ]
        }
      ],
      "source": [
        "vendedores = ['João', 'Julia', 'Ana', 'José', 'Maria']\n",
        "meta = 130\n",
        "\n",
        "for venda in vendas:\n",
        "    if venda < meta:\n",
        "        continue\n",
        "    print(venda)\n"
      ]
    }
  ],
  "metadata": {
    "kernelspec": {
      "display_name": "Python 3",
      "language": "python",
      "name": "python3"
    },
    "language_info": {
      "codemirror_mode": {
        "name": "ipython",
        "version": 3
      },
      "file_extension": ".py",
      "mimetype": "text/x-python",
      "name": "python",
      "nbconvert_exporter": "python",
      "pygments_lexer": "ipython3",
      "version": "3.8.3"
    },
    "colab": {
      "name": "Gabarito - For 07.ipynb",
      "provenance": [],
      "include_colab_link": true
    }
  },
  "nbformat": 4,
  "nbformat_minor": 0
}