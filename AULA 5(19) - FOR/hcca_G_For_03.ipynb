{
  "cells": [
    {
      "cell_type": "markdown",
      "metadata": {
        "id": "view-in-github",
        "colab_type": "text"
      },
      "source": [
        "<a href=\"https://colab.research.google.com/github/hiramaralIA/CETAM_IA_AULAS_PYTHON/blob/main/hcca_G_For_03.ipynb\" target=\"_parent\"><img src=\"https://colab.research.google.com/assets/colab-badge.svg\" alt=\"Open In Colab\"/></a>"
      ]
    },
    {
      "cell_type": "markdown",
      "metadata": {
        "id": "RJynkeEouXkd"
      },
      "source": [
        "# for + if\n",
        "\n",
        "### Estrutura:"
      ]
    },
    {
      "cell_type": "raw",
      "metadata": {
        "id": "QL8dfWI6uXkl"
      },
      "source": [
        "for item in lista:\n",
        "    if condicao:\n",
        "        faça alguma coisa\n",
        "    else:\n",
        "        outra coisa"
      ]
    },
    {
      "cell_type": "markdown",
      "metadata": {
        "id": "leNQUEKEuXkn"
      },
      "source": [
        "Digamos que a gente esteja analisando a meta de vendas de vários funcionários de uma empresa. A meta de vendas é de 1000 reais em 1 dia.\n",
        "\n",
        "Temos uma lista com as vendas de todos os funcionários e quero calcular qual o % de pessoas que bateram a meta."
      ]
    },
    {
      "cell_type": "code",
      "execution_count": null,
      "metadata": {
        "id": "hEQ2ceAiuXko",
        "outputId": "4bd96eee-ae0b-4a84-9d3d-d7ae281f8115"
      },
      "outputs": [
        {
          "name": "stdout",
          "output_type": "stream",
          "text": [
            "O percentual de pessoas que bateram a meta foi de 26.1%\n"
          ]
        }
      ],
      "source": [
        "vendas = [1200, 300, 800, 1500, 1900, 2750, 400, 20, 23, 70, 90, 80, 1100, 999, 900, 880, 870, 50, 1111, 120, 300, 450, 800]\n",
        "meta = 1000\n",
        "\n",
        "qtde_bateu_meta = 0\n",
        "\n",
        "for venda in vendas:\n",
        "    if venda >= meta:\n",
        "        qtde_bateu_meta += 1\n",
        "\n",
        "qtde_funcionarios = len(vendas)\n",
        "\n",
        "print('O percentual de pessoas que bateram a meta foi de {:.1%}'.format(qtde_bateu_meta / qtde_funcionarios))"
      ]
    }
  ],
  "metadata": {
    "kernelspec": {
      "display_name": "Python 3",
      "language": "python",
      "name": "python3"
    },
    "language_info": {
      "codemirror_mode": {
        "name": "ipython",
        "version": 3
      },
      "file_extension": ".py",
      "mimetype": "text/x-python",
      "name": "python",
      "nbconvert_exporter": "python",
      "pygments_lexer": "ipython3",
      "version": "3.8.3"
    },
    "colab": {
      "name": "Gabarito - For 03.ipynb",
      "provenance": [],
      "include_colab_link": true
    }
  },
  "nbformat": 4,
  "nbformat_minor": 0
}