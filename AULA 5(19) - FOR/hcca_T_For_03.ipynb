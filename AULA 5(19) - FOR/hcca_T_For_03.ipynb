{
 "cells": [
  {
   "cell_type": "markdown",
   "metadata": {
    "colab_type": "text",
    "id": "view-in-github"
   },
   "source": [
    "<a href=\"https://colab.research.google.com/github/hiramaralIA/CETAM_IA_AULAS_PYTHON/blob/main/hcca_T_For_03.ipynb\" target=\"_parent\"><img src=\"https://colab.research.google.com/assets/colab-badge.svg\" alt=\"Open In Colab\"/></a>"
   ]
  },
  {
   "cell_type": "markdown",
   "metadata": {
    "id": "oEwEfa4yu8pM"
   },
   "source": [
    "# for + if\n",
    "\n",
    "### Estrutura:"
   ]
  },
  {
   "cell_type": "raw",
   "metadata": {
    "id": "Ih_Hp5Q9u8pT"
   },
   "source": [
    "for item in lista:\n",
    "    if condicao:\n",
    "        faça alguma coisa\n",
    "    else:\n",
    "        outra coisa"
   ]
  },
  {
   "cell_type": "markdown",
   "metadata": {
    "id": "F_K0oe7cu8pV"
   },
   "source": [
    "Digamos que a gente esteja analisando a meta de vendas de vários funcionários de uma empresa. A meta de vendas é de 1000 reais em 1 dia.\n",
    "\n",
    "Temos uma lista com as vendas de todos os funcionários e quero calcular qual o % de pessoas que bateram a meta."
   ]
  },
  {
   "cell_type": "code",
   "execution_count": 3,
   "metadata": {
    "id": "9rlCWOLwu8pW"
   },
   "outputs": [],
   "source": [
    "vendas = [1200, 300, 800, 1500, 1900, 2750, 400, 20, 23, 70, 90, 80, 1100, 999, 900, 880, 870, 50, 1111, 120, 300, 450, 800]\n",
    "meta = 1000\n"
   ]
  },
  {
   "cell_type": "code",
   "execution_count": 5,
   "metadata": {},
   "outputs": [
    {
     "name": "stdout",
     "output_type": "stream",
     "text": [
      "1200\n",
      "300\n",
      "800\n",
      "1500\n",
      "1900\n",
      "2750\n",
      "400\n",
      "20\n",
      "23\n",
      "70\n",
      "90\n",
      "80\n",
      "1100\n",
      "999\n",
      "900\n",
      "880\n",
      "870\n",
      "50\n",
      "1111\n",
      "120\n",
      "300\n",
      "450\n",
      "800\n"
     ]
    }
   ],
   "source": [
    "for venda in vendas:\n",
    "    print(venda)\n",
    "    "
   ]
  },
  {
   "cell_type": "code",
   "execution_count": 7,
   "metadata": {},
   "outputs": [
    {
     "name": "stdout",
     "output_type": "stream",
     "text": [
      "1200\n",
      "1500\n",
      "1900\n",
      "2750\n",
      "1100\n",
      "1111\n"
     ]
    }
   ],
   "source": [
    "for venda in vendas:\n",
    "    if venda >= meta:\n",
    "        print(venda)\n",
    "    "
   ]
  },
  {
   "cell_type": "code",
   "execution_count": 9,
   "metadata": {},
   "outputs": [
    {
     "name": "stdout",
     "output_type": "stream",
     "text": [
      "6\n"
     ]
    }
   ],
   "source": [
    "# contando os itens que batera a meta\n",
    "\n",
    "qte_bateu_meta = 0\n",
    "\n",
    "for venda in vendas:\n",
    "    if venda >= meta:\n",
    "        qte_bateu_meta += 1\n",
    "print(qte_bateu_meta)"
   ]
  },
  {
   "cell_type": "code",
   "execution_count": 15,
   "metadata": {},
   "outputs": [
    {
     "name": "stdout",
     "output_type": "stream",
     "text": [
      "6\n",
      "23\n",
      "O percentual de funcionarios que bateu a meta foi 26%\n"
     ]
    }
   ],
   "source": [
    "# qual o percentul que bateu a meta\n",
    "\n",
    "qte_bateu_meta = 0\n",
    "\n",
    "for venda in vendas:\n",
    "    if venda >= meta:\n",
    "        qte_bateu_meta += 1\n",
    "        \n",
    "qte_funcionarios = len(vendas)\n",
    "print(qte_bateu_meta)\n",
    "print(qte_funcionarios)\n",
    "\n",
    "print(\"O percentual de funcionarios que bateu a meta foi {:.0%}\".format(qte_bateu_meta/qte_funcionarios))\n",
    "\n"
   ]
  },
  {
   "cell_type": "code",
   "execution_count": null,
   "metadata": {},
   "outputs": [],
   "source": []
  }
 ],
 "metadata": {
  "colab": {
   "include_colab_link": true,
   "name": "For 03.ipynb",
   "provenance": []
  },
  "kernelspec": {
   "display_name": "Python 3 (ipykernel)",
   "language": "python",
   "name": "python3"
  },
  "language_info": {
   "codemirror_mode": {
    "name": "ipython",
    "version": 3
   },
   "file_extension": ".py",
   "mimetype": "text/x-python",
   "name": "python",
   "nbconvert_exporter": "python",
   "pygments_lexer": "ipython3",
   "version": "3.9.7"
  }
 },
 "nbformat": 4,
 "nbformat_minor": 1
}
