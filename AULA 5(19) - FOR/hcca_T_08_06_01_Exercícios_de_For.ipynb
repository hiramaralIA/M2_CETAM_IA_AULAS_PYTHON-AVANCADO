{
  "cells": [
    {
      "cell_type": "markdown",
      "metadata": {
        "id": "view-in-github",
        "colab_type": "text"
      },
      "source": [
        "<a href=\"https://colab.research.google.com/github/hiramaralIA/CETAM_IA_AULAS_PYTHON/blob/main/hcca_T_08_06_01_Exerc%C3%ADcios_de_For.ipynb\" target=\"_parent\"><img src=\"https://colab.research.google.com/assets/colab-badge.svg\" alt=\"Open In Colab\"/></a>"
      ]
    },
    {
      "cell_type": "markdown",
      "metadata": {
        "id": "m0DWr_hJ5aq3"
      },
      "source": [
        "# Exercícios\n",
        "\n",
        "## 1. Calculando % de uma lista\n",
        "\n",
        "Faremos algo parecido com \"filtrar\" uma lista. Mais pra frente no curso aprenderemos outras formas de fazer isso, mas com o nosso conhecimentoa atual já conseguimos resolver o desafio.\n",
        "\n",
        "Digamos que a gente tenha uma lista de vendedores e ao invés de saber todos os vendedores que bateram a meta, eu quero conseguir calcular o % de vendedores que bateram a meta. Ou seja, se temos 10 vendedores e 3 bateram a meta, temos 30% dos vendedores que bateram a meta."
      ]
    },
    {
      "cell_type": "code",
      "execution_count": null,
      "metadata": {
        "id": "whnRMn_n5arD"
      },
      "outputs": [],
      "source": [
        "meta = 10000\n",
        "vendas = [\n",
        "    ['João', 15000],\n",
        "    ['Julia', 27000],\n",
        "    ['Marcus', 9900],\n",
        "    ['Maria', 3750],\n",
        "    ['Ana', 10300],\n",
        "    ['Alon', 7870],\n",
        "]\n",
        "#seu código aqui"
      ]
    },
    {
      "cell_type": "markdown",
      "metadata": {
        "id": "BTk_t2cR5arI"
      },
      "source": [
        "- Vamos resolver de 2 formas:\n",
        "    1. Criando uma lista auxiliar apenas com os vendedores que bateram a meta\n",
        "    2. Fazendo o cálculo diretamente na lista que já temos"
      ]
    },
    {
      "cell_type": "markdown",
      "metadata": {
        "id": "2kNcan8t5arK"
      },
      "source": [
        "## Para treinar uma estrutura parecida, crie um código para responder: quem foi o vendedor que mais vendeu?"
      ]
    },
    {
      "cell_type": "code",
      "execution_count": null,
      "metadata": {
        "id": "z13QfGgX5arM"
      },
      "outputs": [],
      "source": [
        "#seu código aqui"
      ]
    }
  ],
  "metadata": {
    "kernelspec": {
      "display_name": "Python 3",
      "language": "python",
      "name": "python3"
    },
    "language_info": {
      "codemirror_mode": {
        "name": "ipython",
        "version": 3
      },
      "file_extension": ".py",
      "mimetype": "text/x-python",
      "name": "python",
      "nbconvert_exporter": "python",
      "pygments_lexer": "ipython3",
      "version": "3.8.3"
    },
    "colab": {
      "name": "08.06.01 Exercícios de For.ipynb",
      "provenance": [],
      "include_colab_link": true
    }
  },
  "nbformat": 4,
  "nbformat_minor": 0
}