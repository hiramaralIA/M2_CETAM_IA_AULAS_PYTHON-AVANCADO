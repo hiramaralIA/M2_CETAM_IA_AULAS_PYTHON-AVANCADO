{
  "cells": [
    {
      "cell_type": "markdown",
      "metadata": {
        "id": "view-in-github",
        "colab_type": "text"
      },
      "source": [
        "<a href=\"https://colab.research.google.com/github/hiramaralIA/CETAM_IA_AULAS_PYTHON/blob/main/hcca_G_For_02.ipynb\" target=\"_parent\"><img src=\"https://colab.research.google.com/assets/colab-badge.svg\" alt=\"Open In Colab\"/></a>"
      ]
    },
    {
      "cell_type": "markdown",
      "metadata": {
        "id": "_H4DOF40rgv4"
      },
      "source": [
        "# For \"each\"\n",
        "\n",
        "### Estrutura:\n",
        "\n",
        "O for no Python consegue percorrer uma lista e a cada \"loop\" retornar o valor do item."
      ]
    },
    {
      "cell_type": "raw",
      "metadata": {
        "id": "qEUCWmXGrgwD"
      },
      "source": [
        "for i in range(5):\n",
        "    print(i)\n",
        "    \n",
        "range(5) é na verdade uma lista do tipo: [0, 1, 2, 3, 4]"
      ]
    },
    {
      "cell_type": "markdown",
      "metadata": {
        "id": "0bGjdN28rgwF"
      },
      "source": [
        "### Usando para listas:"
      ]
    },
    {
      "cell_type": "raw",
      "metadata": {
        "id": "ZA3_9p1qrgwG"
      },
      "source": [
        "for item in lista:\n",
        "    print(item)\n",
        "    \n",
        "ou então para string:\n",
        "\n",
        "for ch in texto:\n",
        "    print(ch)"
      ]
    },
    {
      "cell_type": "code",
      "execution_count": null,
      "metadata": {
        "id": "VVlx5SPzrgwI",
        "outputId": "a695afd9-1147-4468-8b22-d2af4d14a73e"
      },
      "outputs": [
        {
          "name": "stdout",
          "output_type": "stream",
          "text": [
            "O produto é coca\n",
            "O produto é pepsi\n",
            "O produto é guarana\n",
            "O produto é sprite\n",
            "O produto é fanta\n",
            "l\n",
            "i\n",
            "r\n",
            "a\n",
            "@\n",
            "g\n",
            "m\n",
            "a\n",
            "i\n",
            "l\n",
            ".\n",
            "c\n",
            "o\n",
            "m\n"
          ]
        }
      ],
      "source": [
        "produtos = ['coca', 'pepsi', 'guarana', 'sprite', 'fanta']\n",
        "texto = 'lira@gmail.com'\n",
        "\n",
        "for produto in produtos:\n",
        "    print('O produto é {}'.format(produto))\n",
        "    \n",
        "for ch in texto:\n",
        "    print(ch)"
      ]
    }
  ],
  "metadata": {
    "kernelspec": {
      "display_name": "Python 3",
      "language": "python",
      "name": "python3"
    },
    "language_info": {
      "codemirror_mode": {
        "name": "ipython",
        "version": 3
      },
      "file_extension": ".py",
      "mimetype": "text/x-python",
      "name": "python",
      "nbconvert_exporter": "python",
      "pygments_lexer": "ipython3",
      "version": "3.8.3"
    },
    "colab": {
      "name": "Gabarito - For 02.ipynb",
      "provenance": [],
      "include_colab_link": true
    }
  },
  "nbformat": 4,
  "nbformat_minor": 0
}