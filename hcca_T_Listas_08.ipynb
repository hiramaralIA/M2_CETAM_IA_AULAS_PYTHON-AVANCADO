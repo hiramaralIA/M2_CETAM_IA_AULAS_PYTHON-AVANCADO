{
  "cells": [
    {
      "cell_type": "markdown",
      "metadata": {
        "id": "view-in-github",
        "colab_type": "text"
      },
      "source": [
        "<a href=\"https://colab.research.google.com/github/hiramaralIA/M2_CETAM_IA_AULAS_PYTHON-AVANCADO/blob/main/hcca_T_Listas_08.ipynb\" target=\"_parent\"><img src=\"https://colab.research.google.com/assets/colab-badge.svg\" alt=\"Open In Colab\"/></a>"
      ]
    },
    {
      "cell_type": "markdown",
      "metadata": {
        "id": "WNNtZeCKBeAh"
      },
      "source": [
        "# Alterações de Variáveis\n",
        "\n",
        "Estrutura:\n",
        "\n",
        "- variavel = variavel + outro_valor\n",
        "\n",
        "ou então\n",
        "\n",
        "- variavel += outro_valor"
      ]
    },
    {
      "cell_type": "markdown",
      "metadata": {
        "id": "FgrPpniuBeAl"
      },
      "source": [
        "Exemplo: vamos adicionar às variáveis criadas o Produto IPad, 500 vendas"
      ]
    },
    {
      "cell_type": "code",
      "execution_count": null,
      "metadata": {
        "id": "nrblpq5DBeAl"
      },
      "outputs": [],
      "source": [
        "lista = ['mac', 'iphone']\n",
        "vendas = [100, 200]\n",
        "#adicionando IPad na lista\n",
        "\n",
        "\n",
        "\n",
        "\n",
        "soma_vendas = 300\n",
        "#adicionando na soma a quantidade de IPad\n",
        "\n",
        "\n",
        "\n",
        "\n",
        "\n",
        "email = 'Esse mês vendemos um total de {} produtos, sendo:\\n{} unidades de {}\\n{} unidades de {}'.format(soma_vendas, vendas[0], lista[0], vendas[1], lista[1])\n",
        "#adicionando no fim do texto o Ipad\n",
        "\n",
        "\n",
        "\n",
        "\n",
        "print(email)"
      ]
    }
  ],
  "metadata": {
    "kernelspec": {
      "display_name": "Python 3",
      "language": "python",
      "name": "python3"
    },
    "language_info": {
      "codemirror_mode": {
        "name": "ipython",
        "version": 3
      },
      "file_extension": ".py",
      "mimetype": "text/x-python",
      "name": "python",
      "nbconvert_exporter": "python",
      "pygments_lexer": "ipython3",
      "version": "3.8.3"
    },
    "colab": {
      "name": "Listas 08.ipynb",
      "provenance": [],
      "include_colab_link": true
    }
  },
  "nbformat": 4,
  "nbformat_minor": 0
}