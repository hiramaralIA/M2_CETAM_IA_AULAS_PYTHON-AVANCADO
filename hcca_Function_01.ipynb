{
  "cells": [
    {
      "cell_type": "markdown",
      "metadata": {
        "id": "view-in-github",
        "colab_type": "text"
      },
      "source": [
        "<a href=\"https://colab.research.google.com/github/hiramaralIA/M2_CETAM_IA_AULAS_PYTHON-AVANCADO/blob/main/hcca_Function_01.ipynb\" target=\"_parent\"><img src=\"https://colab.research.google.com/assets/colab-badge.svg\" alt=\"Open In Colab\"/></a>"
      ]
    },
    {
      "cell_type": "markdown",
      "metadata": {
        "id": "TH40qLqBrHF6"
      },
      "source": [
        "# Function Python\n",
        "\n",
        "### O que é?\n",
        "\n",
        "As functions são blocos de código que servem 1 único propósito, fazem uma ação específica.\n",
        "\n",
        "### Estrutura Básica"
      ]
    },
    {
      "cell_type": "raw",
      "metadata": {
        "id": "6Q5BkZLbrHGA"
      },
      "source": [
        "def nome_funcao():\n",
        "    faça alguma coisa\n",
        "    faça outra coisa\n",
        "    return valor_final"
      ]
    },
    {
      "cell_type": "markdown",
      "metadata": {
        "id": "cRorpwuUrHGB"
      },
      "source": [
        "- Exemplo: vamos criar uma função de cadastro de um Produto. Essa função deve garantir que o produto cadastrado está em letra minúscula."
      ]
    },
    {
      "cell_type": "code",
      "execution_count": null,
      "metadata": {
        "id": "bqJ190KyrHGC"
      },
      "outputs": [],
      "source": [
        ""
      ]
    }
  ],
  "metadata": {
    "kernelspec": {
      "display_name": "Python 3",
      "language": "python",
      "name": "python3"
    },
    "language_info": {
      "codemirror_mode": {
        "name": "ipython",
        "version": 3
      },
      "file_extension": ".py",
      "mimetype": "text/x-python",
      "name": "python",
      "nbconvert_exporter": "python",
      "pygments_lexer": "ipython3",
      "version": "3.8.3"
    },
    "colab": {
      "name": "Function 01.ipynb",
      "provenance": [],
      "include_colab_link": true
    }
  },
  "nbformat": 4,
  "nbformat_minor": 0
}