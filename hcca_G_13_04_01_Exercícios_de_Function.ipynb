{
  "cells": [
    {
      "cell_type": "markdown",
      "metadata": {
        "id": "view-in-github",
        "colab_type": "text"
      },
      "source": [
        "<a href=\"https://colab.research.google.com/github/hiramaralIA/M2_CETAM_IA_AULAS_PYTHON-AVANCADO/blob/main/hcca_G_13_04_01_Exerc%C3%ADcios_de_Function.ipynb\" target=\"_parent\"><img src=\"https://colab.research.google.com/assets/colab-badge.svg\" alt=\"Open In Colab\"/></a>"
      ]
    },
    {
      "cell_type": "markdown",
      "metadata": {
        "id": "M75UHXnQ3bhP"
      },
      "source": [
        "# Exercícios\n",
        "\n",
        "Para fazer um treino simples antes de avançarmos em mais functions, vamos criar uma function que resolve 1 \"desafio simples\"\n",
        "\n",
        "## 1. Function para Cálculo de Carga Tributária\n",
        "\n",
        "(Lembrando, não se atente ao funcionamento real da carga tributária, é apenas um exemplo imaginário para treinarmos as functions com algo mais prático)\n",
        "\n",
        "Imagine que você trabalha no setor contábil de uma grande empresa de Varejo. \n",
        "\n",
        "Crie uma function que calcule qual o % de carga tributária que está sendo aplicado sobre um determinado produto, dado o preço de venda, o \"lucro\" e os custos (com exceção do imposto) dele."
      ]
    },
    {
      "cell_type": "code",
      "execution_count": null,
      "metadata": {
        "id": "vjCe_5ry3bhU"
      },
      "outputs": [],
      "source": [
        "preco = 1500\n",
        "custo = 400\n",
        "lucro = 785"
      ]
    },
    {
      "cell_type": "markdown",
      "metadata": {
        "id": "BTY-gGuH3bhW"
      },
      "source": [
        "Repare que preço - custo não é igual ao lucro, porque ainda foi descontado o imposto. Sua functiona deve calcular qual foi o % de imposto aplicado sobre o preço total."
      ]
    },
    {
      "cell_type": "code",
      "execution_count": null,
      "metadata": {
        "id": "MZshOf2c3bhW"
      },
      "outputs": [],
      "source": [
        "#crie sua function aqui\n",
        "def carga_tributaria(preco, custo, lucro):\n",
        "    imposto = preco - custo - lucro\n",
        "    return imposto / preco"
      ]
    },
    {
      "cell_type": "code",
      "execution_count": null,
      "metadata": {
        "id": "cERgtSK23bhX",
        "outputId": "1c5ee020-60b2-45dd-a174-268725c2173e"
      },
      "outputs": [
        {
          "name": "stdout",
          "output_type": "stream",
          "text": [
            "A carga tributária foi de 21.0%\n"
          ]
        }
      ],
      "source": [
        "#aplique sua function nos valores fornecidos para ver se ela está funcionando corretamente\n",
        "print('A carga tributária foi de {:.1%}'.format(carga_tributaria(preco, custo, lucro)))"
      ]
    }
  ],
  "metadata": {
    "kernelspec": {
      "display_name": "Python 3",
      "language": "python",
      "name": "python3"
    },
    "language_info": {
      "codemirror_mode": {
        "name": "ipython",
        "version": 3
      },
      "file_extension": ".py",
      "mimetype": "text/x-python",
      "name": "python",
      "nbconvert_exporter": "python",
      "pygments_lexer": "ipython3",
      "version": "3.8.3"
    },
    "colab": {
      "name": "Gabarito - 13.04.01 Exercícios de Function.ipynb",
      "provenance": [],
      "include_colab_link": true
    }
  },
  "nbformat": 4,
  "nbformat_minor": 0
}