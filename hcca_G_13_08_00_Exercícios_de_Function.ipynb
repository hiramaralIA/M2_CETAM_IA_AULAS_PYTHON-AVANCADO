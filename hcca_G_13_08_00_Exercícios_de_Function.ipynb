{
  "cells": [
    {
      "cell_type": "markdown",
      "metadata": {
        "id": "view-in-github",
        "colab_type": "text"
      },
      "source": [
        "<a href=\"https://colab.research.google.com/github/hiramaralIA/M2_CETAM_IA_AULAS_PYTHON-AVANCADO/blob/main/hcca_G_13_08_00_Exerc%C3%ADcios_de_Function.ipynb\" target=\"_parent\"><img src=\"https://colab.research.google.com/assets/colab-badge.svg\" alt=\"Open In Colab\"/></a>"
      ]
    },
    {
      "cell_type": "markdown",
      "metadata": {
        "id": "2iyU6f6WFWkW"
      },
      "source": [
        "# Exercícios\n",
        "\n",
        "### Antes de irmos para o desafio que apresentamos na última aula (que é bem mais complexo do que um exemplo simples) vamos resolver um exercício um pouco mais simples para treinar\n",
        "\n",
        "## 1. Cálculo do Percentual e da Lista de Vendedores\n",
        "\n",
        "- Queremos criar uma function que consiga identificar os vendedores que bateram uma meta, mas além disso, consigo já me dar como resposta o cálculo do % da lista de vendedores que bateu a meta (para eu não precisar calcular manualmente depois)\n",
        "- Essa function deve receber 2 informações como parâmetro: a meta e um dicionário com os vendedores e suas vendas. E me dar 2 respostas: uma lista com o nome dos vendedores que bateram a meta e o % de vendedores que bateu a meta."
      ]
    },
    {
      "cell_type": "code",
      "execution_count": null,
      "metadata": {
        "id": "w89maq3oFWke"
      },
      "outputs": [],
      "source": [
        "meta = 10000\n",
        "vendas = {\n",
        "    'João': 15000,\n",
        "    'Julia': 27000,\n",
        "    'Marcus': 9900,\n",
        "    'Maria': 3750,\n",
        "    'Ana': 10300,\n",
        "    'Alon': 7870,\n",
        "}"
      ]
    },
    {
      "cell_type": "code",
      "execution_count": null,
      "metadata": {
        "id": "IzuX94EDFWkh"
      },
      "outputs": [],
      "source": [
        "#crie sua function aqui\n",
        "def calculo_meta(meta, vendas):\n",
        "    bateram_meta = []\n",
        "    for vendedor in vendas:\n",
        "        if vendas[vendedor] >= meta:\n",
        "            bateram_meta.append(vendedor)\n",
        "    perc_baterammeta = len(bateram_meta) / len(vendas)\n",
        "    return perc_baterammeta, bateram_meta"
      ]
    },
    {
      "cell_type": "code",
      "execution_count": null,
      "metadata": {
        "id": "WwE5cmZsFWki",
        "outputId": "0c245d03-5f70-4574-91dd-5529fb50ed6a"
      },
      "outputs": [
        {
          "name": "stdout",
          "output_type": "stream",
          "text": [
            "0.5\n",
            "['João', 'Julia', 'Ana']\n"
          ]
        }
      ],
      "source": [
        "#aplique sua function nas informações para ver se está funcionando\n",
        "p_meta, vendedores_acima_meta = calculo_meta(meta, vendas)\n",
        "print(p_meta)\n",
        "print(vendedores_acima_meta)"
      ]
    }
  ],
  "metadata": {
    "kernelspec": {
      "display_name": "Python 3",
      "language": "python",
      "name": "python3"
    },
    "language_info": {
      "codemirror_mode": {
        "name": "ipython",
        "version": 3
      },
      "file_extension": ".py",
      "mimetype": "text/x-python",
      "name": "python",
      "nbconvert_exporter": "python",
      "pygments_lexer": "ipython3",
      "version": "3.8.3"
    },
    "colab": {
      "name": "Gabarito - 13.08.00 Exercícios de Function.ipynb",
      "provenance": [],
      "include_colab_link": true
    }
  },
  "nbformat": 4,
  "nbformat_minor": 0
}