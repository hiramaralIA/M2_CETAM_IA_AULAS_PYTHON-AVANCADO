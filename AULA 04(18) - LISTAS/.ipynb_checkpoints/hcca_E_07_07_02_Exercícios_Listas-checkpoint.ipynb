{
 "cells": [
  {
   "cell_type": "markdown",
   "metadata": {
    "colab_type": "text",
    "id": "view-in-github"
   },
   "source": [
    "<a href=\"https://colab.research.google.com/github/hiramaralIA/CETAM_IA_AULAS_PYTHON/blob/main/hcca_E_07_07_02_Exerc%C3%ADcios_Listas.ipynb\" target=\"_parent\"><img src=\"https://colab.research.google.com/assets/colab-badge.svg\" alt=\"Open In Colab\"/></a>"
   ]
  },
  {
   "cell_type": "markdown",
   "metadata": {
    "id": "JgyE-11ikSzG"
   },
   "source": [
    "# Exercícios\n",
    "\n",
    "## 1. Faturamento do Melhor e do Pior Mês do Ano\n",
    "\n",
    "Qual foi o valor de vendas do melhor mês do Ano?\n",
    "E valor do pior mês do ano?"
   ]
  },
  {
   "cell_type": "code",
   "execution_count": 22,
   "metadata": {
    "id": "VJd-E6RFkSzJ",
    "outputId": "8fe1dc32-0487-4985-8415-838ec64e48b1"
   },
   "outputs": [
    {
     "name": "stdout",
     "output_type": "stream",
     "text": [
      "[25000, 29000, 22200, 17750, 15870, 19900, 19850, 20120, 17540, 15555, 49051, 9650]\n",
      "49051\n",
      "9650\n"
     ]
    }
   ],
   "source": [
    "meses = ['jan', 'fev', 'mar', 'abr', 'mai', 'jun', 'jul', 'ago', 'set', 'out', 'nov', 'dez']\n",
    "vendas_1sem = [25000, 29000, 22200, 17750, 15870, 19900]\n",
    "vendas_2sem = [19850, 20120, 17540, 15555, 49051, 9650]\n",
    "\n",
    "#vamos usar o método extend\n",
    "\n",
    "vendas_1sem.extend(vendas_2sem)\n",
    "print(vendas_1sem)\n",
    "\n",
    "maior_valor = max(vendas_1sem)\n",
    "print(maior_valor)\n",
    "menor_valor = min(vendas_1sem)\n",
    "print(menor_valor)"
   ]
  },
  {
   "cell_type": "markdown",
   "metadata": {
    "id": "iFezG4_TkSzL"
   },
   "source": [
    "## 2. Continuação\n",
    "\n",
    "Agora relacione as duas listas para printar <br>\n",
    "'O melhor mês do ano foi {} com {} vendas' e o mesmo para o pior mês do ano.\n",
    "\n",
    "Calcule também o faturamento total do Ano e quanto que o melhor mês representou do faturamento total.\n",
    "\n",
    "Obs: Para o faturamento total, pode usar a função sum(lista) que soma todos os itens de uma lista"
   ]
  },
  {
   "cell_type": "code",
   "execution_count": 14,
   "metadata": {
    "id": "vkG54tWHkSzM",
    "outputId": "a427c1c5-820e-4e2e-ae35-e607eb4b0812"
   },
   "outputs": [
    {
     "name": "stdout",
     "output_type": "stream",
     "text": [
      "O melhor mês do ano foi nov com 49051 vendas\n",
      "O menor mês do ano foi dez com 9650 vendas\n",
      "Faturamento total foi de: R$261,486 \n",
      "O mehor mês representou 18.76%  das vendas do ano todo\n"
     ]
    }
   ],
   "source": [
    "i_maior_valor = vendas_1sem.index(maior_valor)\n",
    "i_menor_valor = vendas_1sem.index(menor_valor)\n",
    "\n",
    "print('O melhor mês do ano foi {} com {} vendas'.format(meses[i_maior_valor], maior_valor))\n",
    "print('O menor mês do ano foi {} com {} vendas'.format(meses[i_menor_valor], menor_valor))\n",
    "\n",
    "faturamento_total = sum(vendas_1sem)\n",
    "print('Faturamento total foi de: R${:,} '.format(faturamento_total))\n",
    "\n",
    "percentual = maior_valor/faturamento_total\n",
    "print('O mehor mês representou {:.2%}  das vendas do ano todo'.format(percentual))"
   ]
  },
  {
   "cell_type": "markdown",
   "metadata": {
    "id": "q8CEvHJakSzM"
   },
   "source": [
    "## 3. Crie uma lista com o top 3 valores de vendas do ano (sem fazer \"no olho\")\n",
    "\n",
    "Dica: o método remove retira um item da lista."
   ]
  },
  {
   "cell_type": "code",
   "execution_count": 23,
   "metadata": {
    "id": "xlrfxv8DkSzM",
    "outputId": "8eec0e94-73b9-44f2-cf38-1be150bc0ffd"
   },
   "outputs": [
    {
     "name": "stdout",
     "output_type": "stream",
     "text": [
      "[25000, 29000, 22200, 17750, 15870, 19900, 19850, 20120, 17540, 15555, 49051, 9650]\n",
      "[49051]\n",
      "[25000, 29000, 22200, 17750, 15870, 19900, 19850, 20120, 17540, 15555, 9650]\n",
      "[25000, 22200, 17750, 15870, 19900, 19850, 20120, 17540, 15555, 9650]\n",
      "[49051, 29000, 25000]\n"
     ]
    }
   ],
   "source": [
    "top3=[]\n",
    "\n",
    "print(vendas_1sem)\n",
    "maior_valor = max(vendas_1sem)\n",
    "top3.append(maior_valor)\n",
    "print(top3)\n",
    "\n",
    "vendas_1sem.remove(maior_valor)\n",
    "\n",
    "print(vendas_1sem)\n",
    "\n",
    "maior_valor = max(vendas_1sem)\n",
    "top3.append(maior_valor)\n",
    "vendas_1sem.remove(maior_valor)\n",
    "\n",
    "print(vendas_1sem)\n",
    "\n",
    "maior_valor = max(vendas_1sem)\n",
    "top3.append(maior_valor)\n",
    "print(top3)"
   ]
  },
  {
   "cell_type": "code",
   "execution_count": null,
   "metadata": {},
   "outputs": [],
   "source": []
  }
 ],
 "metadata": {
  "colab": {
   "include_colab_link": true,
   "name": "Gabarito - 07.07.02 Exercícios Listas.ipynb",
   "provenance": []
  },
  "kernelspec": {
   "display_name": "Python 3 (ipykernel)",
   "language": "python",
   "name": "python3"
  },
  "language_info": {
   "codemirror_mode": {
    "name": "ipython",
    "version": 3
   },
   "file_extension": ".py",
   "mimetype": "text/x-python",
   "name": "python",
   "nbconvert_exporter": "python",
   "pygments_lexer": "ipython3",
   "version": "3.9.7"
  }
 },
 "nbformat": 4,
 "nbformat_minor": 1
}
