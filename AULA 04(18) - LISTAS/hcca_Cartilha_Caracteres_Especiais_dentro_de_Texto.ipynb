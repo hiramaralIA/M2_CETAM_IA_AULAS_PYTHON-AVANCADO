{
  "cells": [
    {
      "cell_type": "markdown",
      "metadata": {
        "id": "view-in-github",
        "colab_type": "text"
      },
      "source": [
        "<a href=\"https://colab.research.google.com/github/hiramaralIA/CETAM_IA_AULAS_PYTHON/blob/main/hcca_Cartilha_Caracteres_Especiais_dentro_de_Texto.ipynb\" target=\"_parent\"><img src=\"https://colab.research.google.com/assets/colab-badge.svg\" alt=\"Open In Colab\"/></a>"
      ]
    },
    {
      "cell_type": "markdown",
      "metadata": {
        "id": "kImqWfQctW8d"
      },
      "source": [
        "# Caracteres Especiais dentro de Texto\n",
        "\n",
        "Alguns caracteres como o 'enter' tem um código específico no Python para serem usados. Os principais são:"
      ]
    },
    {
      "cell_type": "raw",
      "metadata": {
        "id": "JjdqZmEetW8h"
      },
      "source": [
        "\\\"  Aspas Duplas\n",
        "\\'\tAspas Simples\t\n",
        "\\\\\tContra Barra\n",
        "\\n\tNova Linha\t\t\n",
        "\\t\tTab\t"
      ]
    }
  ],
  "metadata": {
    "kernelspec": {
      "display_name": "Python 3",
      "language": "python",
      "name": "python3"
    },
    "language_info": {
      "codemirror_mode": {
        "name": "ipython",
        "version": 3
      },
      "file_extension": ".py",
      "mimetype": "text/x-python",
      "name": "python",
      "nbconvert_exporter": "python",
      "pygments_lexer": "ipython3",
      "version": "3.8.3"
    },
    "colab": {
      "name": "Cartilha - Caracteres Especiais dentro de Texto.ipynb",
      "provenance": [],
      "include_colab_link": true
    }
  },
  "nbformat": 4,
  "nbformat_minor": 0
}