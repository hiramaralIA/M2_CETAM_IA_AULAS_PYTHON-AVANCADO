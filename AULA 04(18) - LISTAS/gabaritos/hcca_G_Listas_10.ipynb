{
  "cells": [
    {
      "cell_type": "markdown",
      "metadata": {
        "id": "view-in-github",
        "colab_type": "text"
      },
      "source": [
        "<a href=\"https://colab.research.google.com/github/hiramaralIA/M2_CETAM_IA_AULAS_PYTHON-AVANCADO/blob/main/hcca_G_Listas_10.ipynb\" target=\"_parent\"><img src=\"https://colab.research.google.com/assets/colab-badge.svg\" alt=\"Open In Colab\"/></a>"
      ]
    },
    {
      "cell_type": "markdown",
      "metadata": {
        "id": "goi2K0l1IRf6"
      },
      "source": [
        "# Listas de Listas\n",
        "\n",
        "### Estrutura:\n",
        "\n",
        "Cada item de uma lista pode ser qualquer tipo de variável. Inclusive, uma lista.\n",
        "\n",
        "Quando dentro de uma lista temos cada item como sendo uma outra lista, temos uma \"nested list\", ou seja, uma lista de listas.\n",
        "\n",
        "Todas as regras de lista e tudo que vimos até agora funciona exatamente igual, mas vamos ver como isso funciona na prática"
      ]
    },
    {
      "cell_type": "code",
      "execution_count": null,
      "metadata": {
        "id": "vBoTpr6GIRf9"
      },
      "outputs": [],
      "source": [
        "vendedores = ['Lira', 'João', 'Diego', 'Alon']\n",
        "produtos = ['ipad', 'iphone']\n",
        "vendas = [\n",
        "    [100, 200],\n",
        "    [300, 500],\n",
        "    [50, 1000],\n",
        "    [900, 10],\n",
        "]"
      ]
    },
    {
      "cell_type": "markdown",
      "metadata": {
        "id": "DemV_Bs3IRf-"
      },
      "source": [
        "- Quanto João vendeu de IPad?\n",
        "- Quanto Diego vendeu de IPhone\n",
        "- Qual o total de vendas de IPhone?"
      ]
    },
    {
      "cell_type": "code",
      "execution_count": null,
      "metadata": {
        "id": "R9YkuNGpIRf_",
        "outputId": "b87dfd51-dcb6-4e67-d5fa-25521d36efde"
      },
      "outputs": [
        {
          "name": "stdout",
          "output_type": "stream",
          "text": [
            "300\n",
            "1000\n",
            "1710\n"
          ]
        }
      ],
      "source": [
        "vendas_ipad_joao = vendas[1][0]\n",
        "print(vendas_ipad_joao)\n",
        "\n",
        "vendas_iphone_diego = vendas[2][1]\n",
        "print(vendas_iphone_diego)\n",
        "\n",
        "vendas_iphone = vendas[0][1] + vendas[1][1] + vendas[2][1] + vendas[3][1]\n",
        "print(vendas_iphone)"
      ]
    },
    {
      "cell_type": "markdown",
      "metadata": {
        "id": "IruBnFVgIRf_"
      },
      "source": [
        "- E se Lira na verdade fez apenas 50 vendas de IPhone, como eu modifico na minha lista o valor de vendas dele?"
      ]
    },
    {
      "cell_type": "code",
      "execution_count": null,
      "metadata": {
        "id": "wq4jy0lwIRgA",
        "outputId": "913f4edb-6b03-4dbc-b8b5-5e438c9cf9e3"
      },
      "outputs": [
        {
          "name": "stdout",
          "output_type": "stream",
          "text": [
            "[[100, 50], [300, 500], [50, 1000], [900, 10]]\n"
          ]
        }
      ],
      "source": [
        "vendas[0][1] = 50\n",
        "print(vendas)"
      ]
    },
    {
      "cell_type": "markdown",
      "metadata": {
        "id": "MOlXTJI3IRgA"
      },
      "source": [
        "- E se agora eu tenho um novo produto 'mac', como eu adiciono as vendas em cada um dos vendedores?"
      ]
    },
    {
      "cell_type": "code",
      "execution_count": null,
      "metadata": {
        "id": "YEzW4z4aIRgB",
        "outputId": "18915f07-a4cb-46cb-d0de-2f2c8feb6bcd"
      },
      "outputs": [
        {
          "name": "stdout",
          "output_type": "stream",
          "text": [
            "[[100, 200, 10], [300, 500, 15], [50, 1000, 6], [900, 10, 70]]\n"
          ]
        }
      ],
      "source": [
        "vendas_mac = [10, 15, 6, 70]\n",
        "\n",
        "vendas[0].append(vendas_mac[0])\n",
        "vendas[1].append(vendas_mac[1])\n",
        "vendas[2].append(vendas_mac[2])\n",
        "vendas[3].append(vendas_mac[3])\n",
        "\n",
        "print(vendas)\n"
      ]
    }
  ],
  "metadata": {
    "kernelspec": {
      "display_name": "Python 3",
      "language": "python",
      "name": "python3"
    },
    "language_info": {
      "codemirror_mode": {
        "name": "ipython",
        "version": 3
      },
      "file_extension": ".py",
      "mimetype": "text/x-python",
      "name": "python",
      "nbconvert_exporter": "python",
      "pygments_lexer": "ipython3",
      "version": "3.8.3"
    },
    "colab": {
      "name": "Gabarito - Listas 10.ipynb",
      "provenance": [],
      "include_colab_link": true
    }
  },
  "nbformat": 4,
  "nbformat_minor": 0
}