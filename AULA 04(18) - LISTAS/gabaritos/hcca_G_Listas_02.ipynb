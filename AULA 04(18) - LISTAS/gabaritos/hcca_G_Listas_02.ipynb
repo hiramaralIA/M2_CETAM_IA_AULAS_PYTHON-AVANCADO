{
  "cells": [
    {
      "cell_type": "markdown",
      "metadata": {
        "id": "view-in-github",
        "colab_type": "text"
      },
      "source": [
        "<a href=\"https://colab.research.google.com/github/hiramaralIA/CETAM_IA_AULAS_PYTHON/blob/main/hcca_G_Listas_02.ipynb\" target=\"_parent\"><img src=\"https://colab.research.google.com/assets/colab-badge.svg\" alt=\"Open In Colab\"/></a>"
      ]
    },
    {
      "cell_type": "markdown",
      "metadata": {
        "id": "z7R8AkuXev2D"
      },
      "source": [
        "# Listas em Python\n",
        "\n",
        "## Estrutura:\n",
        "\n",
        "lista = [valor, valor, valor, valor, ...]\n",
        "\n",
        "lista[i] -> é o valor de índice i da lista. <br>\n",
        "Obs: Lembre que no python o índice começa em 0, então o primeiro item de uma lista é o item lista[0]\n",
        "\n",
        "Para substituir um valor de uma lista você pode fazer:<br>\n",
        "lista[i] = novo_valor\n",
        "\n",
        "Listas de Produtos de uma Loja:"
      ]
    },
    {
      "cell_type": "code",
      "execution_count": null,
      "metadata": {
        "id": "wrGp_nOfev2L",
        "outputId": "5ede392a-3a36-49c7-990a-6c2fd88c10b0"
      },
      "outputs": [
        {
          "name": "stdout",
          "output_type": "stream",
          "text": [
            "celular\n"
          ]
        }
      ],
      "source": [
        "produtos = ['tv', 'celular', 'mouse', 'teclado', 'tablet']\n",
        "print(produtos[1])"
      ]
    },
    {
      "cell_type": "markdown",
      "metadata": {
        "id": "3nz7sDxAev2P"
      },
      "source": [
        "Lista de Unidades Vendidas de cada Produto da Loja"
      ]
    },
    {
      "cell_type": "code",
      "execution_count": null,
      "metadata": {
        "id": "3aMKDmXQev2Q",
        "outputId": "92616e94-2dce-47cd-fb84-9c4aa3304015"
      },
      "outputs": [
        {
          "name": "stdout",
          "output_type": "stream",
          "text": [
            "1500\n"
          ]
        }
      ],
      "source": [
        "vendas = [1000, 1500, 350, 270, 900]\n",
        "print(vendas[1])"
      ]
    },
    {
      "cell_type": "markdown",
      "metadata": {
        "id": "ia467mx5ev2R"
      },
      "source": [
        "### Nesse caso, as listas funcionam da seguinte forma:"
      ]
    },
    {
      "cell_type": "raw",
      "metadata": {
        "id": "nvqT2g9Hev2R"
      },
      "source": [
        "produtos = ['tv', 'celular', 'mouse', 'teclado', 'tablet']\n",
        "              0 ,      1   ,    2   ,     3    ,     4   \n",
        "vendas = [  1000,    1500  ,   350  ,    270   ,    900  ]"
      ]
    },
    {
      "cell_type": "code",
      "execution_count": null,
      "metadata": {
        "id": "hfpP7fWLev2S",
        "outputId": "746d80c6-4a05-4705-cdc8-d4ea2b10cf3b"
      },
      "outputs": [
        {
          "name": "stdout",
          "output_type": "stream",
          "text": [
            "Vendas do produto teclado foram de 300 unidades\n"
          ]
        }
      ],
      "source": [
        "vendas[3] = 300\n",
        "print('Vendas do produto {} foram de {} unidades'.format(produtos[3], vendas[3]))"
      ]
    },
    {
      "cell_type": "code",
      "execution_count": null,
      "metadata": {
        "id": "l-Xmc_Rkev2T",
        "outputId": "182a2655-76d7-4ea8-c00e-c1f94ec66d94"
      },
      "outputs": [
        {
          "name": "stdout",
          "output_type": "stream",
          "text": [
            "lara@gmaal.com\n"
          ]
        }
      ],
      "source": [
        "texto = 'lira@gmail.com'\n",
        "texto = texto.replace('i', 'a')\n",
        "print(texto)"
      ]
    }
  ],
  "metadata": {
    "kernelspec": {
      "display_name": "Python 3",
      "language": "python",
      "name": "python3"
    },
    "language_info": {
      "codemirror_mode": {
        "name": "ipython",
        "version": 3
      },
      "file_extension": ".py",
      "mimetype": "text/x-python",
      "name": "python",
      "nbconvert_exporter": "python",
      "pygments_lexer": "ipython3",
      "version": "3.8.3"
    },
    "colab": {
      "name": "Gabarito - Listas 02.ipynb",
      "provenance": [],
      "include_colab_link": true
    }
  },
  "nbformat": 4,
  "nbformat_minor": 0
}