{
 "cells": [
  {
   "cell_type": "markdown",
   "metadata": {
    "colab_type": "text",
    "id": "view-in-github"
   },
   "source": [
    "<a href=\"https://colab.research.google.com/github/hiramaralIA/CETAM_IA_AULAS_PYTHON/blob/main/hcca_g_Listas_04.ipynb\" target=\"_parent\"><img src=\"https://colab.research.google.com/assets/colab-badge.svg\" alt=\"Open In Colab\"/></a>"
   ]
  },
  {
   "cell_type": "markdown",
   "metadata": {
    "id": "8uC_c0IgrYsg"
   },
   "source": [
    "# Adicionar e Remover itens de uma lista\n",
    "\n",
    "Adicionar:<br>\n",
    "lista.append(item)\n",
    "\n",
    "Remover:<br>\n",
    "item_removido = lista.pop(indice)<br>\n",
    "lista.remove(item)\n",
    "\n",
    "Digamos que você está construindo o controle de produtos da Apple.<br>\n",
    "E a Apple lançou o IPhone 11 e irá tirar dos seus estoques o IPhone X"
   ]
  },
  {
   "cell_type": "code",
   "execution_count": null,
   "metadata": {
    "id": "KoCMTcwBrYsj",
    "outputId": "a1c2b0b5-d6d2-4a4f-986d-3bc4c69c4288"
   },
   "outputs": [
    {
     "name": "stdout",
     "output_type": "stream",
     "text": [
      "['apple tv', 'mac', 'iphone x', 'IPad', 'apple watch', 'mac book', 'airpods']\n",
      "['apple tv', 'mac', 'iphone x', 'IPad', 'apple watch', 'mac book', 'airpods', 'iphone 11']\n",
      "iphonex não existe na lista de produtos\n"
     ]
    }
   ],
   "source": [
    "produtos = ['apple tv', 'mac', 'iphone x', 'IPad', 'apple watch', 'mac book', 'airpods']\n",
    "print(produtos)\n",
    "#adicionar o iphone 11\n",
    "produtos.append('iphone 11')\n",
    "\n",
    "print(produtos)\n",
    "\n",
    "#remover o iphone x\n",
    "produto_remover = 'iphonex'\n",
    "\n",
    "if produto_remover in produtos:\n",
    "    produtos.remove('iphonex')\n",
    "else:\n",
    "    print('{} não existe na lista de produtos'.format(produto_remover))"
   ]
  },
  {
   "cell_type": "markdown",
   "metadata": {
    "id": "cHEQsSzErYsl"
   },
   "source": [
    "## Existem 2 formas de tratar o erro:\n",
    "\n",
    "1. Criar um if para evitar que ele aconteça\n",
    "\n",
    "2. Esperar que ele possa acontecer e tratar caso o erro aconteça com:"
   ]
  },
  {
   "cell_type": "raw",
   "metadata": {
    "id": "nndBOVz8rYsm"
   },
   "source": [
    "try:\n",
    "    tentar fazer\n",
    "except:\n",
    "    caso dê errado"
   ]
  },
  {
   "cell_type": "code",
   "execution_count": null,
   "metadata": {
    "id": "gvhmgZJCrYsn"
   },
   "outputs": [],
   "source": [
    "try:\n",
    "    produtos.remove('iphox')\n",
    "    print(produtos)\n",
    "except:\n",
    "    pass"
   ]
  }
 ],
 "metadata": {
  "colab": {
   "include_colab_link": true,
   "name": "Gabarito - Listas 04.ipynb",
   "provenance": []
  },
  "kernelspec": {
   "display_name": "Python 3 (ipykernel)",
   "language": "python",
   "name": "python3"
  },
  "language_info": {
   "codemirror_mode": {
    "name": "ipython",
    "version": 3
   },
   "file_extension": ".py",
   "mimetype": "text/x-python",
   "name": "python",
   "nbconvert_exporter": "python",
   "pygments_lexer": "ipython3",
   "version": "3.9.7"
  }
 },
 "nbformat": 4,
 "nbformat_minor": 1
}
