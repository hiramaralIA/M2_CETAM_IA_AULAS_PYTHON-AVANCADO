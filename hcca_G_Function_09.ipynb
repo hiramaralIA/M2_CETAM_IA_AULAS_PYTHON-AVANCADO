{
  "cells": [
    {
      "cell_type": "markdown",
      "metadata": {
        "id": "view-in-github",
        "colab_type": "text"
      },
      "source": [
        "<a href=\"https://colab.research.google.com/github/hiramaralIA/M2_CETAM_IA_AULAS_PYTHON-AVANCADO/blob/main/hcca_G_Function_09.ipynb\" target=\"_parent\"><img src=\"https://colab.research.google.com/assets/colab-badge.svg\" alt=\"Open In Colab\"/></a>"
      ]
    },
    {
      "cell_type": "markdown",
      "metadata": {
        "id": "Q6ZKgYsVCqUy"
      },
      "source": [
        "# Docstring e Annotations\n",
        "\n",
        "### Estrutura - São ferramentas \"apenas\" para organização:\n",
        "\n",
        "Quando criamos uma função, normalmente não seremos as únicas pessoas a usarem essa função e também pode ser que a gente precise usar essa mesma função semanas, meses ou até anos depois da sua criação.\n",
        "\n",
        "Por isso é importante usarmos DocStrings e Annotations\n",
        "\n",
        "- Docstring -> diz o que a função faz, quais valores ela tem como argumento e o que significa cada valor\n",
        "- Annotation -> diz o que devem ser os argumentos e o que a função retorna\n",
        "\n",
        "Em muitas empresas, o time de tecnologia vai ter um padrão que você deve seguir para isso, mas caso não tenha, vamos te mostrar um padrão bom a ser utilizado.\n",
        "\n",
        "### Docstring:"
      ]
    },
    {
      "cell_type": "raw",
      "metadata": {
        "id": "V-eksGpsCqU-"
      },
      "source": [
        "def minha_funcao(arg1, arg2, ...):\n",
        "    '''O que a função faz\n",
        "    \n",
        "    Parameters:\n",
        "        arg1 (int): o que é o argumento 1\n",
        "        arg2 (str): o que é o argumento 2\n",
        "        ...\n",
        "    \n",
        "    Returns:\n",
        "        texto (str): o que a função retorna como resposta\n",
        "    '''\n",
        "    \n",
        "    ...código da função"
      ]
    },
    {
      "cell_type": "code",
      "execution_count": null,
      "metadata": {
        "id": "K8LLcj2HCqVB"
      },
      "outputs": [],
      "source": [
        "def minha_soma(num1, num2, num3):\n",
        "    '''Faz a soma de 3 números inteiros e devolve como resposta um inteiro\n",
        "    \n",
        "    Parameters:\n",
        "        num1 (int): primeiro número a ser somado\n",
        "        num2 (int): segundo número a ser somado\n",
        "        num3 (int): terceiro número a ser somado\n",
        "    \n",
        "    Returns:\n",
        "        soma (int): o valor da soma dos 3 números dados como argumento\n",
        "    '''\n",
        "    return num1 + num2 + num3"
      ]
    },
    {
      "cell_type": "markdown",
      "metadata": {
        "id": "c1wi1UPKCqVG"
      },
      "source": [
        "### Annotation:"
      ]
    },
    {
      "cell_type": "raw",
      "metadata": {
        "id": "zd_pYQRnCqVI"
      },
      "source": [
        "def minha_funcao(arg1: isso, arg2: aquilo) -> o que a função retorna:\n",
        "    ...\n",
        "    return ..."
      ]
    },
    {
      "cell_type": "code",
      "execution_count": null,
      "metadata": {
        "id": "dyhn4MzaCqVJ"
      },
      "outputs": [],
      "source": [
        "def minha_soma(num1: 'primeiro número a ser somado', num2: int, num3: int) -> int:\n",
        "    return num1 + num2 + num3"
      ]
    }
  ],
  "metadata": {
    "kernelspec": {
      "display_name": "Python 3",
      "language": "python",
      "name": "python3"
    },
    "language_info": {
      "codemirror_mode": {
        "name": "ipython",
        "version": 3
      },
      "file_extension": ".py",
      "mimetype": "text/x-python",
      "name": "python",
      "nbconvert_exporter": "python",
      "pygments_lexer": "ipython3",
      "version": "3.8.3"
    },
    "colab": {
      "name": "Gabarito - Function 09.ipynb",
      "provenance": [],
      "include_colab_link": true
    }
  },
  "nbformat": 4,
  "nbformat_minor": 0
}