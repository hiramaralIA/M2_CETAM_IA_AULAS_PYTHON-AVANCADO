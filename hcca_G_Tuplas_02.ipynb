{
  "cells": [
    {
      "cell_type": "markdown",
      "metadata": {
        "id": "view-in-github",
        "colab_type": "text"
      },
      "source": [
        "<a href=\"https://colab.research.google.com/github/hiramaralIA/M2_CETAM_IA_AULAS_PYTHON-AVANCADO/blob/main/hcca_G_Tuplas_02.ipynb\" target=\"_parent\"><img src=\"https://colab.research.google.com/assets/colab-badge.svg\" alt=\"Open In Colab\"/></a>"
      ]
    },
    {
      "cell_type": "markdown",
      "metadata": {
        "id": "Ix1taDRF7TOy"
      },
      "source": [
        "# Tuplas\n",
        "\n",
        "### Estrutura:\n",
        "\n",
        "tupla = (valor, valor, valor, ...)\n",
        "\n",
        "### Diferença\n",
        "\n",
        "Parece uma lista, mas é imutável.\n",
        "\n",
        "### Vantagens:\n",
        "\n",
        "- Mais eficiente (em termos de performance)\n",
        "- Protege a base de dados (por ser imutável)\n",
        "- Muito usado para dados heterogêneos\n",
        "\n",
        "### Criando tuplas"
      ]
    },
    {
      "cell_type": "code",
      "execution_count": null,
      "metadata": {
        "id": "fXMQwQpl7TO7",
        "outputId": "f3a59948-143c-49bd-99d8-6aa4b86b69b2"
      },
      "outputs": [
        {
          "name": "stdout",
          "output_type": "stream",
          "text": [
            "('Lira', '25/08/2020', '15/02/1994', 2000, 'Estagiário')\n"
          ]
        }
      ],
      "source": [
        "vendas = ('Lira', '25/08/2020', '15/02/1994', 2000, 'Estagiário')\n",
        "print(vendas)"
      ]
    },
    {
      "cell_type": "markdown",
      "metadata": {
        "id": "Zbdmi7Rw7TO9"
      },
      "source": [
        "### Acessando o valor de uma tupla"
      ]
    },
    {
      "cell_type": "code",
      "execution_count": null,
      "metadata": {
        "id": "XtPSr-557TO9",
        "outputId": "df3f43f7-05b2-4de8-f297-2a535ab812ed"
      },
      "outputs": [
        {
          "name": "stdout",
          "output_type": "stream",
          "text": [
            "2000\n"
          ]
        }
      ],
      "source": [
        "nome, data_contratacao, data_nascimento, salario, cargo = vendas\n",
        "\n",
        "print(salario)"
      ]
    },
    {
      "cell_type": "markdown",
      "metadata": {
        "id": "zIl4-5fS7TO-"
      },
      "source": [
        "- o enumerate que vínhamos usando até agora, na verdade, cria uma tupla para a gente. Vamos ver na prática:"
      ]
    },
    {
      "cell_type": "code",
      "execution_count": null,
      "metadata": {
        "id": "1vLQptil7TO-",
        "outputId": "f73470ef-4efb-476a-867a-be77416389b3"
      },
      "outputs": [
        {
          "name": "stdout",
          "output_type": "stream",
          "text": [
            "0\n",
            "1000\n",
            "1\n",
            "2000\n",
            "2\n",
            "300\n",
            "3\n",
            "300\n",
            "4\n",
            "150\n"
          ]
        }
      ],
      "source": [
        "vendas = [1000, 2000, 300, 300, 150]\n",
        "funcionarios = ['João', 'Lira', 'Ana', 'Maria', 'Paula']\n",
        "\n",
        "for i, venda in enumerate(vendas):\n",
        "        print('{} vendeu {} unidades'.format(funcionarios[i], venda))"
      ]
    }
  ],
  "metadata": {
    "kernelspec": {
      "display_name": "Python 3",
      "language": "python",
      "name": "python3"
    },
    "language_info": {
      "codemirror_mode": {
        "name": "ipython",
        "version": 3
      },
      "file_extension": ".py",
      "mimetype": "text/x-python",
      "name": "python",
      "nbconvert_exporter": "python",
      "pygments_lexer": "ipython3",
      "version": "3.8.3"
    },
    "colab": {
      "name": "Gabarito - Tuplas 02.ipynb",
      "provenance": [],
      "include_colab_link": true
    }
  },
  "nbformat": 4,
  "nbformat_minor": 0
}