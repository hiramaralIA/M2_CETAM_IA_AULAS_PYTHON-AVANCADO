{
  "cells": [
    {
      "cell_type": "markdown",
      "metadata": {
        "id": "view-in-github",
        "colab_type": "text"
      },
      "source": [
        "<a href=\"https://colab.research.google.com/github/hiramaralIA/M2_CETAM_IA_AULAS_PYTHON-AVANCADO/blob/main/hcca_T_Listas_07.ipynb\" target=\"_parent\"><img src=\"https://colab.research.google.com/assets/colab-badge.svg\" alt=\"Open In Colab\"/></a>"
      ]
    },
    {
      "cell_type": "markdown",
      "metadata": {
        "id": "Ez2IPXbY9Gfx"
      },
      "source": [
        "# Print de Listas\n",
        "\n",
        "2 Opções:\n",
        "- print \"normal\"\n",
        "- método join -> texto.join(lista)"
      ]
    },
    {
      "cell_type": "code",
      "execution_count": null,
      "metadata": {
        "id": "wJLWovRd9Gf1"
      },
      "outputs": [],
      "source": [
        "produtos = ['apple tv', 'mac', 'iphone x', 'iphone 11', 'IPad', 'apple watch', 'mac book', 'airpods']"
      ]
    },
    {
      "cell_type": "markdown",
      "metadata": {
        "id": "8Mlf7b2q9Gf2"
      },
      "source": [
        "Lembrando do método split de strings:\n",
        "\n",
        "lista = texto.split(separador)"
      ]
    },
    {
      "cell_type": "code",
      "execution_count": null,
      "metadata": {
        "id": "7Pj3jnYd9Gf2"
      },
      "outputs": [],
      "source": [
        "produtos = 'apple tv, mac, iphone x, iphone 11, IPad, apple watch, mac book, airpods'"
      ]
    }
  ],
  "metadata": {
    "kernelspec": {
      "display_name": "Python 3",
      "language": "python",
      "name": "python3"
    },
    "language_info": {
      "codemirror_mode": {
        "name": "ipython",
        "version": 3
      },
      "file_extension": ".py",
      "mimetype": "text/x-python",
      "name": "python",
      "nbconvert_exporter": "python",
      "pygments_lexer": "ipython3",
      "version": "3.8.3"
    },
    "colab": {
      "name": "Listas 07.ipynb",
      "provenance": [],
      "include_colab_link": true
    }
  },
  "nbformat": 4,
  "nbformat_minor": 0
}