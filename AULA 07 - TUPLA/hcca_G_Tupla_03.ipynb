{
  "cells": [
    {
      "cell_type": "markdown",
      "metadata": {
        "id": "view-in-github",
        "colab_type": "text"
      },
      "source": [
        "<a href=\"https://colab.research.google.com/github/hiramaralIA/M2_CETAM_IA_AULAS_PYTHON-AVANCADO/blob/main/hcca_G_Tupla_03.ipynb\" target=\"_parent\"><img src=\"https://colab.research.google.com/assets/colab-badge.svg\" alt=\"Open In Colab\"/></a>"
      ]
    },
    {
      "cell_type": "markdown",
      "metadata": {
        "id": "Mx7JCgD1uwtI"
      },
      "source": [
        "# Aplicação de Tupla - Lista de Tuplas\n",
        "\n",
        "### Estrutura:\n",
        "\n",
        "Além de casos como o do enumerate, em que usamos uma função para transformar itens em tuplas porque isso ajuda o nosso código, temos também listas de tuplas como algo comum dentro do Python."
      ]
    },
    {
      "cell_type": "raw",
      "metadata": {
        "id": "QKQry6vvuwtM"
      },
      "source": [
        "lista = [\n",
        "    tupla1,\n",
        "    tupla2,\n",
        "    tupla3,\n",
        "    ]\n",
        "    \n",
        "ou seja\n",
        "\n",
        "lista = [\n",
        "    (valor1, valor2, valor3),\n",
        "    (valor4, valor5, valor6),\n",
        "    (valor7, valor8, valor9),\n",
        "    ]"
      ]
    },
    {
      "cell_type": "markdown",
      "metadata": {
        "id": "GsRfJce7uwtM"
      },
      "source": [
        "### Exemplo:\n",
        "\n",
        "Digamos que você está analisando as vendas do Banco de Dados de um e-commerce.\n",
        "\n",
        "Em um determinado dia, você extraiu as vendas do Banco de Dados e elas vieram nesse formato:"
      ]
    },
    {
      "cell_type": "code",
      "execution_count": null,
      "metadata": {
        "id": "K5L5OhOOuwtN"
      },
      "outputs": [],
      "source": [
        "vendas = [\n",
        "    ('20/08/2020', 'iphone x', 'azul', '128gb', 350, 4000),\n",
        "    ('20/08/2020', 'iphone x', 'prata', '128gb', 1500, 4000),\n",
        "    ('20/08/2020', 'ipad', 'prata', '256gb', 127, 6000),\n",
        "    ('20/08/2020', 'ipad', 'prata', '128gb', 981, 5000),\n",
        "    ('21/08/2020', 'iphone x', 'azul', '128gb', 397, 4000),\n",
        "    ('21/08/2020', 'iphone x', 'prata', '128gb', 1017, 4000),\n",
        "    ('21/08/2020', 'ipad', 'prata', '256gb', 50, 6000),\n",
        "    ('21/08/2020', 'ipad', 'prata', '128gb', 4000, 5000),\n",
        "]"
      ]
    },
    {
      "cell_type": "markdown",
      "metadata": {
        "id": "gA7HOLQ0uwtO"
      },
      "source": [
        "- Qual foi o faturamento de IPhone no dia 20/08/2020?\n",
        "- Qual foi o produto mais vendido (em unidades) no dia 21/08/2020?"
      ]
    },
    {
      "cell_type": "code",
      "execution_count": null,
      "metadata": {
        "id": "vkbVjYsvuwtO",
        "outputId": "d4d3d6b2-1f63-44a9-b89a-d142b1d3982e"
      },
      "outputs": [
        {
          "name": "stdout",
          "output_type": "stream",
          "text": [
            "O faturamento de IPhone no dia 20/08/2020 foi de 7400000\n"
          ]
        }
      ],
      "source": [
        "faturamento = 0\n",
        "for item in vendas:\n",
        "    data, produto, cor, capacidade, unidades, valor_unitario = item \n",
        "    if produto == 'iphone x' and data == '20/08/2020':\n",
        "        faturamento += unidades * valor_unitario\n",
        "        \n",
        "\n",
        "#data, produto, cor, capacidade, unidades, valor_unitario = vendas[0]\n",
        "\n",
        "#faturamento = unidades * valor_unitario\n",
        "print('O faturamento de IPhone no dia 20/08/2020 foi de {}'.format(faturamento))"
      ]
    }
  ],
  "metadata": {
    "kernelspec": {
      "display_name": "Python 3",
      "language": "python",
      "name": "python3"
    },
    "language_info": {
      "codemirror_mode": {
        "name": "ipython",
        "version": 3
      },
      "file_extension": ".py",
      "mimetype": "text/x-python",
      "name": "python",
      "nbconvert_exporter": "python",
      "pygments_lexer": "ipython3",
      "version": "3.8.3"
    },
    "colab": {
      "name": "Gabarito - Tupla 03.ipynb",
      "provenance": [],
      "include_colab_link": true
    }
  },
  "nbformat": 4,
  "nbformat_minor": 0
}