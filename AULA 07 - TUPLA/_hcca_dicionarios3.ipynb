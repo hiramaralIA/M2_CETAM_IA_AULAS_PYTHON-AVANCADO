{
 "cells": [
  {
   "cell_type": "markdown",
   "id": "6e9de3af",
   "metadata": {},
   "source": [
    "# Dicionários\n",
    "Todos os tipos de dados compostos que estudamos em detalhes até agora — strings, listas e tuplas — são coleções sequenciais. Isto significa que os itens na coleção estão ordenados da esquerda para a direita e eles usam números inteiros como índices para acessar os valores que eles contêm.\n",
    "\n",
    "Dicionário é um tipo diferente de coleção. Ele é um tipo de mapeamento nativo do Python. Um mapa é uma coleção associativa desordenada. A associação, ou mapeamento, é feita a partir de uma chave - pode ser qualquer tipo imutável - para um valor - que pode ser qualquer objeto de dados do Python.\n",
    "\n",
    "Como exemplo, vamos criar um dicionário para traduzir palavras em inglês para português. Para este dicionário, as chaves são strings.\n",
    "\n",
    "Uma maneira de criar um dicionário é começar com o dicionário vazio e adicionar pares chave-valor. O dicionário vazio é denotado {}."
   ]
  },
  {
   "cell_type": "code",
   "execution_count": 1,
   "id": "1eb7a098",
   "metadata": {},
   "outputs": [],
   "source": [
    "ing_port = {}\n",
    "ing_port['one'] = 'um'\n",
    "ing_port['two'] = 'dois'\n",
    "ing_port['three'] = 'três'"
   ]
  },
  {
   "cell_type": "code",
   "execution_count": 2,
   "id": "fe4e2a09",
   "metadata": {},
   "outputs": [
    {
     "name": "stdout",
     "output_type": "stream",
     "text": [
      "{'one': 'um', 'two': 'dois', 'three': 'três', 'four': 'quatro'}\n"
     ]
    }
   ],
   "source": [
    "ing_port = {'one': 'um', 'two': 'dois', 'three': 'três', 'four': 'quatro'}\n",
    "print(ing_port)"
   ]
  },
  {
   "cell_type": "markdown",
   "id": "9ae8caa6",
   "metadata": {},
   "source": [
    "A primeira atribuição cria um dicionário chamado ing_port; \n",
    "\n",
    "as outras atribuições adicionam novos elementos para o dicionário. \n",
    "\n",
    "Nós podemos imprimir o valor corrente de um dicionário da maneira usual:\n",
    "Os elementos de um dicionário aparecem em uma lista separada por vírgulas. \n",
    "\n",
    "Cada entrada contêm um índice e um valor separado por dois-pontos. \n",
    "\n",
    "Em um dicionário, os índices são chamados de chaves, então os elementos são chamados de pares chave-valor.\n",
    "\n",
    "Outra maneira de criar dicionários é fornecendo uma lista de pares chaves-valor utilizando a mesma sintaxe da última saída."
   ]
  },
  {
   "cell_type": "code",
   "execution_count": 3,
   "id": "ebfd66f4",
   "metadata": {},
   "outputs": [
    {
     "name": "stdout",
     "output_type": "stream",
     "text": [
      "{'one': 'um', 'two': 'dois', 'three': 'três', 'four': 'quatro'}\n"
     ]
    }
   ],
   "source": [
    "print (ing_port)"
   ]
  },
  {
   "cell_type": "markdown",
   "id": "e28f352e",
   "metadata": {},
   "source": [
    "Os pares chave-valor podem não se encontrar em ordem! \n",
    "\n",
    "Felizmente, não há motivos para se preocupar com a ordem, desde que os elementos do dicionário nunca sejam indexados com índices inteiros. \n",
    "\n",
    "Podemos usar as chaves para buscar os valores correspondentes:"
   ]
  },
  {
   "cell_type": "code",
   "execution_count": 4,
   "id": "d8e4937b",
   "metadata": {},
   "outputs": [
    {
     "name": "stdout",
     "output_type": "stream",
     "text": [
      "dois\n"
     ]
    }
   ],
   "source": [
    "print(ing_port['two'])"
   ]
  },
  {
   "cell_type": "markdown",
   "id": "f11b0cbf",
   "metadata": {},
   "source": [
    "O comando del remove um par chave-valor de um dicionário. Por exemplo, o dicionário abaixo contém os nomes de várias frutas e o número de cada fruta em estoque:"
   ]
  },
  {
   "cell_type": "code",
   "execution_count": 5,
   "id": "7877f9d0",
   "metadata": {},
   "outputs": [
    {
     "name": "stdout",
     "output_type": "stream",
     "text": [
      "{'abacaxis': 430, 'bananas': 312, 'laranjas': 525, 'peras': 217}\n"
     ]
    }
   ],
   "source": [
    "inventario = {'abacaxis': 430, 'bananas': 312, 'laranjas': 525, 'peras': 217}\n",
    "print(inventario)"
   ]
  },
  {
   "cell_type": "code",
   "execution_count": 6,
   "id": "d0c133eb",
   "metadata": {},
   "outputs": [
    {
     "name": "stdout",
     "output_type": "stream",
     "text": [
      "{'abacaxis': 430, 'bananas': 312, 'laranjas': 525}\n"
     ]
    }
   ],
   "source": [
    "del(inventario['peras'])\n",
    "print(inventario)"
   ]
  },
  {
   "cell_type": "markdown",
   "id": "582c1eb0",
   "metadata": {},
   "source": [
    "Ou podemos simplesmente trocar o valor associado a 'peras':"
   ]
  },
  {
   "cell_type": "code",
   "execution_count": 7,
   "id": "8387f631",
   "metadata": {},
   "outputs": [
    {
     "name": "stdout",
     "output_type": "stream",
     "text": [
      "{'abacaxis': 430, 'bananas': 312, 'laranjas': 525, 'peras': 0}\n"
     ]
    }
   ],
   "source": [
    "inventario['peras']=0\n",
    "print(inventario)"
   ]
  },
  {
   "cell_type": "markdown",
   "id": "b7a525cd",
   "metadata": {},
   "source": [
    "Nº de pares do dicionário"
   ]
  },
  {
   "cell_type": "code",
   "execution_count": 8,
   "id": "0e761e8c",
   "metadata": {},
   "outputs": [
    {
     "data": {
      "text/plain": [
       "4"
      ]
     },
     "execution_count": 8,
     "metadata": {},
     "output_type": "execute_result"
    }
   ],
   "source": [
    "len(inventario)"
   ]
  },
  {
   "cell_type": "markdown",
   "id": "d2c9321b",
   "metadata": {},
   "source": [
    "# Exercício 1:\n",
    "    \n",
    "Crie um agenda de telefone utilizando um dicionário com as seguintes informações: \n",
    "Maria -> 99887766 Pedro -> 92345678 Joaquim -> 99887711 Teresa -> 991388534 \n",
    "\n",
    "a) Você gostaria de ligar para Pedro. Obtenha o telefone de Pedro utilizando a sua chave no dicionário criado. \n",
    "\n",
    "b) Você não conseguiu falar com Pedro, pois o número estava errado."
   ]
  },
  {
   "cell_type": "code",
   "execution_count": 9,
   "id": "f0dceb0e",
   "metadata": {},
   "outputs": [
    {
     "name": "stdout",
     "output_type": "stream",
     "text": [
      "digite um nome que tenha no dict: Maria\n",
      "O Telefone de Maria é: 99887766\n",
      "Digite um novo número para Pedro: Pedro\n"
     ]
    },
    {
     "ename": "ValueError",
     "evalue": "invalid literal for int() with base 10: 'Pedro'",
     "output_type": "error",
     "traceback": [
      "\u001b[1;31m---------------------------------------------------------------------------\u001b[0m",
      "\u001b[1;31mValueError\u001b[0m                                Traceback (most recent call last)",
      "\u001b[1;32m~\\AppData\\Local\\Temp/ipykernel_18144/1848922930.py\u001b[0m in \u001b[0;36m<module>\u001b[1;34m\u001b[0m\n\u001b[0;32m      2\u001b[0m \u001b[0mnome\u001b[0m\u001b[1;33m=\u001b[0m\u001b[0minput\u001b[0m\u001b[1;33m(\u001b[0m\u001b[1;34m'digite um nome que tenha no dict: '\u001b[0m\u001b[1;33m)\u001b[0m\u001b[1;33m\u001b[0m\u001b[1;33m\u001b[0m\u001b[0m\n\u001b[0;32m      3\u001b[0m \u001b[0mprint\u001b[0m\u001b[1;33m(\u001b[0m\u001b[1;34m\"O Telefone de %s é: %s\"\u001b[0m \u001b[1;33m%\u001b[0m \u001b[1;33m(\u001b[0m\u001b[0mnome\u001b[0m\u001b[1;33m,\u001b[0m \u001b[0magenda\u001b[0m\u001b[1;33m[\u001b[0m\u001b[0mnome\u001b[0m\u001b[1;33m]\u001b[0m\u001b[1;33m)\u001b[0m\u001b[1;33m)\u001b[0m\u001b[1;33m\u001b[0m\u001b[1;33m\u001b[0m\u001b[0m\n\u001b[1;32m----> 4\u001b[1;33m \u001b[0mnovonumero\u001b[0m\u001b[1;33m=\u001b[0m \u001b[0mint\u001b[0m\u001b[1;33m(\u001b[0m\u001b[0minput\u001b[0m\u001b[1;33m(\u001b[0m\u001b[1;34m'Digite um novo número para Pedro: '\u001b[0m\u001b[1;33m)\u001b[0m\u001b[1;33m)\u001b[0m\u001b[1;33m\u001b[0m\u001b[1;33m\u001b[0m\u001b[0m\n\u001b[0m\u001b[0;32m      5\u001b[0m \u001b[0magenda\u001b[0m\u001b[1;33m[\u001b[0m\u001b[1;34m'Pedro'\u001b[0m\u001b[1;33m]\u001b[0m\u001b[1;33m=\u001b[0m\u001b[0mnovonumero\u001b[0m\u001b[1;33m\u001b[0m\u001b[1;33m\u001b[0m\u001b[0m\n\u001b[0;32m      6\u001b[0m \u001b[0mprint\u001b[0m\u001b[1;33m(\u001b[0m\u001b[1;34m\"O novo numero de Pedro é %s\"\u001b[0m \u001b[1;33m%\u001b[0m\u001b[0magenda\u001b[0m\u001b[1;33m[\u001b[0m\u001b[1;34m'Pedro'\u001b[0m\u001b[1;33m]\u001b[0m\u001b[1;33m)\u001b[0m\u001b[1;33m\u001b[0m\u001b[1;33m\u001b[0m\u001b[0m\n",
      "\u001b[1;31mValueError\u001b[0m: invalid literal for int() with base 10: 'Pedro'"
     ]
    }
   ],
   "source": [
    "agenda={'Maria': 99887766,'Pedro':92345678, 'Joaquim':99887711, 'Teresa':991388534}\n",
    "nome=input('digite um nome que tenha no dict: ')\n",
    "print(\"O Telefone de %s é: %s\" % (nome, agenda[nome]))\n",
    "novonumero= int(input('Digite um novo número para Pedro: '))\n",
    "agenda['Pedro']=novonumero\n",
    "print(\"O novo numero de Pedro é %s\" %agenda['Pedro'])\n",
    "print(agenda[oiii])"
   ]
  },
  {
   "cell_type": "code",
   "execution_count": 10,
   "id": "a73f8126",
   "metadata": {},
   "outputs": [
    {
     "name": "stdout",
     "output_type": "stream",
     "text": [
      "baixo\n"
     ]
    }
   ],
   "source": [
    "dados= {'pessoa':['18 anos','baixo'],'pessoa2':['20anos','alto']}\n",
    "print(dados['pessoa'][1])"
   ]
  },
  {
   "cell_type": "code",
   "execution_count": 11,
   "id": "1c8e2efa",
   "metadata": {},
   "outputs": [
    {
     "name": "stdout",
     "output_type": "stream",
     "text": [
      "insira um nome: Maria\n",
      "insira a idade: 16\n",
      "A idade de Maria é 16 anos\n"
     ]
    }
   ],
   "source": [
    "dados={}\n",
    "nome= input('insira um nome: ')\n",
    "idade= int(input('insira a idade: '))\n",
    "dados[nome]=[idade,'arg2','arg3']\n",
    "print('A idade de %s é %s anos' %(nome,dados[nome][0]))"
   ]
  },
  {
   "cell_type": "markdown",
   "id": "2d699b8c",
   "metadata": {},
   "source": [
    "# Exercício 2:\n",
    "Crie um dicionário e coloque nele os dados fornecidos pelo usuário: nome, idade, telefone,endereço. Também usando o dicionário, imprima todos os itens do dicionário no formato chave : valor, ordenado pela chave."
   ]
  },
  {
   "cell_type": "code",
   "execution_count": null,
   "id": "44cef063",
   "metadata": {},
   "outputs": [],
   "source": [
    "dados={}\n",
    "s_ou_n='s'\n",
    "while s_ou_n=='s':\n",
    "    nome= input('digite um nome:')\n",
    "    idade= input('digite uma idade: ')\n",
    "    telefone= input('digite um telefone: ')\n",
    "    endereco= input('digite um endereco: ')\n",
    "    dados[nome]=[nome,idade,telefone,endereco]\n",
    "    s_ou_n= input('deseja add outro nome? (s/n)')\n",
    "print(dados)"
   ]
  },
  {
   "cell_type": "markdown",
   "id": "edfd1114",
   "metadata": {},
   "source": [
    "A iteração em elementos de um dicionário é feita a partir da chave. Com dicionários não temos ordem pré-definida. Também podemos inserir mais de um valor para uma mesma chave. Basta colocar entre colchetes e separar os valores por vírgula 'Fulano':[x,y]."
   ]
  },
  {
   "cell_type": "markdown",
   "id": "51e1cdcf",
   "metadata": {},
   "source": [
    "# Exercício 3:\n",
    "Escreva um dicionário com as notas de João (9.0 e 8.0), Maria (10.0 e 9.0) e José (5.0 e 7.0) e calcule a média de cada um por iteração utilizando um laço for."
   ]
  },
  {
   "cell_type": "code",
   "execution_count": 14,
   "id": "f0216e31",
   "metadata": {},
   "outputs": [
    {
     "name": "stdout",
     "output_type": "stream",
     "text": [
      "A média de João é: 8.5\n",
      "A média de Maria é: 9.5\n",
      "A média de José é: 6.0\n"
     ]
    }
   ],
   "source": [
    "notas = {'João':[9.0,8.0], 'Maria':[10.0,9.0], 'José':[5.0,7.0]}\n",
    "for nome in notas:\n",
    "    media=sum(notas[nome])/len(notas[nome])\n",
    "    print(\"A média de %s é: %.1f\"% (nome,media))"
   ]
  },
  {
   "cell_type": "markdown",
   "id": "64eca75b",
   "metadata": {},
   "source": [
    "Função .get(chave, valor de erro), obtém o valor associado a chave. Se chave não existe, retorna valor de erro. Se valor não for especificado, chamadas de get para chaves inexistentes não retornam valor."
   ]
  },
  {
   "cell_type": "code",
   "execution_count": 15,
   "id": "f7139b8d",
   "metadata": {},
   "outputs": [
    {
     "data": {
      "text/plain": [
       "[9.0, 8.0]"
      ]
     },
     "execution_count": 15,
     "metadata": {},
     "output_type": "execute_result"
    }
   ],
   "source": [
    "notas = {'João':[9.0,8.0], 'Maria':[10.0]}\n",
    "notas.get('João')"
   ]
  },
  {
   "cell_type": "code",
   "execution_count": 16,
   "id": "6cca76bb",
   "metadata": {},
   "outputs": [
    {
     "data": {
      "text/plain": [
       "'nao encontrado'"
      ]
     },
     "execution_count": 16,
     "metadata": {},
     "output_type": "execute_result"
    }
   ],
   "source": [
    "notas.get('Joãos','nao encontrado')"
   ]
  },
  {
   "cell_type": "markdown",
   "id": "c64040b8",
   "metadata": {},
   "source": [
    "Cria um dicionário onde o usuário dê uma palavra e sua tradução, quantas vezes o usuário desejar, e imprima o dicionário completo."
   ]
  },
  {
   "cell_type": "code",
   "execution_count": null,
   "id": "06c413b3",
   "metadata": {},
   "outputs": [
    {
     "name": "stdout",
     "output_type": "stream",
     "text": [
      "digite sua palavra: amor\n",
      "Digite a tradução em Maori: love\n",
      "A tradução de love é amor\n",
      "deseja adicionar uma nova variável? (s/n)n\n",
      "{'amor': 'love'}\n"
     ]
    }
   ],
   "source": [
    "palavra_trad = {}\n",
    "\n",
    "var='s'\n",
    "while var!='n':\n",
    "    palavra = input('digite sua palavra: ')\n",
    "    trad= input('Digite a tradução em Maori: ')\n",
    "    palavra_trad[palavra]=trad\n",
    "    print('A tradução de %s é %s' %(palavra_trad[palavra], palavra))\n",
    "    var= input('deseja adicionar uma nova variável? (s/n)')\n",
    "print(palavra_trad)\n",
    "palavradesejada= input('Digite a palavra que deseja ser traduzida: ')\n",
    "p1= palavra_trad.get(palavradesejada,'Palavra não existente no dict')\n",
    "print(p1)\n",
    "while p1=='Palavra não existente no dict':\n",
    "    palavradesejada= input('Digite a palavra que deseja ser traduzida: ')\n",
    "    p1= palavra_trad.get(palavradesejada,'Palavra não existente no dict')\n",
    "    print(p1)"
   ]
  },
  {
   "cell_type": "markdown",
   "id": "efde5427",
   "metadata": {},
   "source": [
    "Função .keys() retorna uma lista com todas as chaves do dicionário¶"
   ]
  },
  {
   "cell_type": "code",
   "execution_count": null,
   "id": "2f87329c",
   "metadata": {},
   "outputs": [],
   "source": [
    "notas.keys()"
   ]
  },
  {
   "cell_type": "markdown",
   "id": "492e4d9e",
   "metadata": {},
   "source": [
    "Função .values() retorna uma lista com todos os valores do dicionário"
   ]
  },
  {
   "cell_type": "code",
   "execution_count": null,
   "id": "f5df377d",
   "metadata": {},
   "outputs": [],
   "source": [
    "notas.values()"
   ]
  },
  {
   "cell_type": "markdown",
   "id": "756f0661",
   "metadata": {},
   "source": [
    "# Desafio:\n",
    "Escreva um programa que lê em uma sequência da linha de comando e retorna uma tabela com as letras do alfabeto que ocorrem na sequência junto com o número de vezes que cada letra ocorre. Um exemplo de execução do programa ficaria assim:"
   ]
  },
  {
   "cell_type": "code",
   "execution_count": 1,
   "id": "ee4ef3d0",
   "metadata": {},
   "outputs": [
    {
     "name": "stdout",
     "output_type": "stream",
     "text": [
      "{'E': 2, 's': 7, 'a': 5, ' ': 6, 'f': 1, 'r': 1, 'e': 3, 'c': 3, 'o': 1, 'n': 2, 't': 1, 'm': 2, 'L': 1, 'T': 1, 'R': 1, 'A': 1, 'S': 1, 'M': 1, 'i': 2, 'u': 4, 'l': 2}\n"
     ]
    }
   ],
   "source": [
    "contarletras={}\n",
    "for letras in 'Essa frase contem LETRAS Maiusculas e minusculas':\n",
    "    contarletras[letras]=contarletras.get(letras,0)+1\n",
    "print(contarletras)"
   ]
  },
  {
   "cell_type": "code",
   "execution_count": null,
   "id": "77aa11b5",
   "metadata": {},
   "outputs": [],
   "source": []
  }
 ],
 "metadata": {
  "kernelspec": {
   "display_name": "Python 3 (ipykernel)",
   "language": "python",
   "name": "python3"
  },
  "language_info": {
   "codemirror_mode": {
    "name": "ipython",
    "version": 3
   },
   "file_extension": ".py",
   "mimetype": "text/x-python",
   "name": "python",
   "nbconvert_exporter": "python",
   "pygments_lexer": "ipython3",
   "version": "3.9.7"
  }
 },
 "nbformat": 4,
 "nbformat_minor": 5
}
