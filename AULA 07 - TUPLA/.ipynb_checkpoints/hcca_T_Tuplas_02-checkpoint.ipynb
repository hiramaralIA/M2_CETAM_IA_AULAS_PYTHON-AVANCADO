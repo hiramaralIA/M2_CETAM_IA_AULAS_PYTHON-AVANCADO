{
 "cells": [
  {
   "cell_type": "markdown",
   "metadata": {
    "colab_type": "text",
    "id": "view-in-github"
   },
   "source": [
    "<a href=\"https://colab.research.google.com/github/hiramaralIA/M2_CETAM_IA_AULAS_PYTHON-AVANCADO/blob/main/hcca_T_Tuplas_02.ipynb\" target=\"_parent\"><img src=\"https://colab.research.google.com/assets/colab-badge.svg\" alt=\"Open In Colab\"/></a>"
   ]
  },
  {
   "cell_type": "markdown",
   "metadata": {
    "id": "zPk5HWqh7LXn"
   },
   "source": [
    "# Tuplas\n",
    "\n",
    "### Estrutura:\n",
    "\n",
    "tupla = (valor, valor, valor, ...)\n",
    "\n",
    "### Diferença\n",
    "\n",
    "Parece uma lista, mas é imutável.\n",
    "\n",
    "### Vantagens:\n",
    "\n",
    "- Mais eficiente (em termos de performance)\n",
    "- Protege a base de dados (por ser imutável)\n",
    "- Muito usado para dados heterogêneos\n",
    "\n",
    "### Criando tuplas"
   ]
  },
  {
   "cell_type": "code",
   "execution_count": null,
   "metadata": {
    "id": "sB0cQqBc7LXt"
   },
   "outputs": [],
   "source": [
    "vendas = ('Lira', '25/08/2020', '15/02/1994', 2000, 'Estagiário')\n",
    "print(vendas)"
   ]
  },
  {
   "cell_type": "markdown",
   "metadata": {
    "id": "LpOeDVcR7LXv"
   },
   "source": [
    "### Acessando o valor de uma tupla"
   ]
  },
  {
   "cell_type": "code",
   "execution_count": null,
   "metadata": {
    "id": "MHks3mY_7LXw"
   },
   "outputs": [],
   "source": [
    "nome = vendas[0]\n",
    "data_contratacao = vendas[1]\n",
    "data_nascimento = vendas[2]\n",
    "salario = vendas[3]\n",
    "cargo = vendas[4]"
   ]
  },
  {
   "cell_type": "markdown",
   "metadata": {
    "id": "8q-Pvidw7LXx"
   },
   "source": [
    "- o enumerate que vínhamos usando até agora, na verdade, cria uma tupla para a gente. Vamos ver na prática:"
   ]
  },
  {
   "cell_type": "code",
   "execution_count": null,
   "metadata": {
    "id": "Ly1DyyTu7LXy"
   },
   "outputs": [],
   "source": [
    "vendas = [1000, 2000, 300, 300, 150]\n",
    "funcionarios = ['João', 'Lira', 'Ana', 'Maria', 'Paula']\n",
    "\n",
    "for i, venda in enumerate(vendas):\n",
    "        print('{} vendeu {} unidades'.format(funcionarios[i], venda))"
   ]
  }
 ],
 "metadata": {
  "colab": {
   "include_colab_link": true,
   "name": "Tuplas 02.ipynb",
   "provenance": []
  },
  "kernelspec": {
   "display_name": "Python 3 (ipykernel)",
   "language": "python",
   "name": "python3"
  },
  "language_info": {
   "codemirror_mode": {
    "name": "ipython",
    "version": 3
   },
   "file_extension": ".py",
   "mimetype": "text/x-python",
   "name": "python",
   "nbconvert_exporter": "python",
   "pygments_lexer": "ipython3",
   "version": "3.9.7"
  }
 },
 "nbformat": 4,
 "nbformat_minor": 1
}
