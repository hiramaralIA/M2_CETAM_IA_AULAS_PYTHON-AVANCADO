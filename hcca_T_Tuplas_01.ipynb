{
  "cells": [
    {
      "cell_type": "markdown",
      "metadata": {
        "id": "view-in-github",
        "colab_type": "text"
      },
      "source": [
        "<a href=\"https://colab.research.google.com/github/hiramaralIA/M2_CETAM_IA_AULAS_PYTHON-AVANCADO/blob/main/hcca_T_Tuplas_01.ipynb\" target=\"_parent\"><img src=\"https://colab.research.google.com/assets/colab-badge.svg\" alt=\"Open In Colab\"/></a>"
      ]
    },
    {
      "cell_type": "markdown",
      "metadata": {
        "id": "hCQf2Vuw5a0P"
      },
      "source": [
        "# Tuplas\n",
        "\n",
        "### Estrutura:\n",
        "\n",
        "tupla = (valor, valor, valor, ...)\n",
        "\n",
        "### Diferença\n",
        "\n",
        "Parece uma lista, mas é imutável.\n",
        "\n",
        "### Vantagens:\n",
        "\n",
        "- Mais eficiente (em termos de performance)\n",
        "- Protege a base de dados (por ser imutável)\n",
        "- Muito usado para dados heterogêneos\n",
        "\n",
        "### Criando tuplas"
      ]
    },
    {
      "cell_type": "code",
      "execution_count": null,
      "metadata": {
        "id": "YwrFMS4z5a0U"
      },
      "outputs": [],
      "source": [
        "vendas = ('Lira', '25/08/2020', '15/02/1994', 2000, 'Estagiário')"
      ]
    },
    {
      "cell_type": "markdown",
      "metadata": {
        "id": "zMWQaayr5a0W"
      },
      "source": [
        "### Acessando o valor de uma tupla"
      ]
    },
    {
      "cell_type": "code",
      "execution_count": null,
      "metadata": {
        "id": "3LMvli2q5a0W"
      },
      "outputs": [],
      "source": [
        "nome = \n",
        "data_contratacao = \n",
        "data_nascimento = \n",
        "salario = \n",
        "cargo = "
      ]
    }
  ],
  "metadata": {
    "kernelspec": {
      "display_name": "Python 3",
      "language": "python",
      "name": "python3"
    },
    "language_info": {
      "codemirror_mode": {
        "name": "ipython",
        "version": 3
      },
      "file_extension": ".py",
      "mimetype": "text/x-python",
      "name": "python",
      "nbconvert_exporter": "python",
      "pygments_lexer": "ipython3",
      "version": "3.8.3"
    },
    "colab": {
      "name": "Tuplas 01.ipynb",
      "provenance": [],
      "include_colab_link": true
    }
  },
  "nbformat": 4,
  "nbformat_minor": 0
}