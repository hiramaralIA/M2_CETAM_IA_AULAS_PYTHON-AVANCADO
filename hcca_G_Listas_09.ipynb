{
  "cells": [
    {
      "cell_type": "markdown",
      "metadata": {
        "id": "view-in-github",
        "colab_type": "text"
      },
      "source": [
        "<a href=\"https://colab.research.google.com/github/hiramaralIA/M2_CETAM_IA_AULAS_PYTHON-AVANCADO/blob/main/hcca_G_Listas_09.ipynb\" target=\"_parent\"><img src=\"https://colab.research.google.com/assets/colab-badge.svg\" alt=\"Open In Colab\"/></a>"
      ]
    },
    {
      "cell_type": "markdown",
      "metadata": {
        "id": "W5fCBRqqElvY"
      },
      "source": [
        "# Copiar e \"Igualdade\" de Listas\n",
        "\n",
        "### Estrutura:\n",
        "\n",
        "- Quando fazemos:<br>\n",
        "lista2 = lista1<br>\n",
        "não estamos criando uma lista nova, mas estamos atribuindo outra variável à mesma lista.\n",
        "\n",
        "- Se quisermos copiar lista devemos fazer<br>\n",
        "lista2 = lista1.copy()<br>\n",
        "ou entao<br>\n",
        "lista2 = lista1[:]\n",
        "\n",
        "Para entender bem isso, vamos ver na prática:"
      ]
    },
    {
      "cell_type": "code",
      "execution_count": null,
      "metadata": {
        "id": "kNdYtp3KElvd",
        "outputId": "5cd87215-b416-41a9-c95f-cac50ac94c9a"
      },
      "outputs": [
        {
          "name": "stdout",
          "output_type": "stream",
          "text": [
            "['ipad', 'iphone 11', 'apple tv']\n",
            "['ipad', 'iphone 11', 'apple tv']\n"
          ]
        }
      ],
      "source": [
        "lista = ['ipad', 'iphone x', 'apple tv']\n",
        "lista2 = lista\n",
        "\n",
        "lista[1] = 'iphone 11'\n",
        "\n",
        "print(lista)\n",
        "print(lista2)"
      ]
    },
    {
      "cell_type": "markdown",
      "metadata": {
        "id": "vnMmAk0sElvg"
      },
      "source": [
        "### Agora copiando:"
      ]
    },
    {
      "cell_type": "code",
      "execution_count": null,
      "metadata": {
        "id": "uqhR9GY5Elvg",
        "outputId": "33d8689a-d81c-4a48-9bb0-fb36f5daa868"
      },
      "outputs": [
        {
          "name": "stdout",
          "output_type": "stream",
          "text": [
            "['ipad', 'iphone 11', 'apple tv']\n",
            "['ipad', 'iphone x', 'apple tv']\n"
          ]
        }
      ],
      "source": [
        "lista = ['ipad', 'iphone x', 'apple tv']\n",
        "lista2 = lista[:]\n",
        "\n",
        "lista[1] = 'iphone 11'\n",
        "print(lista)\n",
        "print(lista2)"
      ]
    }
  ],
  "metadata": {
    "kernelspec": {
      "display_name": "Python 3",
      "language": "python",
      "name": "python3"
    },
    "language_info": {
      "codemirror_mode": {
        "name": "ipython",
        "version": 3
      },
      "file_extension": ".py",
      "mimetype": "text/x-python",
      "name": "python",
      "nbconvert_exporter": "python",
      "pygments_lexer": "ipython3",
      "version": "3.8.3"
    },
    "colab": {
      "name": "Gabarito - Listas 09.ipynb",
      "provenance": [],
      "include_colab_link": true
    }
  },
  "nbformat": 4,
  "nbformat_minor": 0
}