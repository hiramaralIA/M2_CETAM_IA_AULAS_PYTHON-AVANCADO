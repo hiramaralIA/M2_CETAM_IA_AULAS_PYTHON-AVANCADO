{
  "cells": [
    {
      "cell_type": "markdown",
      "metadata": {
        "id": "view-in-github",
        "colab_type": "text"
      },
      "source": [
        "<a href=\"https://colab.research.google.com/github/hiramaralIA/M2_CETAM_IA_AULAS_PYTHON-AVANCADO/blob/main/hcca_G_M%C3%B3dulos_e_Introdu%C3%A7%C3%A3o_a_Orienta%C3%A7%C3%A3o_a_Objetos_04.ipynb\" target=\"_parent\"><img src=\"https://colab.research.google.com/assets/colab-badge.svg\" alt=\"Open In Colab\"/></a>"
      ]
    },
    {
      "cell_type": "markdown",
      "metadata": {
        "id": "Y4pI_kf779PZ"
      },
      "source": [
        "# Módulo time\n",
        "\n",
        "### Estrutura:\n",
        "\n",
        "- Um dos módulos mais usados no Python. Tudo que diz respeito a data, a marcar quanto tempo leva alguma ação, ou a tempo mesmo, o módulo time vai ajudar a gente"
      ]
    },
    {
      "cell_type": "raw",
      "metadata": {
        "id": "mMuEa0Go79Pd"
      },
      "source": [
        "import time"
      ]
    },
    {
      "cell_type": "code",
      "execution_count": null,
      "metadata": {
        "id": "a_Jx_4Xp79Pd"
      },
      "outputs": [],
      "source": [
        "import time"
      ]
    },
    {
      "cell_type": "markdown",
      "metadata": {
        "id": "_Bdz7AR_79Pe"
      },
      "source": [
        "- Marco Zero (chamado de EPOCH) = 1 de Janeiro de 1970 às 00:00:00\n",
        "- time() retorna quantos segundos se passaram desde a EPOCH"
      ]
    },
    {
      "cell_type": "code",
      "execution_count": null,
      "metadata": {
        "id": "Pvxv7x_n79Pf",
        "outputId": "a2dd2a51-ae3b-4110-f5f5-e40353b236c1"
      },
      "outputs": [
        {
          "name": "stdout",
          "output_type": "stream",
          "text": [
            "1602013004.6264832\n"
          ]
        }
      ],
      "source": [
        "segundos_hoje = time.time()\n",
        "print(segundos_hoje)"
      ]
    },
    {
      "cell_type": "markdown",
      "metadata": {
        "id": "ddLEKwmx79Pg"
      },
      "source": [
        "- ctime retorna a data em string o texto no formato UTC (um formato padrão de datas)"
      ]
    },
    {
      "cell_type": "code",
      "execution_count": null,
      "metadata": {
        "id": "rxliNZnT79Pg",
        "outputId": "466db83f-3677-4370-8e7a-3b1ea69d767c"
      },
      "outputs": [
        {
          "name": "stdout",
          "output_type": "stream",
          "text": [
            "Tue Oct  6 16:37:36 2020\n"
          ]
        }
      ],
      "source": [
        "data_hoje = time.ctime()\n",
        "#ou entao data_hoje = time.ctime(time())\n",
        "print(data_hoje)"
      ]
    },
    {
      "cell_type": "markdown",
      "metadata": {
        "id": "uZLgnljw79Ph"
      },
      "source": [
        "- Isso já pode ser muito útil para medir o tempo que uma ação leva, caso seja do interesse:"
      ]
    },
    {
      "cell_type": "code",
      "execution_count": null,
      "metadata": {
        "id": "VfRpF56M79Ph",
        "outputId": "02623f4e-de73-4baf-f305-db02a9106c66"
      },
      "outputs": [
        {
          "name": "stdout",
          "output_type": "stream",
          "text": [
            "O programa levou 5.654706716537476 segundos para rodar\n"
          ]
        }
      ],
      "source": [
        "tempo_inicial = time.time()\n",
        "for i in range(100000000):\n",
        "    pass\n",
        "tempo_final = time.time()\n",
        "duracao = tempo_final - tempo_inicial\n",
        "print('O programa levou {} segundos para rodar'.format(duracao))"
      ]
    },
    {
      "cell_type": "markdown",
      "metadata": {
        "id": "qbcKRTzB79Pi"
      },
      "source": [
        "- Fazer o código esperar alguns segundos (muito útil quando temos que esperar um programa ou uma página carregar)"
      ]
    },
    {
      "cell_type": "code",
      "execution_count": null,
      "metadata": {
        "id": "gw_aL0Ci79Pj",
        "outputId": "2700821b-f932-4fe2-887f-02d760ae1ebc"
      },
      "outputs": [
        {
          "name": "stdout",
          "output_type": "stream",
          "text": [
            "Começando\n",
            "Rodou 5 segundos após\n"
          ]
        }
      ],
      "source": [
        "#para esperar 5 segundos fazemos:\n",
        "print('Começando')\n",
        "time.sleep(5)\n",
        "print('Rodou 5 segundos após')"
      ]
    },
    {
      "cell_type": "markdown",
      "metadata": {
        "id": "L4X5-lsF79Pj"
      },
      "source": [
        "- Pegar informações de dias, hora, segundo, minuto, tudo detalhado:\n",
        "- gmtime()\n",
        "- gmtime().parâmetro"
      ]
    },
    {
      "cell_type": "code",
      "execution_count": null,
      "metadata": {
        "id": "OP35er8t79Pj",
        "outputId": "279ace7b-c4a5-4903-b8d1-d782678bde61"
      },
      "outputs": [
        {
          "name": "stdout",
          "output_type": "stream",
          "text": [
            "time.struct_time(tm_year=2020, tm_mon=10, tm_mday=6, tm_hour=19, tm_min=42, tm_sec=38, tm_wday=1, tm_yday=280, tm_isdst=0)\n"
          ]
        }
      ],
      "source": [
        "data_atual = time.gmtime()\n",
        "print(data_atual)"
      ]
    },
    {
      "cell_type": "markdown",
      "metadata": {
        "id": "vPos7ryu79Pk"
      },
      "source": [
        "- É um objeto diferente, mas podemos pegar os parâmetros de ano, mês, dia, etc fazendo:"
      ]
    },
    {
      "cell_type": "code",
      "execution_count": null,
      "metadata": {
        "id": "GoYoYc9H79Pk",
        "outputId": "3eac9cca-128d-42a4-d8d1-13f7653fad31"
      },
      "outputs": [
        {
          "name": "stdout",
          "output_type": "stream",
          "text": [
            "Hoje é dia 6/10/2020\n"
          ]
        }
      ],
      "source": [
        "ano = data_atual.tm_year\n",
        "mes = data_atual.tm_mon\n",
        "dia = data_atual.tm_mday\n",
        "hora = data_atual.tm_hour\n",
        "dia_da_semana = data_atual.tm_wday\n",
        "\n",
        "print('Hoje é dia {}/{}/{}'.format(dia, mes, ano))"
      ]
    }
  ],
  "metadata": {
    "kernelspec": {
      "display_name": "Python 3",
      "language": "python",
      "name": "python3"
    },
    "language_info": {
      "codemirror_mode": {
        "name": "ipython",
        "version": 3
      },
      "file_extension": ".py",
      "mimetype": "text/x-python",
      "name": "python",
      "nbconvert_exporter": "python",
      "pygments_lexer": "ipython3",
      "version": "3.8.3"
    },
    "colab": {
      "name": "Gabarito - Módulos e Introdução a Orientação a Objetos 04.ipynb",
      "provenance": [],
      "include_colab_link": true
    }
  },
  "nbformat": 4,
  "nbformat_minor": 0
}