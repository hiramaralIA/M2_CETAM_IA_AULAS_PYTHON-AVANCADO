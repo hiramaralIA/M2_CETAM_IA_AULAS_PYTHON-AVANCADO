{
  "cells": [
    {
      "cell_type": "markdown",
      "metadata": {
        "id": "view-in-github",
        "colab_type": "text"
      },
      "source": [
        "<a href=\"https://colab.research.google.com/github/hiramaralIA/M2_CETAM_IA_AULAS_PYTHON-AVANCADO/blob/main/hcca_Cartilha_M%C3%A9todos_de_Dicion%C3%A1rios.ipynb\" target=\"_parent\"><img src=\"https://colab.research.google.com/assets/colab-badge.svg\" alt=\"Open In Colab\"/></a>"
      ]
    },
    {
      "cell_type": "markdown",
      "metadata": {
        "id": "O-e4nDwnxRjk"
      },
      "source": [
        "# Métodos Específicos de Dicionário"
      ]
    },
    {
      "cell_type": "markdown",
      "metadata": {
        "id": "G3gBILa1xRjn"
      },
      "source": [
        "- clear() -> Deleta todos os elementos do Dicionário (semelhante ao que aprendemos em listas)"
      ]
    },
    {
      "cell_type": "code",
      "execution_count": null,
      "metadata": {
        "id": "5BUAasd0xRjo",
        "outputId": "7136a448-3485-489b-9634-610fe1dfab74"
      },
      "outputs": [
        {
          "name": "stdout",
          "output_type": "stream",
          "text": [
            "{}\n"
          ]
        }
      ],
      "source": [
        "vendas_mes = {'jan': 150, 'fev': 100, 'mar': 190}\n",
        "vendas_mes.clear()\n",
        "print(vendas_mes)"
      ]
    },
    {
      "cell_type": "markdown",
      "metadata": {
        "id": "l00CSKT_xRjp"
      },
      "source": [
        "- copy() -> Cria uma cópia do dicionário (semelhante ao que aprendemos em listas)"
      ]
    },
    {
      "cell_type": "code",
      "execution_count": null,
      "metadata": {
        "id": "smgCVLX-xRjp",
        "outputId": "c56a4269-6f78-4690-90fc-10751400ad26"
      },
      "outputs": [
        {
          "name": "stdout",
          "output_type": "stream",
          "text": [
            "{'jan': 150, 'fev': 100, 'mar': 190}\n"
          ]
        }
      ],
      "source": [
        "vendas_mes = {'jan': 150, 'fev': 100, 'mar': 190}\n",
        "vendas2_mes = vendas_mes.copy()\n",
        "print(vendas2_mes)"
      ]
    },
    {
      "cell_type": "markdown",
      "metadata": {
        "id": "WZtc2LCSxRjq"
      },
      "source": [
        "- fromkeys(chaves, valor_padrao) -> Cria um dicionário com as chaves e o mesmo valor padrão para todas as chaves"
      ]
    },
    {
      "cell_type": "code",
      "execution_count": null,
      "metadata": {
        "id": "I-Su5MjKxRjq",
        "outputId": "43061d27-b588-4fe7-88ff-dbe9be834bfc"
      },
      "outputs": [
        {
          "name": "stdout",
          "output_type": "stream",
          "text": [
            "{'jan': 100, 'fev': 100, 'mar': 100}\n"
          ]
        }
      ],
      "source": [
        "chaves = ('jan', 'fev', 'mar')\n",
        "vendas = 100\n",
        "vendas_mes = dict.fromkeys(chaves, vendas)\n",
        "print(vendas_mes)"
      ]
    },
    {
      "cell_type": "markdown",
      "metadata": {
        "id": "MF6ln-vvxRjr"
      },
      "source": [
        "- get(chave) -> \tRetorna o valor especificado pela chave (Semelhante a fazer dictionario[chave]"
      ]
    },
    {
      "cell_type": "code",
      "execution_count": null,
      "metadata": {
        "id": "a6iln5juxRjr",
        "outputId": "3994640b-c8c1-46d3-f70e-b12388a9f37c"
      },
      "outputs": [
        {
          "name": "stdout",
          "output_type": "stream",
          "text": [
            "190\n"
          ]
        }
      ],
      "source": [
        "vendas_mes = {'jan': 150, 'fev': 100, 'mar': 190}\n",
        "print(vendas_mes.get('mar'))"
      ]
    },
    {
      "cell_type": "markdown",
      "metadata": {
        "id": "w46Scyl0xRjs"
      },
      "source": [
        "- items() -> Retorna uma lista em que cada item é uma tupla com (chave, valor)"
      ]
    },
    {
      "cell_type": "code",
      "execution_count": null,
      "metadata": {
        "id": "e7UfvlGxxRjs",
        "outputId": "45db4f40-6b8f-4a09-c358-ef5aed2ec326"
      },
      "outputs": [
        {
          "name": "stdout",
          "output_type": "stream",
          "text": [
            "[('jan', 150), ('fev', 100), ('mar', 190)]\n"
          ]
        }
      ],
      "source": [
        "vendas_mes = {'jan': 150, 'fev': 100, 'mar': 190}\n",
        "print(list(vendas_mes.items()))"
      ]
    },
    {
      "cell_type": "markdown",
      "metadata": {
        "id": "YR69EOjVxRjt"
      },
      "source": [
        "- keys() -> Retorna uma lista com todas as chaves do dicionário"
      ]
    },
    {
      "cell_type": "code",
      "execution_count": null,
      "metadata": {
        "id": "fksW0b1rxRjt",
        "outputId": "a4cf06a8-faf2-4f2e-cf51-ce095344d199"
      },
      "outputs": [
        {
          "name": "stdout",
          "output_type": "stream",
          "text": [
            "['jan', 'fev', 'mar']\n"
          ]
        }
      ],
      "source": [
        "vendas_mes = {'jan': 150, 'fev': 100, 'mar': 190}\n",
        "print(list(vendas_mes.keys()))"
      ]
    },
    {
      "cell_type": "markdown",
      "metadata": {
        "id": "rZKvBsbWxRjt"
      },
      "source": [
        "- pop(chave) -> Retira o item do dicionário e retorna o valor dele para ser usado"
      ]
    },
    {
      "cell_type": "code",
      "execution_count": null,
      "metadata": {
        "id": "lG2HUnPaxRjt",
        "outputId": "0824ea73-7ceb-4571-d80c-c91477fa5cae"
      },
      "outputs": [
        {
          "name": "stdout",
          "output_type": "stream",
          "text": [
            "{'jan': 150, 'mar': 190}\n",
            "100\n"
          ]
        }
      ],
      "source": [
        "vendas_mes = {'jan': 150, 'fev': 100, 'mar': 190}\n",
        "vendas_fev = vendas_mes.pop('fev') #retira o fevereiro do dicionário ao mesmo tempo que armazena o valor dele na variável\n",
        "print(vendas_mes)\n",
        "print(vendas_fev)"
      ]
    },
    {
      "cell_type": "markdown",
      "metadata": {
        "id": "qNdfPWM8xRju"
      },
      "source": [
        "- popitem() -> Retira o último item adicionado ao dicionário"
      ]
    },
    {
      "cell_type": "code",
      "execution_count": null,
      "metadata": {
        "id": "wRPKlObJxRju",
        "outputId": "7a525ca0-c54b-4ecf-c0a6-667d2965605f"
      },
      "outputs": [
        {
          "name": "stdout",
          "output_type": "stream",
          "text": [
            "{'jan': 150, 'fev': 100}\n",
            "('mar', 190)\n"
          ]
        }
      ],
      "source": [
        "vendas_mes = {'jan': 150, 'fev': 100, 'mar': 190}\n",
        "#retira o último item adicionado no dicionário ao mesmo tempo que armazena o item(chave, valor) dele na variável\n",
        "vendas_ult = vendas_mes.popitem() \n",
        "print(vendas_mes)\n",
        "print(vendas_ult)"
      ]
    },
    {
      "cell_type": "markdown",
      "metadata": {
        "id": "POr2IuQBxRjv"
      },
      "source": [
        "- setdefault(chave, valor) -> Retorna o valor da chave passada, mas caso a chave não exista, cria no dicionário o item com a chave e valor passados."
      ]
    },
    {
      "cell_type": "code",
      "execution_count": null,
      "metadata": {
        "id": "Gytpd0MbxRjv",
        "outputId": "b719813f-d234-47b0-9259-522dbe6e3bcb"
      },
      "outputs": [
        {
          "name": "stdout",
          "output_type": "stream",
          "text": [
            "100\n",
            "600\n",
            "{'jan': 150, 'fev': 100, 'mar': 190, 'abr': 600}\n"
          ]
        }
      ],
      "source": [
        "vendas_mes = {'jan': 150, 'fev': 100, 'mar': 190}\n",
        "vendas_fev = vendas_mes.setdefault('fev', 500)\n",
        "print(vendas_fev)\n",
        "#repare que como fevereiro existe na lista, ele procura pelo valor de fevereiro e ignora o 500 passado\n",
        "#agora quando não existe na lista:\n",
        "vendas_abr = vendas_mes.setdefault('abr', 600)\n",
        "#repare que agora além de vendas_abr retornar o 600 como valor, ele adicionou um item no dicionario\n",
        "print(vendas_abr)\n",
        "print(vendas_mes)"
      ]
    },
    {
      "cell_type": "markdown",
      "metadata": {
        "id": "sLSkDHknxRjv"
      },
      "source": [
        "- update(dicionario) -> Adiciona o dicionário passado como parâmetro ao dicionário original"
      ]
    },
    {
      "cell_type": "code",
      "execution_count": null,
      "metadata": {
        "id": "LiJ7WWIkxRjw",
        "outputId": "e8779d37-c5d2-4664-ffb2-7d022b9b8386"
      },
      "outputs": [
        {
          "name": "stdout",
          "output_type": "stream",
          "text": [
            "{'jan': 150, 'fev': 100, 'mar': 190, 'abr': 400, 'mai': 600, 'jun': 500}\n"
          ]
        }
      ],
      "source": [
        "vendas_mes = {'jan': 150, 'fev': 100, 'mar': 190}\n",
        "vendas_2tri = {'abr': 400, 'mai': 600, 'jun': 500}\n",
        "vendas_mes.update(vendas_2tri)\n",
        "print(vendas_mes)"
      ]
    },
    {
      "cell_type": "markdown",
      "metadata": {
        "id": "J3dBzFe2xRjw"
      },
      "source": [
        "- values() -> Retorna uma lista com todos os valores do dicionários"
      ]
    },
    {
      "cell_type": "code",
      "execution_count": null,
      "metadata": {
        "id": "feuq3_GaxRjw",
        "outputId": "376f8b77-16e3-4788-c737-6d79708822a0"
      },
      "outputs": [
        {
          "name": "stdout",
          "output_type": "stream",
          "text": [
            "[150, 100, 190]\n"
          ]
        }
      ],
      "source": [
        "vendas_mes = {'jan': 150, 'fev': 100, 'mar': 190}\n",
        "print(list(vendas_mes.values()))"
      ]
    }
  ],
  "metadata": {
    "kernelspec": {
      "display_name": "Python 3",
      "language": "python",
      "name": "python3"
    },
    "language_info": {
      "codemirror_mode": {
        "name": "ipython",
        "version": 3
      },
      "file_extension": ".py",
      "mimetype": "text/x-python",
      "name": "python",
      "nbconvert_exporter": "python",
      "pygments_lexer": "ipython3",
      "version": "3.8.3"
    },
    "colab": {
      "name": "Cartilha - Métodos de Dicionários.ipynb",
      "provenance": [],
      "include_colab_link": true
    }
  },
  "nbformat": 4,
  "nbformat_minor": 0
}