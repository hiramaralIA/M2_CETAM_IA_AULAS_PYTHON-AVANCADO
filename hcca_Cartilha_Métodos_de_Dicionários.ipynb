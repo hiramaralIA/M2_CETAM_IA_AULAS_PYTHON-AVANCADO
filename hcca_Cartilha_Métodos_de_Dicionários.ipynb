{
  "cells": [
    {
      "cell_type": "markdown",
      "metadata": {
        "id": "view-in-github",
        "colab_type": "text"
      },
      "source": [
        "<a href=\"https://colab.research.google.com/github/hiramaralIA/M2_CETAM_IA_AULAS_PYTHON-AVANCADO/blob/main/hcca_Cartilha_M%C3%A9todos_de_Dicion%C3%A1rios.ipynb\" target=\"_parent\"><img src=\"https://colab.research.google.com/assets/colab-badge.svg\" alt=\"Open In Colab\"/></a>"
      ]
    },
    {
      "cell_type": "markdown",
      "metadata": {
        "id": "rMXh6EIcys1r"
      },
      "source": [
        "# Métodos Específicos de Dicionário"
      ]
    },
    {
      "cell_type": "markdown",
      "metadata": {
        "id": "V2A5iqdEys1u"
      },
      "source": [
        "- clear() -> Deleta todos os elementos do Dicionário (semelhante ao que aprendemos em listas)"
      ]
    },
    {
      "cell_type": "code",
      "execution_count": null,
      "metadata": {
        "id": "VI700-wiys1v",
        "outputId": "4c684ec1-c518-4a33-a023-c22daf9eca1c"
      },
      "outputs": [
        {
          "name": "stdout",
          "output_type": "stream",
          "text": [
            "{}\n"
          ]
        }
      ],
      "source": [
        "vendas_mes = {'jan': 150, 'fev': 100, 'mar': 190}\n",
        "vendas_mes.clear()\n",
        "print(vendas_mes)"
      ]
    },
    {
      "cell_type": "markdown",
      "metadata": {
        "id": "KHHxfkcpys1w"
      },
      "source": [
        "- copy() -> Cria uma cópia do dicionário (semelhante ao que aprendemos em listas)"
      ]
    },
    {
      "cell_type": "code",
      "execution_count": null,
      "metadata": {
        "id": "lt-EaeJdys1x",
        "outputId": "d5c1486e-69b4-4b7a-ceb0-500c71709460"
      },
      "outputs": [
        {
          "name": "stdout",
          "output_type": "stream",
          "text": [
            "{'jan': 150, 'fev': 100, 'mar': 190}\n"
          ]
        }
      ],
      "source": [
        "vendas_mes = {'jan': 150, 'fev': 100, 'mar': 190}\n",
        "vendas2_mes = vendas_mes.copy()\n",
        "print(vendas2_mes)"
      ]
    },
    {
      "cell_type": "markdown",
      "metadata": {
        "id": "YuqPRnISys1x"
      },
      "source": [
        "- fromkeys(chaves, valor_padrao) -> Cria um dicionário com as chaves e o mesmo valor padrão para todas as chaves"
      ]
    },
    {
      "cell_type": "code",
      "execution_count": null,
      "metadata": {
        "id": "GULfWrP_ys1y",
        "outputId": "0614fd3c-a4e6-405e-cc97-59b770b6dff7"
      },
      "outputs": [
        {
          "name": "stdout",
          "output_type": "stream",
          "text": [
            "{'jan': 100, 'fev': 100, 'mar': 100}\n"
          ]
        }
      ],
      "source": [
        "chaves = ('jan', 'fev', 'mar')\n",
        "vendas = 100\n",
        "vendas_mes = dict.fromkeys(chaves, vendas)\n",
        "print(vendas_mes)"
      ]
    },
    {
      "cell_type": "markdown",
      "metadata": {
        "id": "VzRJ7JS2ys1z"
      },
      "source": [
        "- get(chave) -> \tRetorna o valor especificado pela chave (Semelhante a fazer dictionario[chave]"
      ]
    },
    {
      "cell_type": "code",
      "execution_count": null,
      "metadata": {
        "id": "FqiVs7Xyys1z",
        "outputId": "123dd3a8-8f5f-4110-ba12-ee878815695e"
      },
      "outputs": [
        {
          "name": "stdout",
          "output_type": "stream",
          "text": [
            "190\n"
          ]
        }
      ],
      "source": [
        "vendas_mes = {'jan': 150, 'fev': 100, 'mar': 190}\n",
        "print(vendas_mes.get('mar'))"
      ]
    },
    {
      "cell_type": "markdown",
      "metadata": {
        "id": "94cNaxcVys10"
      },
      "source": [
        "- items() -> Retorna uma lista em que cada item é uma tupla com (chave, valor)"
      ]
    },
    {
      "cell_type": "code",
      "execution_count": null,
      "metadata": {
        "id": "hh7319IBys10",
        "outputId": "6b181e9a-965a-43b9-b033-6fbb3d8b2b2d"
      },
      "outputs": [
        {
          "name": "stdout",
          "output_type": "stream",
          "text": [
            "[('jan', 150), ('fev', 100), ('mar', 190)]\n"
          ]
        }
      ],
      "source": [
        "vendas_mes = {'jan': 150, 'fev': 100, 'mar': 190}\n",
        "print(list(vendas_mes.items()))"
      ]
    },
    {
      "cell_type": "markdown",
      "metadata": {
        "id": "u21BwqODys11"
      },
      "source": [
        "- keys() -> Retorna uma lista com todas as chaves do dicionário"
      ]
    },
    {
      "cell_type": "code",
      "execution_count": null,
      "metadata": {
        "id": "QihnxzTHys11",
        "outputId": "6808ceb9-3fca-467b-be49-a5cb3496f050"
      },
      "outputs": [
        {
          "name": "stdout",
          "output_type": "stream",
          "text": [
            "['jan', 'fev', 'mar']\n"
          ]
        }
      ],
      "source": [
        "vendas_mes = {'jan': 150, 'fev': 100, 'mar': 190}\n",
        "print(list(vendas_mes.keys()))"
      ]
    },
    {
      "cell_type": "markdown",
      "metadata": {
        "id": "nYysrd0rys11"
      },
      "source": [
        "- pop(chave) -> Retira o item do dicionário e retorna o valor dele para ser usado"
      ]
    },
    {
      "cell_type": "code",
      "execution_count": null,
      "metadata": {
        "id": "O7i5Bnnkys12",
        "outputId": "4644f762-b82b-4e6a-9b5f-8988377b3f60"
      },
      "outputs": [
        {
          "name": "stdout",
          "output_type": "stream",
          "text": [
            "{'jan': 150, 'mar': 190}\n",
            "100\n"
          ]
        }
      ],
      "source": [
        "vendas_mes = {'jan': 150, 'fev': 100, 'mar': 190}\n",
        "vendas_fev = vendas_mes.pop('fev') #retira o fevereiro do dicionário ao mesmo tempo que armazena o valor dele na variável\n",
        "print(vendas_mes)\n",
        "print(vendas_fev)"
      ]
    },
    {
      "cell_type": "markdown",
      "metadata": {
        "id": "v5pA5Eu6ys12"
      },
      "source": [
        "- popitem() -> Retira o último item adicionado ao dicionário"
      ]
    },
    {
      "cell_type": "code",
      "execution_count": null,
      "metadata": {
        "id": "S-evpd1Eys12",
        "outputId": "72760eca-3e72-4cb6-f7e3-6cb4e73ceaa1"
      },
      "outputs": [
        {
          "name": "stdout",
          "output_type": "stream",
          "text": [
            "{'jan': 150, 'fev': 100}\n",
            "('mar', 190)\n"
          ]
        }
      ],
      "source": [
        "vendas_mes = {'jan': 150, 'fev': 100, 'mar': 190}\n",
        "#retira o último item adicionado no dicionário ao mesmo tempo que armazena o item(chave, valor) dele na variável\n",
        "vendas_ult = vendas_mes.popitem() \n",
        "print(vendas_mes)\n",
        "print(vendas_ult)"
      ]
    },
    {
      "cell_type": "markdown",
      "metadata": {
        "id": "Slee3Ks4ys12"
      },
      "source": [
        "- setdefault(chave, valor) -> Retorna o valor da chave passada, mas caso a chave não exista, cria no dicionário o item com a chave e valor passados."
      ]
    },
    {
      "cell_type": "code",
      "execution_count": null,
      "metadata": {
        "id": "loBH2FYFys13",
        "outputId": "ad506681-a83a-40d0-ea02-131e148364f9"
      },
      "outputs": [
        {
          "name": "stdout",
          "output_type": "stream",
          "text": [
            "100\n",
            "600\n",
            "{'jan': 150, 'fev': 100, 'mar': 190, 'abr': 600}\n"
          ]
        }
      ],
      "source": [
        "vendas_mes = {'jan': 150, 'fev': 100, 'mar': 190}\n",
        "vendas_fev = vendas_mes.setdefault('fev', 500)\n",
        "print(vendas_fev)\n",
        "#repare que como fevereiro existe na lista, ele procura pelo valor de fevereiro e ignora o 500 passado\n",
        "#agora quando não existe na lista:\n",
        "vendas_abr = vendas_mes.setdefault('abr', 600)\n",
        "#repare que agora além de vendas_abr retornar o 600 como valor, ele adicionou um item no dicionario\n",
        "print(vendas_abr)\n",
        "print(vendas_mes)"
      ]
    },
    {
      "cell_type": "markdown",
      "metadata": {
        "id": "NwdYnv2yys13"
      },
      "source": [
        "- update(dicionario) -> Adiciona o dicionário passado como parâmetro ao dicionário original"
      ]
    },
    {
      "cell_type": "code",
      "execution_count": null,
      "metadata": {
        "id": "6W5pP31Vys14",
        "outputId": "f6fa4272-e6b1-4672-cbe2-2eaf09d6d179"
      },
      "outputs": [
        {
          "name": "stdout",
          "output_type": "stream",
          "text": [
            "{'jan': 150, 'fev': 100, 'mar': 190, 'abr': 400, 'mai': 600, 'jun': 500}\n"
          ]
        }
      ],
      "source": [
        "vendas_mes = {'jan': 150, 'fev': 100, 'mar': 190}\n",
        "vendas_2tri = {'abr': 400, 'mai': 600, 'jun': 500}\n",
        "vendas_mes.update(vendas_2tri)\n",
        "print(vendas_mes)"
      ]
    },
    {
      "cell_type": "markdown",
      "metadata": {
        "id": "Gkg4AV6qys15"
      },
      "source": [
        "- values() -> Retorna uma lista com todos os valores do dicionários"
      ]
    },
    {
      "cell_type": "code",
      "execution_count": null,
      "metadata": {
        "id": "0_dSFGP9ys15",
        "outputId": "a4c93f28-1bfc-42c3-8309-3145a98c154e"
      },
      "outputs": [
        {
          "name": "stdout",
          "output_type": "stream",
          "text": [
            "[150, 100, 190]\n"
          ]
        }
      ],
      "source": [
        "vendas_mes = {'jan': 150, 'fev': 100, 'mar': 190}\n",
        "print(list(vendas_mes.values()))"
      ]
    }
  ],
  "metadata": {
    "kernelspec": {
      "display_name": "Python 3",
      "language": "python",
      "name": "python3"
    },
    "language_info": {
      "codemirror_mode": {
        "name": "ipython",
        "version": 3
      },
      "file_extension": ".py",
      "mimetype": "text/x-python",
      "name": "python",
      "nbconvert_exporter": "python",
      "pygments_lexer": "ipython3",
      "version": "3.8.3"
    },
    "colab": {
      "name": "Cartilha - Métodos de Dicionários.ipynb",
      "provenance": [],
      "include_colab_link": true
    }
  },
  "nbformat": 4,
  "nbformat_minor": 0
}