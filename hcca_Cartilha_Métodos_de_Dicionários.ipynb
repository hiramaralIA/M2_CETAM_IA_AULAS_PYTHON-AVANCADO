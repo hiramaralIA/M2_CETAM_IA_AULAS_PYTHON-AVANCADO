{
  "cells": [
    {
      "cell_type": "markdown",
      "metadata": {
        "id": "view-in-github",
        "colab_type": "text"
      },
      "source": [
        "<a href=\"https://colab.research.google.com/github/hiramaralIA/M2_CETAM_IA_AULAS_PYTHON-AVANCADO/blob/main/hcca_Cartilha_M%C3%A9todos_de_Dicion%C3%A1rios.ipynb\" target=\"_parent\"><img src=\"https://colab.research.google.com/assets/colab-badge.svg\" alt=\"Open In Colab\"/></a>"
      ]
    },
    {
      "cell_type": "markdown",
      "metadata": {
        "id": "XnFQWTOC0eWl"
      },
      "source": [
        "# Métodos Específicos de Dicionário"
      ]
    },
    {
      "cell_type": "markdown",
      "metadata": {
        "id": "GQej7aEY0eWo"
      },
      "source": [
        "- clear() -> Deleta todos os elementos do Dicionário (semelhante ao que aprendemos em listas)"
      ]
    },
    {
      "cell_type": "code",
      "execution_count": null,
      "metadata": {
        "id": "zmK67M740eWp",
        "outputId": "bc70a9be-9f20-4984-8da5-aa82c7de133e"
      },
      "outputs": [
        {
          "name": "stdout",
          "output_type": "stream",
          "text": [
            "{}\n"
          ]
        }
      ],
      "source": [
        "vendas_mes = {'jan': 150, 'fev': 100, 'mar': 190}\n",
        "vendas_mes.clear()\n",
        "print(vendas_mes)"
      ]
    },
    {
      "cell_type": "markdown",
      "metadata": {
        "id": "jEnb1QEq0eWq"
      },
      "source": [
        "- copy() -> Cria uma cópia do dicionário (semelhante ao que aprendemos em listas)"
      ]
    },
    {
      "cell_type": "code",
      "execution_count": null,
      "metadata": {
        "id": "xxBmO59W0eWr",
        "outputId": "15a2f2dd-1323-4bfb-d9be-e1490ff51263"
      },
      "outputs": [
        {
          "name": "stdout",
          "output_type": "stream",
          "text": [
            "{'jan': 150, 'fev': 100, 'mar': 190}\n"
          ]
        }
      ],
      "source": [
        "vendas_mes = {'jan': 150, 'fev': 100, 'mar': 190}\n",
        "vendas2_mes = vendas_mes.copy()\n",
        "print(vendas2_mes)"
      ]
    },
    {
      "cell_type": "markdown",
      "metadata": {
        "id": "ct0DtBvx0eWr"
      },
      "source": [
        "- fromkeys(chaves, valor_padrao) -> Cria um dicionário com as chaves e o mesmo valor padrão para todas as chaves"
      ]
    },
    {
      "cell_type": "code",
      "execution_count": null,
      "metadata": {
        "id": "LPYtExuk0eWs",
        "outputId": "c9a06d44-62be-46a2-83d8-54c84b4c93bf"
      },
      "outputs": [
        {
          "name": "stdout",
          "output_type": "stream",
          "text": [
            "{'jan': 100, 'fev': 100, 'mar': 100}\n"
          ]
        }
      ],
      "source": [
        "chaves = ('jan', 'fev', 'mar')\n",
        "vendas = 100\n",
        "vendas_mes = dict.fromkeys(chaves, vendas)\n",
        "print(vendas_mes)"
      ]
    },
    {
      "cell_type": "markdown",
      "metadata": {
        "id": "BZ1tFAZS0eWs"
      },
      "source": [
        "- get(chave) -> \tRetorna o valor especificado pela chave (Semelhante a fazer dictionario[chave]"
      ]
    },
    {
      "cell_type": "code",
      "execution_count": null,
      "metadata": {
        "id": "DQrCxOP80eWt",
        "outputId": "1867c630-1be7-4823-db8b-142b442915ce"
      },
      "outputs": [
        {
          "name": "stdout",
          "output_type": "stream",
          "text": [
            "190\n"
          ]
        }
      ],
      "source": [
        "vendas_mes = {'jan': 150, 'fev': 100, 'mar': 190}\n",
        "print(vendas_mes.get('mar'))"
      ]
    },
    {
      "cell_type": "markdown",
      "metadata": {
        "id": "u8E4S6Bh0eWt"
      },
      "source": [
        "- items() -> Retorna uma lista em que cada item é uma tupla com (chave, valor)"
      ]
    },
    {
      "cell_type": "code",
      "execution_count": null,
      "metadata": {
        "id": "qGWa2O_D0eWu",
        "outputId": "3d412f6f-6ca0-4c82-fd12-451837b9afce"
      },
      "outputs": [
        {
          "name": "stdout",
          "output_type": "stream",
          "text": [
            "[('jan', 150), ('fev', 100), ('mar', 190)]\n"
          ]
        }
      ],
      "source": [
        "vendas_mes = {'jan': 150, 'fev': 100, 'mar': 190}\n",
        "print(list(vendas_mes.items()))"
      ]
    },
    {
      "cell_type": "markdown",
      "metadata": {
        "id": "MhiKCjwT0eWu"
      },
      "source": [
        "- keys() -> Retorna uma lista com todas as chaves do dicionário"
      ]
    },
    {
      "cell_type": "code",
      "execution_count": null,
      "metadata": {
        "id": "w_Cls_eU0eWu",
        "outputId": "7e9b97ac-e602-4d75-ad7c-f59cfbe57f94"
      },
      "outputs": [
        {
          "name": "stdout",
          "output_type": "stream",
          "text": [
            "['jan', 'fev', 'mar']\n"
          ]
        }
      ],
      "source": [
        "vendas_mes = {'jan': 150, 'fev': 100, 'mar': 190}\n",
        "print(list(vendas_mes.keys()))"
      ]
    },
    {
      "cell_type": "markdown",
      "metadata": {
        "id": "Lu2gXwXA0eWv"
      },
      "source": [
        "- pop(chave) -> Retira o item do dicionário e retorna o valor dele para ser usado"
      ]
    },
    {
      "cell_type": "code",
      "execution_count": null,
      "metadata": {
        "id": "qxLCTDWv0eWv",
        "outputId": "48eb22df-85a7-4ec3-b610-435ddfba162b"
      },
      "outputs": [
        {
          "name": "stdout",
          "output_type": "stream",
          "text": [
            "{'jan': 150, 'mar': 190}\n",
            "100\n"
          ]
        }
      ],
      "source": [
        "vendas_mes = {'jan': 150, 'fev': 100, 'mar': 190}\n",
        "vendas_fev = vendas_mes.pop('fev') #retira o fevereiro do dicionário ao mesmo tempo que armazena o valor dele na variável\n",
        "print(vendas_mes)\n",
        "print(vendas_fev)"
      ]
    },
    {
      "cell_type": "markdown",
      "metadata": {
        "id": "2puMOrom0eWv"
      },
      "source": [
        "- popitem() -> Retira o último item adicionado ao dicionário"
      ]
    },
    {
      "cell_type": "code",
      "execution_count": null,
      "metadata": {
        "id": "ozWMK9XM0eWw",
        "outputId": "4210e8ff-587e-4576-9db8-734d099b8390"
      },
      "outputs": [
        {
          "name": "stdout",
          "output_type": "stream",
          "text": [
            "{'jan': 150, 'fev': 100}\n",
            "('mar', 190)\n"
          ]
        }
      ],
      "source": [
        "vendas_mes = {'jan': 150, 'fev': 100, 'mar': 190}\n",
        "#retira o último item adicionado no dicionário ao mesmo tempo que armazena o item(chave, valor) dele na variável\n",
        "vendas_ult = vendas_mes.popitem() \n",
        "print(vendas_mes)\n",
        "print(vendas_ult)"
      ]
    },
    {
      "cell_type": "markdown",
      "metadata": {
        "id": "hM3NytcV0eWw"
      },
      "source": [
        "- setdefault(chave, valor) -> Retorna o valor da chave passada, mas caso a chave não exista, cria no dicionário o item com a chave e valor passados."
      ]
    },
    {
      "cell_type": "code",
      "execution_count": null,
      "metadata": {
        "id": "CrIgEq1F0eWw",
        "outputId": "247f2b18-8ef6-4072-d5df-9e9f898e4047"
      },
      "outputs": [
        {
          "name": "stdout",
          "output_type": "stream",
          "text": [
            "100\n",
            "600\n",
            "{'jan': 150, 'fev': 100, 'mar': 190, 'abr': 600}\n"
          ]
        }
      ],
      "source": [
        "vendas_mes = {'jan': 150, 'fev': 100, 'mar': 190}\n",
        "vendas_fev = vendas_mes.setdefault('fev', 500)\n",
        "print(vendas_fev)\n",
        "#repare que como fevereiro existe na lista, ele procura pelo valor de fevereiro e ignora o 500 passado\n",
        "#agora quando não existe na lista:\n",
        "vendas_abr = vendas_mes.setdefault('abr', 600)\n",
        "#repare que agora além de vendas_abr retornar o 600 como valor, ele adicionou um item no dicionario\n",
        "print(vendas_abr)\n",
        "print(vendas_mes)"
      ]
    },
    {
      "cell_type": "markdown",
      "metadata": {
        "id": "EFhGy-dJ0eWx"
      },
      "source": [
        "- update(dicionario) -> Adiciona o dicionário passado como parâmetro ao dicionário original"
      ]
    },
    {
      "cell_type": "code",
      "execution_count": null,
      "metadata": {
        "id": "KNvFLyw00eWx",
        "outputId": "7e9bc5e3-14f5-4165-a8ea-9bb5f9af91d6"
      },
      "outputs": [
        {
          "name": "stdout",
          "output_type": "stream",
          "text": [
            "{'jan': 150, 'fev': 100, 'mar': 190, 'abr': 400, 'mai': 600, 'jun': 500}\n"
          ]
        }
      ],
      "source": [
        "vendas_mes = {'jan': 150, 'fev': 100, 'mar': 190}\n",
        "vendas_2tri = {'abr': 400, 'mai': 600, 'jun': 500}\n",
        "vendas_mes.update(vendas_2tri)\n",
        "print(vendas_mes)"
      ]
    },
    {
      "cell_type": "markdown",
      "metadata": {
        "id": "1mtY5OGU0eWx"
      },
      "source": [
        "- values() -> Retorna uma lista com todos os valores do dicionários"
      ]
    },
    {
      "cell_type": "code",
      "execution_count": null,
      "metadata": {
        "id": "Q9GswFld0eWx",
        "outputId": "33e5b092-90e2-4573-df5b-bec7eb91fb7d"
      },
      "outputs": [
        {
          "name": "stdout",
          "output_type": "stream",
          "text": [
            "[150, 100, 190]\n"
          ]
        }
      ],
      "source": [
        "vendas_mes = {'jan': 150, 'fev': 100, 'mar': 190}\n",
        "print(list(vendas_mes.values()))"
      ]
    }
  ],
  "metadata": {
    "kernelspec": {
      "display_name": "Python 3",
      "language": "python",
      "name": "python3"
    },
    "language_info": {
      "codemirror_mode": {
        "name": "ipython",
        "version": 3
      },
      "file_extension": ".py",
      "mimetype": "text/x-python",
      "name": "python",
      "nbconvert_exporter": "python",
      "pygments_lexer": "ipython3",
      "version": "3.8.3"
    },
    "colab": {
      "name": "Cartilha - Métodos de Dicionários.ipynb",
      "provenance": [],
      "include_colab_link": true
    }
  },
  "nbformat": 4,
  "nbformat_minor": 0
}