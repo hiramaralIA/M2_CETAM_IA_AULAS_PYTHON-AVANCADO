{
 "cells": [
  {
   "cell_type": "markdown",
   "metadata": {
    "colab_type": "text",
    "id": "view-in-github"
   },
   "source": [
    "<a href=\"https://colab.research.google.com/github/hiramaralIA/CETAM_IA_AULAS_PYTHON/blob/main/hcca_E_08_06_01_Exerc%C3%ADcios_de_For.ipynb\" target=\"_parent\"><img src=\"https://colab.research.google.com/assets/colab-badge.svg\" alt=\"Open In Colab\"/></a>"
   ]
  },
  {
   "cell_type": "markdown",
   "metadata": {
    "id": "u2XR8OKjpoa-"
   },
   "source": [
    "# Exercícios\n",
    "\n",
    "## 1. Calculando % de uma lista\n",
    "\n",
    "Faremos algo parecido com \"filtrar\" uma lista. Mais pra frente no curso aprenderemos outras formas de fazer isso, mas com o nosso conhecimentoa atual já conseguimos resolver o desafio.\n",
    "\n",
    "Digamos que a gente tenha uma lista de vendedores e ao invés de saber todos os vendedores que bateram a meta, eu quero conseguir calcular o % de vendedores que bateram a meta. Ou seja, se temos 10 vendedores e 3 bateram a meta, temos 30% dos vendedores que bateram a meta."
   ]
  },
  {
   "cell_type": "code",
   "execution_count": null,
   "metadata": {
    "id": "JcuxNswJpobD"
   },
   "outputs": [],
   "source": [
    "meta = 10000\n",
    "vendas = [\n",
    "    ['João', 15000],\n",
    "    ['Julia', 27000],\n",
    "    ['Marcus', 9900],\n",
    "    ['Maria', 3750],\n",
    "    ['Ana', 10300],\n",
    "    ['Alon', 7870],\n",
    "]\n",
    "#seu código aqui"
   ]
  },
  {
   "cell_type": "markdown",
   "metadata": {
    "id": "kZIx5U7XpobF"
   },
   "source": [
    "- Vamos resolver de 2 formas:\n",
    "    1. Criando uma lista auxiliar apenas com os vendedores que bateram a meta\n",
    "    2. Fazendo o cálculo diretamente na lista que já temos"
   ]
  },
  {
   "cell_type": "code",
   "execution_count": null,
   "metadata": {
    "id": "xo9FcAx8pobG",
    "outputId": "7e18df98-f9da-4d12-9b51-cb706b959655"
   },
   "outputs": [
    {
     "name": "stdout",
     "output_type": "stream",
     "text": [
      "[['João', 15000], ['Julia', 27000], ['Ana', 10300]]\n",
      "50.0% dos vendedores bateram a meta\n"
     ]
    }
   ],
   "source": [
    "#criando lista auxiliar\n",
    "acima_meta = []\n",
    "\n",
    "for venda in vendas:\n",
    "    if venda[1] >= meta:\n",
    "        acima_meta.append(venda)\n",
    "        \n",
    "print(acima_meta)\n",
    "print('{:.1%} dos vendedores bateram a meta'.format(len(acima_meta) / len(vendas)))"
   ]
  },
  {
   "cell_type": "code",
   "execution_count": null,
   "metadata": {
    "id": "vSod9GD8pobH",
    "outputId": "a6ef355b-467f-4cce-fe53-e12faee0922f"
   },
   "outputs": [
    {
     "name": "stdout",
     "output_type": "stream",
     "text": [
      "50.0% dos vendedores bateram a meta\n"
     ]
    }
   ],
   "source": [
    "#cálculo diretamente na lista\n",
    "qtde_vendedores_acima = 0\n",
    "\n",
    "for venda in vendas:\n",
    "    if venda[1] >= meta:\n",
    "        qtde_vendedores_acima += 1\n",
    "        \n",
    "print('{:.1%} dos vendedores bateram a meta'.format(qtde_vendedores_acima / len(vendas)))"
   ]
  },
  {
   "cell_type": "markdown",
   "metadata": {
    "id": "wER3PCHCpobI"
   },
   "source": [
    "## Para treinar uma estrutura parecida, crie um código para responder: quem foi o vendedor que mais vendeu?"
   ]
  },
  {
   "cell_type": "code",
   "execution_count": null,
   "metadata": {
    "id": "OB_uvhW-pobI",
    "outputId": "86b61026-2d4a-4768-d180-a2202e19618b"
   },
   "outputs": [
    {
     "name": "stdout",
     "output_type": "stream",
     "text": [
      "O melhor vendedor foi Julia com 27000 vendas\n"
     ]
    }
   ],
   "source": [
    "#seu código aqui\n",
    "melhor_vendedor = ''\n",
    "maior_vendas = 0\n",
    "\n",
    "for venda in vendas:\n",
    "    if venda[1] > maior_vendas:\n",
    "        maior_vendas = venda[1]\n",
    "        melhor_vendedor = venda[0]\n",
    "        \n",
    "print('O melhor vendedor foi {} com {} vendas'.format(melhor_vendedor, maior_vendas))"
   ]
  }
 ],
 "metadata": {
  "colab": {
   "include_colab_link": true,
   "name": "Gabarito - 08.06.01 Exercícios de For.ipynb",
   "provenance": []
  },
  "kernelspec": {
   "display_name": "Python 3 (ipykernel)",
   "language": "python",
   "name": "python3"
  },
  "language_info": {
   "codemirror_mode": {
    "name": "ipython",
    "version": 3
   },
   "file_extension": ".py",
   "mimetype": "text/x-python",
   "name": "python",
   "nbconvert_exporter": "python",
   "pygments_lexer": "ipython3",
   "version": "3.9.7"
  }
 },
 "nbformat": 4,
 "nbformat_minor": 1
}
