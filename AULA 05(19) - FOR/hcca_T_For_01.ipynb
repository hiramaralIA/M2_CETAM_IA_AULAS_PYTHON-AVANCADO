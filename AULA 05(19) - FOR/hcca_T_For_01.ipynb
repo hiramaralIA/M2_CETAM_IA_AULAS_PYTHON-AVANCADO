{
 "cells": [
  {
   "cell_type": "markdown",
   "metadata": {
    "colab_type": "text",
    "id": "view-in-github"
   },
   "source": [
    "<a href=\"https://colab.research.google.com/github/hiramaralIA/CETAM_IA_AULAS_PYTHON/blob/main/hcca_T_For_01.ipynb\" target=\"_parent\"><img src=\"https://colab.research.google.com/assets/colab-badge.svg\" alt=\"Open In Colab\"/></a>"
   ]
  },
  {
   "cell_type": "markdown",
   "metadata": {
    "id": "Z36IjbXSm1DE"
   },
   "source": [
    "# Estrutura de Repetição: for\n",
    "\n",
    "### Funcionamento:\n",
    "\n",
    "for i in range(n):\n",
    "    repetir código n vezes"
   ]
  },
  {
   "cell_type": "raw",
   "metadata": {
    "id": "RJBbTi1bm1DM"
   },
   "source": [
    "for i in range(n):\n",
    "    print(i)"
   ]
  },
  {
   "cell_type": "code",
   "execution_count": 2,
   "metadata": {
    "id": "P7ukk6fIm1DO"
   },
   "outputs": [
    {
     "name": "stdout",
     "output_type": "stream",
     "text": [
      "Os alunos do Cetam estão estudando Python\n",
      "Os alunos do Cetam estão estudando Python\n",
      "Os alunos do Cetam estão estudando Python\n",
      "Os alunos do Cetam estão estudando Python\n",
      "Os alunos do Cetam estão estudando Python\n",
      "Os alunos do Cetam estão estudando Python\n",
      "Os alunos do Cetam estão estudando Python\n",
      "Os alunos do Cetam estão estudando Python\n",
      "Os alunos do Cetam estão estudando Python\n",
      "Os alunos do Cetam estão estudando Python\n"
     ]
    }
   ],
   "source": [
    "for i in range(10):\n",
    "    #print(i)\n",
    "    print('Os alunos do Cetam estão estudando Python')"
   ]
  },
  {
   "cell_type": "markdown",
   "metadata": {
    "id": "xDp58fH3m1DQ"
   },
   "source": [
    "- Imagine que você está construindo uma automação para enviar todo dia por e-mail um resumo da produção de uma fábrica. Construa um código que exiba a quantidade produzida de cada os produto nesse \"e-mail\""
   ]
  },
  {
   "cell_type": "code",
   "execution_count": 10,
   "metadata": {
    "id": "YmvCLUFTm1DR"
   },
   "outputs": [
    {
     "name": "stdout",
     "output_type": "stream",
     "text": [
      "do produto coca foram produzidas 15000 unidades \n",
      "do produto pepsi foram produzidas 12000 unidades \n",
      "do produto guarana foram produzidas 13000 unidades \n",
      "do produto sprite foram produzidas 5000 unidades \n",
      "do produto fanta foram produzidas 250 unidades \n"
     ]
    }
   ],
   "source": [
    "produtos = ['coca', 'pepsi', 'guarana', 'sprite', 'fanta']\n",
    "producao = [15000, 12000, 13000, 5000, 250]\n",
    "\n",
    "for i in range(5):\n",
    "    print('do produto {} foram produzidas {} unidades '.format(produtos[i], producao[i]))"
   ]
  },
  {
   "cell_type": "code",
   "execution_count": 13,
   "metadata": {},
   "outputs": [
    {
     "name": "stdout",
     "output_type": "stream",
     "text": [
      "do produto pepsi foram produzidas 15000 unidades \n",
      "do produto guarana foram produzidas 12000 unidades \n",
      "do produto sprite foram produzidas 13000 unidades \n",
      "do produto fanta foram produzidas 5000 unidades \n"
     ]
    }
   ],
   "source": [
    "produtos = ['pepsi', 'guarana', 'sprite', 'fanta']\n",
    "producao = [15000, 12000, 13000, 5000, 250]\n",
    "\n",
    "tamanho = len(produtos)\n",
    "for i in range(tamanho):\n",
    "    print('do produto {} foram produzidas {} unidades '.format(produtos[i], producao[i]))"
   ]
  },
  {
   "cell_type": "code",
   "execution_count": null,
   "metadata": {},
   "outputs": [],
   "source": []
  }
 ],
 "metadata": {
  "colab": {
   "include_colab_link": true,
   "name": "For 01.ipynb",
   "provenance": []
  },
  "kernelspec": {
   "display_name": "Python 3 (ipykernel)",
   "language": "python",
   "name": "python3"
  },
  "language_info": {
   "codemirror_mode": {
    "name": "ipython",
    "version": 3
   },
   "file_extension": ".py",
   "mimetype": "text/x-python",
   "name": "python",
   "nbconvert_exporter": "python",
   "pygments_lexer": "ipython3",
   "version": "3.9.7"
  }
 },
 "nbformat": 4,
 "nbformat_minor": 1
}
