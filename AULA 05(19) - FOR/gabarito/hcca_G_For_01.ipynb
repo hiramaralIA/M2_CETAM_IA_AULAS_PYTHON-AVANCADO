{
  "cells": [
    {
      "cell_type": "markdown",
      "metadata": {
        "id": "view-in-github",
        "colab_type": "text"
      },
      "source": [
        "<a href=\"https://colab.research.google.com/github/hiramaralIA/CETAM_IA_AULAS_PYTHON/blob/main/hcca_G_For_01.ipynb\" target=\"_parent\"><img src=\"https://colab.research.google.com/assets/colab-badge.svg\" alt=\"Open In Colab\"/></a>"
      ]
    },
    {
      "cell_type": "markdown",
      "metadata": {
        "id": "IoE8hKLP4Gnm"
      },
      "source": [
        "# Estrutura de Repetição: for\n",
        "\n",
        "### Funcionamento:"
      ]
    },
    {
      "cell_type": "raw",
      "metadata": {
        "id": "WWEg8yjv4Gn3"
      },
      "source": [
        "for i in range(n):\n",
        "    repetir código n vezes"
      ]
    },
    {
      "cell_type": "code",
      "execution_count": null,
      "metadata": {
        "id": "x-9t9WGq4Gn7",
        "outputId": "7127951b-2ad7-43f8-d348-ed73a22e0825"
      },
      "outputs": [
        {
          "name": "stdout",
          "output_type": "stream",
          "text": [
            "0\n",
            "1\n",
            "2\n",
            "3\n",
            "4\n"
          ]
        }
      ],
      "source": [
        "for i in range(5):\n",
        "    print(i)"
      ]
    },
    {
      "cell_type": "markdown",
      "metadata": {
        "id": "1WV7aV1S4GoC"
      },
      "source": [
        "- Imagine que você está construindo uma automação para enviar todo dia por e-mail um resumo da produção de uma fábrica. Construa um código que exiba a quantidade produzida de cada os produto nesse \"e-mail\""
      ]
    },
    {
      "cell_type": "code",
      "execution_count": null,
      "metadata": {
        "id": "QsfStBJG4GoF",
        "outputId": "73c20eeb-ed16-4a1d-91a2-c10ee34cf9d4"
      },
      "outputs": [
        {
          "name": "stdout",
          "output_type": "stream",
          "text": [
            "15000 unidades produzidas de coca\n",
            "12000 unidades produzidas de pepsi\n",
            "13000 unidades produzidas de guarana\n",
            "5000 unidades produzidas de sprite\n",
            "250 unidades produzidas de fanta\n"
          ]
        }
      ],
      "source": [
        "produtos = ['coca', 'pepsi', 'guarana', 'sprite', 'fanta']\n",
        "producao = [15000, 12000, 13000, 5000, 250]\n",
        "\n",
        "tamanho = len(produtos)\n",
        "for i in range(tamanho):\n",
        "    print('{} unidades produzidas de {}'.format(producao[i], produtos[i]))"
      ]
    }
  ],
  "metadata": {
    "kernelspec": {
      "display_name": "Python 3",
      "language": "python",
      "name": "python3"
    },
    "language_info": {
      "codemirror_mode": {
        "name": "ipython",
        "version": 3
      },
      "file_extension": ".py",
      "mimetype": "text/x-python",
      "name": "python",
      "nbconvert_exporter": "python",
      "pygments_lexer": "ipython3",
      "version": "3.8.3"
    },
    "colab": {
      "name": "Gabarito - For 01.ipynb",
      "provenance": [],
      "include_colab_link": true
    }
  },
  "nbformat": 4,
  "nbformat_minor": 0
}