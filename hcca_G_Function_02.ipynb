{
  "cells": [
    {
      "cell_type": "markdown",
      "metadata": {
        "id": "view-in-github",
        "colab_type": "text"
      },
      "source": [
        "<a href=\"https://colab.research.google.com/github/hiramaralIA/M2_CETAM_IA_AULAS_PYTHON-AVANCADO/blob/main/hcca_G_Function_02.ipynb\" target=\"_parent\"><img src=\"https://colab.research.google.com/assets/colab-badge.svg\" alt=\"Open In Colab\"/></a>"
      ]
    },
    {
      "cell_type": "markdown",
      "metadata": {
        "id": "VK6ERAdpVsKA"
      },
      "source": [
        "# Retornar um valor na Function Python\n",
        "\n",
        "### Estrutura Básica"
      ]
    },
    {
      "cell_type": "raw",
      "metadata": {
        "id": "IOlbc0PdVsKG"
      },
      "source": [
        "def nome_funcao():\n",
        "    return valor_final"
      ]
    },
    {
      "cell_type": "markdown",
      "metadata": {
        "id": "334rF6p9VsKH"
      },
      "source": [
        "- Exemplo: vamos criar uma função de cadastro de um Produto. Essa função deve garantir que o produto cadastrado está em letra minúscula."
      ]
    },
    {
      "cell_type": "code",
      "execution_count": null,
      "metadata": {
        "id": "9LITrxwvVsKI"
      },
      "outputs": [],
      "source": [
        "def cadastrar_produto():\n",
        "    produto = input('Digite o nome do produto que deseja cadastrar')\n",
        "    produto = produto.casefold()\n",
        "    produto = produto.strip()\n",
        "    return produto\n"
      ]
    },
    {
      "cell_type": "code",
      "execution_count": null,
      "metadata": {
        "id": "ol_w8-9mVsKJ",
        "outputId": "a82aa207-e70c-4329-8d6e-4b7c4251d149"
      },
      "outputs": [
        {
          "name": "stdout",
          "output_type": "stream",
          "text": [
            "Digite o nome do produto que deseja cadastrarFeijaO\n",
            "feijao\n"
          ]
        }
      ],
      "source": [
        "produto = cadastrar_produto()\n",
        "\n",
        "print(produto)"
      ]
    }
  ],
  "metadata": {
    "kernelspec": {
      "display_name": "Python 3",
      "language": "python",
      "name": "python3"
    },
    "language_info": {
      "codemirror_mode": {
        "name": "ipython",
        "version": 3
      },
      "file_extension": ".py",
      "mimetype": "text/x-python",
      "name": "python",
      "nbconvert_exporter": "python",
      "pygments_lexer": "ipython3",
      "version": "3.8.3"
    },
    "colab": {
      "name": "Gabarito - Function 02.ipynb",
      "provenance": [],
      "include_colab_link": true
    }
  },
  "nbformat": 4,
  "nbformat_minor": 0
}