{
  "cells": [
    {
      "cell_type": "markdown",
      "metadata": {
        "id": "view-in-github",
        "colab_type": "text"
      },
      "source": [
        "<a href=\"https://colab.research.google.com/github/hiramaralIA/CETAM_IA_AULAS_PYTHON/blob/main/hcca_E_While_01.ipynb\" target=\"_parent\"><img src=\"https://colab.research.google.com/assets/colab-badge.svg\" alt=\"Open In Colab\"/></a>"
      ]
    },
    {
      "cell_type": "markdown",
      "metadata": {
        "id": "iE3q4OCCqDoU"
      },
      "source": [
        "# Estrutura while:\n",
        "\n",
        "### Funcionamento:\n",
        "\n",
        "Usamos o while quando queremos repetir um código de forma indeterminada até uma condição se tornar verdadeira/falsa.\n",
        "\n",
        "A lógica é: enquanto a condição for verdadeira, o while executa o código. Assim que ela terminar de ser verdadeira, o código \"sai\" do while."
      ]
    },
    {
      "cell_type": "raw",
      "metadata": {
        "id": "2CBK1URHqDoa"
      },
      "source": [
        "while condicao:\n",
        "    repete esse código"
      ]
    },
    {
      "cell_type": "markdown",
      "metadata": {
        "id": "NYBD3WK8qDob"
      },
      "source": [
        "- Exemplo: Quando criamos automações na internet\n",
        "- Exemplo2: Crie um programa que funcione como o registro de vendas de uma empresa.\n",
        "\n",
        "Nele, a pessoa deve inserir o nome do produto e o produto deve ser adicionado na lista de venda. Enquanto o usuário não encerrar o programa, significa que ele está registrando novos produtos, então o programa deve permitir e entrada de quantos produtos o usuário quiser."
      ]
    },
    {
      "cell_type": "code",
      "execution_count": null,
      "metadata": {
        "id": "3jSTnFAXqDoc",
        "outputId": "2d96f992-020d-45cb-e136-013ef5d181de"
      },
      "outputs": [
        {
          "name": "stdout",
          "output_type": "stream",
          "text": [
            "Registre um produto. Para cancelar o registro de um novo produto, basta apertar enter com a caixa vaziaarroz\n",
            "Registre um produto. Para cancelar o registro de um novo produto, basta apertar enter com a caixa vaziafeijao\n",
            "Registre um produto. Para cancelar o registro de um novo produto, basta apertar enter com a caixa vaziamacarrao\n",
            "Registre um produto. Para cancelar o registro de um novo produto, basta apertar enter com a caixa vaziavagem\n",
            "Registre um produto. Para cancelar o registro de um novo produto, basta apertar enter com a caixa vaziacenoura\n",
            "Registre um produto. Para cancelar o registro de um novo produto, basta apertar enter com a caixa vaziafrango\n",
            "Registre um produto. Para cancelar o registro de um novo produto, basta apertar enter com a caixa vazia\n",
            "Registro Finalizado. As vendas cadastradas foram: ['arroz', 'feijao', 'macarrao', 'vagem', 'cenoura', 'frango']\n"
          ]
        }
      ],
      "source": [
        "venda = input('Registre um produto. Para cancelar o registro de um novo produto, basta apertar enter com a caixa vazia')\n",
        "vendas = []\n",
        "#crie aqui o programa\n",
        "\n",
        "while venda != '':\n",
        "    vendas.append(venda)\n",
        "    venda = input('Registre um produto. Para cancelar o registro de um novo produto, basta apertar enter com a caixa vazia')\n",
        "\n",
        "\n",
        "print('Registro Finalizado. As vendas cadastradas foram: {}'.format(vendas))"
      ]
    }
  ],
  "metadata": {
    "kernelspec": {
      "display_name": "Python 3",
      "language": "python",
      "name": "python3"
    },
    "language_info": {
      "codemirror_mode": {
        "name": "ipython",
        "version": 3
      },
      "file_extension": ".py",
      "mimetype": "text/x-python",
      "name": "python",
      "nbconvert_exporter": "python",
      "pygments_lexer": "ipython3",
      "version": "3.8.3"
    },
    "colab": {
      "name": "Gabarito - While 01.ipynb",
      "provenance": [],
      "include_colab_link": true
    }
  },
  "nbformat": 4,
  "nbformat_minor": 0
}